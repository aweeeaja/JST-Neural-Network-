{
  "cells": [
    {
      "cell_type": "markdown",
      "metadata": {
        "id": "view-in-github",
        "colab_type": "text"
      },
      "source": [
        "<a href=\"https://colab.research.google.com/github/aweeeaja/JST-Neural-Network-/blob/main/Single_Layer_Perceptron.ipynb\" target=\"_parent\"><img src=\"https://colab.research.google.com/assets/colab-badge.svg\" alt=\"Open In Colab\"/></a>"
      ]
    },
    {
      "cell_type": "markdown",
      "metadata": {
        "id": "6yZI_V2w_3gY"
      },
      "source": [
        "#**Dataset Description**\n",
        "\n",
        "\n"
      ]
    },
    {
      "cell_type": "markdown",
      "metadata": {
        "id": "ZuoU4Bqk4JOP"
      },
      "source": [
        "\n",
        "\n",
        "Name     : nama penumpang\n",
        "\n",
        "\n",
        "Survived : Label yang menandakan penumpang selamat atau tidak\n",
        "\n",
        "\n",
        "Pclass   : kelas tiket penumpang\n",
        "\n",
        "\n",
        "Sex      : jenis kelamin penumpang\n",
        "\n",
        "\n",
        "Age      : usia penumpang\n",
        "\n",
        "\n",
        "SibSp    : jumlah saudara/pasangan penumpang yang berada di kapal\n",
        "\n",
        "\n",
        "Parch    : jumlah orang tua/anak penumpang yang berada di kapal\n",
        "\n",
        "\n",
        "Ticket   : nomor ticket penumpang\n",
        "\n",
        "\n",
        "Fare     : tarif penumpang membeli tiket\n",
        "\n",
        "\n",
        "Cabin    : nomor kabin penumpang\n",
        "\n",
        "\n",
        "Embarked : pelabuhan keberangkatan penumpang\n",
        "\n",
        "\n",
        "PasseggerId : ID penumpang"
      ]
    },
    {
      "cell_type": "markdown",
      "metadata": {
        "id": "CauJ6HaWJsZ6"
      },
      "source": [
        "# **Data Cleaning**"
      ]
    },
    {
      "cell_type": "code",
      "execution_count": null,
      "metadata": {
        "id": "6xXjwDEtL8LY"
      },
      "outputs": [],
      "source": [
        "import pandas as pd\n",
        "import numpy as np\n",
        "from sklearn.preprocessing import LabelEncoder\n",
        "from sklearn.preprocessing import MinMaxScaler\n",
        "from pandas import DataFrame"
      ]
    },
    {
      "cell_type": "markdown",
      "metadata": {
        "id": "xoCDO71BJ9r4"
      },
      "source": [
        "## **Data Train**"
      ]
    },
    {
      "cell_type": "code",
      "execution_count": null,
      "metadata": {
        "colab": {
          "base_uri": "https://localhost:8080/"
        },
        "id": "6Gmqy2q-_uhs",
        "outputId": "e026a582-1c33-4faf-93c2-d30964e27a6d"
      },
      "outputs": [
        {
          "output_type": "execute_result",
          "data": {
            "text/plain": [
              "   PassengerId  Survived  Pclass  \\\n",
              "0            1         0       3   \n",
              "1            2         1       1   \n",
              "2            3         1       3   \n",
              "3            4         1       1   \n",
              "4            5         0       3   \n",
              "\n",
              "                                                Name     Sex   Age  SibSp  \\\n",
              "0                            Braund, Mr. Owen Harris    male  22.0      1   \n",
              "1  Cumings, Mrs. John Bradley (Florence Briggs Th...  female  38.0      1   \n",
              "2                             Heikkinen, Miss. Laina  female  26.0      0   \n",
              "3       Futrelle, Mrs. Jacques Heath (Lily May Peel)  female  35.0      1   \n",
              "4                           Allen, Mr. William Henry    male  35.0      0   \n",
              "\n",
              "   Parch            Ticket     Fare Cabin Embarked  \n",
              "0      0         A/5 21171   7.2500   NaN        S  \n",
              "1      0          PC 17599  71.2833   C85        C  \n",
              "2      0  STON/O2. 3101282   7.9250   NaN        S  \n",
              "3      0            113803  53.1000  C123        S  \n",
              "4      0            373450   8.0500   NaN        S  "
            ],
            "text/html": [
              "\n",
              "  <div id=\"df-c2fddd56-9752-4902-9e90-9b6017938efb\" class=\"colab-df-container\">\n",
              "    <div>\n",
              "<style scoped>\n",
              "    .dataframe tbody tr th:only-of-type {\n",
              "        vertical-align: middle;\n",
              "    }\n",
              "\n",
              "    .dataframe tbody tr th {\n",
              "        vertical-align: top;\n",
              "    }\n",
              "\n",
              "    .dataframe thead th {\n",
              "        text-align: right;\n",
              "    }\n",
              "</style>\n",
              "<table border=\"1\" class=\"dataframe\">\n",
              "  <thead>\n",
              "    <tr style=\"text-align: right;\">\n",
              "      <th></th>\n",
              "      <th>PassengerId</th>\n",
              "      <th>Survived</th>\n",
              "      <th>Pclass</th>\n",
              "      <th>Name</th>\n",
              "      <th>Sex</th>\n",
              "      <th>Age</th>\n",
              "      <th>SibSp</th>\n",
              "      <th>Parch</th>\n",
              "      <th>Ticket</th>\n",
              "      <th>Fare</th>\n",
              "      <th>Cabin</th>\n",
              "      <th>Embarked</th>\n",
              "    </tr>\n",
              "  </thead>\n",
              "  <tbody>\n",
              "    <tr>\n",
              "      <th>0</th>\n",
              "      <td>1</td>\n",
              "      <td>0</td>\n",
              "      <td>3</td>\n",
              "      <td>Braund, Mr. Owen Harris</td>\n",
              "      <td>male</td>\n",
              "      <td>22.0</td>\n",
              "      <td>1</td>\n",
              "      <td>0</td>\n",
              "      <td>A/5 21171</td>\n",
              "      <td>7.2500</td>\n",
              "      <td>NaN</td>\n",
              "      <td>S</td>\n",
              "    </tr>\n",
              "    <tr>\n",
              "      <th>1</th>\n",
              "      <td>2</td>\n",
              "      <td>1</td>\n",
              "      <td>1</td>\n",
              "      <td>Cumings, Mrs. John Bradley (Florence Briggs Th...</td>\n",
              "      <td>female</td>\n",
              "      <td>38.0</td>\n",
              "      <td>1</td>\n",
              "      <td>0</td>\n",
              "      <td>PC 17599</td>\n",
              "      <td>71.2833</td>\n",
              "      <td>C85</td>\n",
              "      <td>C</td>\n",
              "    </tr>\n",
              "    <tr>\n",
              "      <th>2</th>\n",
              "      <td>3</td>\n",
              "      <td>1</td>\n",
              "      <td>3</td>\n",
              "      <td>Heikkinen, Miss. Laina</td>\n",
              "      <td>female</td>\n",
              "      <td>26.0</td>\n",
              "      <td>0</td>\n",
              "      <td>0</td>\n",
              "      <td>STON/O2. 3101282</td>\n",
              "      <td>7.9250</td>\n",
              "      <td>NaN</td>\n",
              "      <td>S</td>\n",
              "    </tr>\n",
              "    <tr>\n",
              "      <th>3</th>\n",
              "      <td>4</td>\n",
              "      <td>1</td>\n",
              "      <td>1</td>\n",
              "      <td>Futrelle, Mrs. Jacques Heath (Lily May Peel)</td>\n",
              "      <td>female</td>\n",
              "      <td>35.0</td>\n",
              "      <td>1</td>\n",
              "      <td>0</td>\n",
              "      <td>113803</td>\n",
              "      <td>53.1000</td>\n",
              "      <td>C123</td>\n",
              "      <td>S</td>\n",
              "    </tr>\n",
              "    <tr>\n",
              "      <th>4</th>\n",
              "      <td>5</td>\n",
              "      <td>0</td>\n",
              "      <td>3</td>\n",
              "      <td>Allen, Mr. William Henry</td>\n",
              "      <td>male</td>\n",
              "      <td>35.0</td>\n",
              "      <td>0</td>\n",
              "      <td>0</td>\n",
              "      <td>373450</td>\n",
              "      <td>8.0500</td>\n",
              "      <td>NaN</td>\n",
              "      <td>S</td>\n",
              "    </tr>\n",
              "  </tbody>\n",
              "</table>\n",
              "</div>\n",
              "    <div class=\"colab-df-buttons\">\n",
              "\n",
              "  <div class=\"colab-df-container\">\n",
              "    <button class=\"colab-df-convert\" onclick=\"convertToInteractive('df-c2fddd56-9752-4902-9e90-9b6017938efb')\"\n",
              "            title=\"Convert this dataframe to an interactive table.\"\n",
              "            style=\"display:none;\">\n",
              "\n",
              "  <svg xmlns=\"http://www.w3.org/2000/svg\" height=\"24px\" viewBox=\"0 -960 960 960\">\n",
              "    <path d=\"M120-120v-720h720v720H120Zm60-500h600v-160H180v160Zm220 220h160v-160H400v160Zm0 220h160v-160H400v160ZM180-400h160v-160H180v160Zm440 0h160v-160H620v160ZM180-180h160v-160H180v160Zm440 0h160v-160H620v160Z\"/>\n",
              "  </svg>\n",
              "    </button>\n",
              "\n",
              "  <style>\n",
              "    .colab-df-container {\n",
              "      display:flex;\n",
              "      gap: 12px;\n",
              "    }\n",
              "\n",
              "    .colab-df-convert {\n",
              "      background-color: #E8F0FE;\n",
              "      border: none;\n",
              "      border-radius: 50%;\n",
              "      cursor: pointer;\n",
              "      display: none;\n",
              "      fill: #1967D2;\n",
              "      height: 32px;\n",
              "      padding: 0 0 0 0;\n",
              "      width: 32px;\n",
              "    }\n",
              "\n",
              "    .colab-df-convert:hover {\n",
              "      background-color: #E2EBFA;\n",
              "      box-shadow: 0px 1px 2px rgba(60, 64, 67, 0.3), 0px 1px 3px 1px rgba(60, 64, 67, 0.15);\n",
              "      fill: #174EA6;\n",
              "    }\n",
              "\n",
              "    .colab-df-buttons div {\n",
              "      margin-bottom: 4px;\n",
              "    }\n",
              "\n",
              "    [theme=dark] .colab-df-convert {\n",
              "      background-color: #3B4455;\n",
              "      fill: #D2E3FC;\n",
              "    }\n",
              "\n",
              "    [theme=dark] .colab-df-convert:hover {\n",
              "      background-color: #434B5C;\n",
              "      box-shadow: 0px 1px 3px 1px rgba(0, 0, 0, 0.15);\n",
              "      filter: drop-shadow(0px 1px 2px rgba(0, 0, 0, 0.3));\n",
              "      fill: #FFFFFF;\n",
              "    }\n",
              "  </style>\n",
              "\n",
              "    <script>\n",
              "      const buttonEl =\n",
              "        document.querySelector('#df-c2fddd56-9752-4902-9e90-9b6017938efb button.colab-df-convert');\n",
              "      buttonEl.style.display =\n",
              "        google.colab.kernel.accessAllowed ? 'block' : 'none';\n",
              "\n",
              "      async function convertToInteractive(key) {\n",
              "        const element = document.querySelector('#df-c2fddd56-9752-4902-9e90-9b6017938efb');\n",
              "        const dataTable =\n",
              "          await google.colab.kernel.invokeFunction('convertToInteractive',\n",
              "                                                    [key], {});\n",
              "        if (!dataTable) return;\n",
              "\n",
              "        const docLinkHtml = 'Like what you see? Visit the ' +\n",
              "          '<a target=\"_blank\" href=https://colab.research.google.com/notebooks/data_table.ipynb>data table notebook</a>'\n",
              "          + ' to learn more about interactive tables.';\n",
              "        element.innerHTML = '';\n",
              "        dataTable['output_type'] = 'display_data';\n",
              "        await google.colab.output.renderOutput(dataTable, element);\n",
              "        const docLink = document.createElement('div');\n",
              "        docLink.innerHTML = docLinkHtml;\n",
              "        element.appendChild(docLink);\n",
              "      }\n",
              "    </script>\n",
              "  </div>\n",
              "\n",
              "\n",
              "<div id=\"df-72219874-a196-499a-a512-bfa86f4f9d4f\">\n",
              "  <button class=\"colab-df-quickchart\" onclick=\"quickchart('df-72219874-a196-499a-a512-bfa86f4f9d4f')\"\n",
              "            title=\"Suggest charts\"\n",
              "            style=\"display:none;\">\n",
              "\n",
              "<svg xmlns=\"http://www.w3.org/2000/svg\" height=\"24px\"viewBox=\"0 0 24 24\"\n",
              "     width=\"24px\">\n",
              "    <g>\n",
              "        <path d=\"M19 3H5c-1.1 0-2 .9-2 2v14c0 1.1.9 2 2 2h14c1.1 0 2-.9 2-2V5c0-1.1-.9-2-2-2zM9 17H7v-7h2v7zm4 0h-2V7h2v10zm4 0h-2v-4h2v4z\"/>\n",
              "    </g>\n",
              "</svg>\n",
              "  </button>\n",
              "\n",
              "<style>\n",
              "  .colab-df-quickchart {\n",
              "      --bg-color: #E8F0FE;\n",
              "      --fill-color: #1967D2;\n",
              "      --hover-bg-color: #E2EBFA;\n",
              "      --hover-fill-color: #174EA6;\n",
              "      --disabled-fill-color: #AAA;\n",
              "      --disabled-bg-color: #DDD;\n",
              "  }\n",
              "\n",
              "  [theme=dark] .colab-df-quickchart {\n",
              "      --bg-color: #3B4455;\n",
              "      --fill-color: #D2E3FC;\n",
              "      --hover-bg-color: #434B5C;\n",
              "      --hover-fill-color: #FFFFFF;\n",
              "      --disabled-bg-color: #3B4455;\n",
              "      --disabled-fill-color: #666;\n",
              "  }\n",
              "\n",
              "  .colab-df-quickchart {\n",
              "    background-color: var(--bg-color);\n",
              "    border: none;\n",
              "    border-radius: 50%;\n",
              "    cursor: pointer;\n",
              "    display: none;\n",
              "    fill: var(--fill-color);\n",
              "    height: 32px;\n",
              "    padding: 0;\n",
              "    width: 32px;\n",
              "  }\n",
              "\n",
              "  .colab-df-quickchart:hover {\n",
              "    background-color: var(--hover-bg-color);\n",
              "    box-shadow: 0 1px 2px rgba(60, 64, 67, 0.3), 0 1px 3px 1px rgba(60, 64, 67, 0.15);\n",
              "    fill: var(--button-hover-fill-color);\n",
              "  }\n",
              "\n",
              "  .colab-df-quickchart-complete:disabled,\n",
              "  .colab-df-quickchart-complete:disabled:hover {\n",
              "    background-color: var(--disabled-bg-color);\n",
              "    fill: var(--disabled-fill-color);\n",
              "    box-shadow: none;\n",
              "  }\n",
              "\n",
              "  .colab-df-spinner {\n",
              "    border: 2px solid var(--fill-color);\n",
              "    border-color: transparent;\n",
              "    border-bottom-color: var(--fill-color);\n",
              "    animation:\n",
              "      spin 1s steps(1) infinite;\n",
              "  }\n",
              "\n",
              "  @keyframes spin {\n",
              "    0% {\n",
              "      border-color: transparent;\n",
              "      border-bottom-color: var(--fill-color);\n",
              "      border-left-color: var(--fill-color);\n",
              "    }\n",
              "    20% {\n",
              "      border-color: transparent;\n",
              "      border-left-color: var(--fill-color);\n",
              "      border-top-color: var(--fill-color);\n",
              "    }\n",
              "    30% {\n",
              "      border-color: transparent;\n",
              "      border-left-color: var(--fill-color);\n",
              "      border-top-color: var(--fill-color);\n",
              "      border-right-color: var(--fill-color);\n",
              "    }\n",
              "    40% {\n",
              "      border-color: transparent;\n",
              "      border-right-color: var(--fill-color);\n",
              "      border-top-color: var(--fill-color);\n",
              "    }\n",
              "    60% {\n",
              "      border-color: transparent;\n",
              "      border-right-color: var(--fill-color);\n",
              "    }\n",
              "    80% {\n",
              "      border-color: transparent;\n",
              "      border-right-color: var(--fill-color);\n",
              "      border-bottom-color: var(--fill-color);\n",
              "    }\n",
              "    90% {\n",
              "      border-color: transparent;\n",
              "      border-bottom-color: var(--fill-color);\n",
              "    }\n",
              "  }\n",
              "</style>\n",
              "\n",
              "  <script>\n",
              "    async function quickchart(key) {\n",
              "      const quickchartButtonEl =\n",
              "        document.querySelector('#' + key + ' button');\n",
              "      quickchartButtonEl.disabled = true;  // To prevent multiple clicks.\n",
              "      quickchartButtonEl.classList.add('colab-df-spinner');\n",
              "      try {\n",
              "        const charts = await google.colab.kernel.invokeFunction(\n",
              "            'suggestCharts', [key], {});\n",
              "      } catch (error) {\n",
              "        console.error('Error during call to suggestCharts:', error);\n",
              "      }\n",
              "      quickchartButtonEl.classList.remove('colab-df-spinner');\n",
              "      quickchartButtonEl.classList.add('colab-df-quickchart-complete');\n",
              "    }\n",
              "    (() => {\n",
              "      let quickchartButtonEl =\n",
              "        document.querySelector('#df-72219874-a196-499a-a512-bfa86f4f9d4f button');\n",
              "      quickchartButtonEl.style.display =\n",
              "        google.colab.kernel.accessAllowed ? 'block' : 'none';\n",
              "    })();\n",
              "  </script>\n",
              "</div>\n",
              "    </div>\n",
              "  </div>\n"
            ]
          },
          "metadata": {},
          "execution_count": 170
        }
      ],
      "source": [
        "# Membaca data train\n",
        "df = pd.read_csv('train_data_cl_v2.csv')\n",
        "df_train = df\n",
        "df_train.head()"
      ]
    },
    {
      "cell_type": "code",
      "execution_count": null,
      "metadata": {
        "colab": {
          "base_uri": "https://localhost:8080/"
        },
        "id": "kvVlVPqLNQzh",
        "outputId": "7e4e73b6-14fd-4b6a-ebfe-af1417e29065"
      },
      "outputs": [
        {
          "output_type": "execute_result",
          "data": {
            "text/plain": [
              "<bound method NDFrame.describe of      PassengerId  Survived  Pclass  \\\n",
              "0              1         0       3   \n",
              "1              2         1       1   \n",
              "2              3         1       3   \n",
              "3              4         1       1   \n",
              "4              5         0       3   \n",
              "..           ...       ...     ...   \n",
              "707          886         0       3   \n",
              "708          887         0       2   \n",
              "709          888         1       1   \n",
              "710          890         1       1   \n",
              "711          891         0       3   \n",
              "\n",
              "                                                  Name     Sex   Age  SibSp  \\\n",
              "0                              Braund, Mr. Owen Harris    male  22.0      1   \n",
              "1    Cumings, Mrs. John Bradley (Florence Briggs Th...  female  38.0      1   \n",
              "2                               Heikkinen, Miss. Laina  female  26.0      0   \n",
              "3         Futrelle, Mrs. Jacques Heath (Lily May Peel)  female  35.0      1   \n",
              "4                             Allen, Mr. William Henry    male  35.0      0   \n",
              "..                                                 ...     ...   ...    ...   \n",
              "707               Rice, Mrs. William (Margaret Norton)  female  39.0      0   \n",
              "708                              Montvila, Rev. Juozas    male  27.0      0   \n",
              "709                       Graham, Miss. Margaret Edith  female  19.0      0   \n",
              "710                              Behr, Mr. Karl Howell    male  26.0      0   \n",
              "711                                Dooley, Mr. Patrick    male  32.0      0   \n",
              "\n",
              "     Parch            Ticket     Fare Cabin Embarked  \n",
              "0        0         A/5 21171   7.2500   NaN        S  \n",
              "1        0          PC 17599  71.2833   C85        C  \n",
              "2        0  STON/O2. 3101282   7.9250   NaN        S  \n",
              "3        0            113803  53.1000  C123        S  \n",
              "4        0            373450   8.0500   NaN        S  \n",
              "..     ...               ...      ...   ...      ...  \n",
              "707      5            382652  29.1250   NaN        Q  \n",
              "708      0            211536  13.0000   NaN        S  \n",
              "709      0            112053  30.0000   B42        S  \n",
              "710      0            111369  30.0000  C148        C  \n",
              "711      0            370376   7.7500   NaN        Q  \n",
              "\n",
              "[712 rows x 12 columns]>"
            ]
          },
          "metadata": {},
          "execution_count": 171
        }
      ],
      "source": [
        "# deskripsi data train\n",
        "df_train.shape\n",
        "df_train.describe"
      ]
    },
    {
      "cell_type": "code",
      "execution_count": null,
      "metadata": {
        "colab": {
          "base_uri": "https://localhost:8080/"
        },
        "id": "mwmVQWUjspm6",
        "outputId": "75399955-61f7-4fe6-89c2-9757892a546d"
      },
      "outputs": [
        {
          "output_type": "stream",
          "name": "stdout",
          "text": [
            "<class 'pandas.core.frame.DataFrame'>\n",
            "RangeIndex: 712 entries, 0 to 711\n",
            "Data columns (total 12 columns):\n",
            " #   Column       Non-Null Count  Dtype  \n",
            "---  ------       --------------  -----  \n",
            " 0   PassengerId  712 non-null    int64  \n",
            " 1   Survived     712 non-null    int64  \n",
            " 2   Pclass       712 non-null    int64  \n",
            " 3   Name         712 non-null    object \n",
            " 4   Sex          712 non-null    object \n",
            " 5   Age          712 non-null    float64\n",
            " 6   SibSp        712 non-null    int64  \n",
            " 7   Parch        712 non-null    int64  \n",
            " 8   Ticket       712 non-null    object \n",
            " 9   Fare         712 non-null    float64\n",
            " 10  Cabin        183 non-null    object \n",
            " 11  Embarked     712 non-null    object \n",
            "dtypes: float64(2), int64(5), object(5)\n",
            "memory usage: 66.9+ KB\n"
          ]
        }
      ],
      "source": [
        "# info data train\n",
        "df_train.info()"
      ]
    },
    {
      "cell_type": "code",
      "execution_count": null,
      "metadata": {
        "colab": {
          "base_uri": "https://localhost:8080/"
        },
        "id": "-0RrcEH6M2aY",
        "outputId": "25ac592b-7a28-4494-c28f-961b2616c13a"
      },
      "outputs": [
        {
          "output_type": "execute_result",
          "data": {
            "text/plain": [
              "True"
            ]
          },
          "metadata": {},
          "execution_count": 173
        }
      ],
      "source": [
        "# cek apakah ada missing value data train\n",
        "df_train.isnull().values.any()"
      ]
    },
    {
      "cell_type": "code",
      "execution_count": null,
      "metadata": {
        "colab": {
          "base_uri": "https://localhost:8080/"
        },
        "id": "sYP0hAMTM7r4",
        "outputId": "76acafe0-0830-4060-a120-0c0f3a33ca4c"
      },
      "outputs": [
        {
          "output_type": "execute_result",
          "data": {
            "text/plain": [
              "529"
            ]
          },
          "metadata": {},
          "execution_count": 174
        }
      ],
      "source": [
        "# Cek banyaknya Missing value data train\n",
        "df_train.isnull().sum().sum()"
      ]
    },
    {
      "cell_type": "code",
      "execution_count": null,
      "metadata": {
        "colab": {
          "base_uri": "https://localhost:8080/"
        },
        "id": "unua6RKKNFp-",
        "outputId": "003eaca3-64f9-46dd-a2b4-451841a9ea00"
      },
      "outputs": [
        {
          "output_type": "execute_result",
          "data": {
            "text/plain": [
              "PassengerId      0\n",
              "Survived         0\n",
              "Pclass           0\n",
              "Name             0\n",
              "Sex              0\n",
              "Age              0\n",
              "SibSp            0\n",
              "Parch            0\n",
              "Ticket           0\n",
              "Fare             0\n",
              "Cabin          529\n",
              "Embarked         0\n",
              "dtype: int64"
            ]
          },
          "metadata": {},
          "execution_count": 175
        }
      ],
      "source": [
        "# Melihat berapa banyak missing value dari semua atribut dari data train\n",
        "df_train.isnull().sum()"
      ]
    },
    {
      "cell_type": "code",
      "execution_count": null,
      "metadata": {
        "colab": {
          "base_uri": "https://localhost:8080/"
        },
        "id": "sBA4Io1cz88c",
        "outputId": "97690ee0-75a0-4fe6-c1c1-fda67386f6ee"
      },
      "outputs": [
        {
          "output_type": "stream",
          "name": "stdout",
          "text": [
            "DataFrame asli:\n",
            "     PassengerId  Survived  Pclass  \\\n",
            "0              1         0       3   \n",
            "1              2         1       1   \n",
            "2              3         1       3   \n",
            "3              4         1       1   \n",
            "4              5         0       3   \n",
            "..           ...       ...     ...   \n",
            "707          886         0       3   \n",
            "708          887         0       2   \n",
            "709          888         1       1   \n",
            "710          890         1       1   \n",
            "711          891         0       3   \n",
            "\n",
            "                                                  Name     Sex   Age  SibSp  \\\n",
            "0                              Braund, Mr. Owen Harris    male  22.0      1   \n",
            "1    Cumings, Mrs. John Bradley (Florence Briggs Th...  female  38.0      1   \n",
            "2                               Heikkinen, Miss. Laina  female  26.0      0   \n",
            "3         Futrelle, Mrs. Jacques Heath (Lily May Peel)  female  35.0      1   \n",
            "4                             Allen, Mr. William Henry    male  35.0      0   \n",
            "..                                                 ...     ...   ...    ...   \n",
            "707               Rice, Mrs. William (Margaret Norton)  female  39.0      0   \n",
            "708                              Montvila, Rev. Juozas    male  27.0      0   \n",
            "709                       Graham, Miss. Margaret Edith  female  19.0      0   \n",
            "710                              Behr, Mr. Karl Howell    male  26.0      0   \n",
            "711                                Dooley, Mr. Patrick    male  32.0      0   \n",
            "\n",
            "     Parch            Ticket     Fare Cabin Embarked  \n",
            "0        0         A/5 21171   7.2500   D37        S  \n",
            "1        0          PC 17599  71.2833   C85        C  \n",
            "2        0  STON/O2. 3101282   7.9250   A34        S  \n",
            "3        0            113803  53.1000  C123        S  \n",
            "4        0            373450   8.0500   E25        S  \n",
            "..     ...               ...      ...   ...      ...  \n",
            "707      5            382652  29.1250   C30        Q  \n",
            "708      0            211536  13.0000   A31        S  \n",
            "709      0            112053  30.0000   B42        S  \n",
            "710      0            111369  30.0000  C148        C  \n",
            "711      0            370376   7.7500   B49        Q  \n",
            "\n",
            "[712 rows x 12 columns]\n",
            "\n",
            "DataFrame setelah mengisi missing value NaN pada kolom tertentu dengan data random:\n",
            "     PassengerId  Survived  Pclass  \\\n",
            "0              1         0       3   \n",
            "1              2         1       1   \n",
            "2              3         1       3   \n",
            "3              4         1       1   \n",
            "4              5         0       3   \n",
            "..           ...       ...     ...   \n",
            "707          886         0       3   \n",
            "708          887         0       2   \n",
            "709          888         1       1   \n",
            "710          890         1       1   \n",
            "711          891         0       3   \n",
            "\n",
            "                                                  Name     Sex   Age  SibSp  \\\n",
            "0                              Braund, Mr. Owen Harris    male  22.0      1   \n",
            "1    Cumings, Mrs. John Bradley (Florence Briggs Th...  female  38.0      1   \n",
            "2                               Heikkinen, Miss. Laina  female  26.0      0   \n",
            "3         Futrelle, Mrs. Jacques Heath (Lily May Peel)  female  35.0      1   \n",
            "4                             Allen, Mr. William Henry    male  35.0      0   \n",
            "..                                                 ...     ...   ...    ...   \n",
            "707               Rice, Mrs. William (Margaret Norton)  female  39.0      0   \n",
            "708                              Montvila, Rev. Juozas    male  27.0      0   \n",
            "709                       Graham, Miss. Margaret Edith  female  19.0      0   \n",
            "710                              Behr, Mr. Karl Howell    male  26.0      0   \n",
            "711                                Dooley, Mr. Patrick    male  32.0      0   \n",
            "\n",
            "     Parch            Ticket     Fare Cabin Embarked  \n",
            "0        0         A/5 21171   7.2500   D37        S  \n",
            "1        0          PC 17599  71.2833   C85        C  \n",
            "2        0  STON/O2. 3101282   7.9250   A34        S  \n",
            "3        0            113803  53.1000  C123        S  \n",
            "4        0            373450   8.0500   E25        S  \n",
            "..     ...               ...      ...   ...      ...  \n",
            "707      5            382652  29.1250   C30        Q  \n",
            "708      0            211536  13.0000   A31        S  \n",
            "709      0            112053  30.0000   B42        S  \n",
            "710      0            111369  30.0000  C148        C  \n",
            "711      0            370376   7.7500   B49        Q  \n",
            "\n",
            "[712 rows x 12 columns]\n"
          ]
        }
      ],
      "source": [
        "# Mengisi missing value NaN pada kolom tertentu dengan data random\n",
        "columns_to_fill = ['Cabin']  # Kolom yang ingin diisi missing value dengan data random\n",
        "\n",
        "for col in columns_to_fill:\n",
        "    mask = df_train[col].isnull()  # Membuat mask untuk mendeteksi missing value NaN\n",
        "    random_values = np.random.choice(df_train.loc[~mask, col], mask.sum())  # Memilih data random dari kolom yang tidak null\n",
        "    df_train.loc[mask, col] = random_values  # Mengisi missing value dengan data random\n",
        "\n",
        "print(\"DataFrame asli:\")\n",
        "print(df)\n",
        "\n",
        "print(\"\\nDataFrame setelah mengisi missing value NaN pada kolom tertentu dengan data random:\")\n",
        "print(df_train)"
      ]
    },
    {
      "cell_type": "code",
      "execution_count": null,
      "metadata": {
        "colab": {
          "base_uri": "https://localhost:8080/"
        },
        "id": "D_JPCNbT1IZH",
        "outputId": "2123f5f0-5210-43c8-d0df-bbf469bd328b"
      },
      "outputs": [
        {
          "output_type": "execute_result",
          "data": {
            "text/plain": [
              "PassengerId    0\n",
              "Survived       0\n",
              "Pclass         0\n",
              "Name           0\n",
              "Sex            0\n",
              "Age            0\n",
              "SibSp          0\n",
              "Parch          0\n",
              "Ticket         0\n",
              "Fare           0\n",
              "Cabin          0\n",
              "Embarked       0\n",
              "dtype: int64"
            ]
          },
          "metadata": {},
          "execution_count": 177
        }
      ],
      "source": [
        "# cek lagi missing value atribut Cabin\n",
        "df_train.isnull().sum()"
      ]
    },
    {
      "cell_type": "code",
      "execution_count": null,
      "metadata": {
        "colab": {
          "base_uri": "https://localhost:8080/"
        },
        "id": "Fmda-zd11-SR",
        "outputId": "9149bd4c-f217-420a-d4cf-cf9c763749b5"
      },
      "outputs": [
        {
          "output_type": "stream",
          "name": "stdout",
          "text": [
            "    PassengerId  Survived  Pclass  \\\n",
            "0             1         0       3   \n",
            "1             2         1       1   \n",
            "2             3         1       3   \n",
            "3             4         1       1   \n",
            "4             5         0       3   \n",
            "5             7         0       1   \n",
            "6             8         0       3   \n",
            "7             9         1       3   \n",
            "8            10         1       2   \n",
            "9            11         1       3   \n",
            "10           12         1       1   \n",
            "11           13         0       3   \n",
            "12           14         0       3   \n",
            "13           15         0       3   \n",
            "14           16         1       2   \n",
            "15           17         0       3   \n",
            "16           19         0       3   \n",
            "17           21         0       2   \n",
            "18           22         1       2   \n",
            "19           23         1       3   \n",
            "20           24         1       1   \n",
            "21           25         0       3   \n",
            "22           26         1       3   \n",
            "23           28         0       1   \n",
            "24           31         0       1   \n",
            "\n",
            "                                                 Name  Sex   Age  SibSp  \\\n",
            "0                             Braund, Mr. Owen Harris    1  22.0      1   \n",
            "1   Cumings, Mrs. John Bradley (Florence Briggs Th...    0  38.0      1   \n",
            "2                              Heikkinen, Miss. Laina    0  26.0      0   \n",
            "3        Futrelle, Mrs. Jacques Heath (Lily May Peel)    0  35.0      1   \n",
            "4                            Allen, Mr. William Henry    1  35.0      0   \n",
            "5                             McCarthy, Mr. Timothy J    1  54.0      0   \n",
            "6                      Palsson, Master. Gosta Leonard    1   2.0      3   \n",
            "7   Johnson, Mrs. Oscar W (Elisabeth Vilhelmina Berg)    0  27.0      0   \n",
            "8                 Nasser, Mrs. Nicholas (Adele Achem)    0  14.0      1   \n",
            "9                     Sandstrom, Miss. Marguerite Rut    0   4.0      1   \n",
            "10                           Bonnell, Miss. Elizabeth    0  58.0      0   \n",
            "11                     Saundercock, Mr. William Henry    1  20.0      0   \n",
            "12                        Andersson, Mr. Anders Johan    1  39.0      1   \n",
            "13               Vestrom, Miss. Hulda Amanda Adolfina    0  14.0      0   \n",
            "14                   Hewlett, Mrs. (Mary D Kingcome)     0  55.0      0   \n",
            "15                               Rice, Master. Eugene    1   2.0      4   \n",
            "16  Vander Planke, Mrs. Julius (Emelia Maria Vande...    0  31.0      1   \n",
            "17                               Fynney, Mr. Joseph J    1  35.0      0   \n",
            "18                              Beesley, Mr. Lawrence    1  34.0      0   \n",
            "19                        McGowan, Miss. Anna \"Annie\"    0  15.0      0   \n",
            "20                       Sloper, Mr. William Thompson    1  28.0      0   \n",
            "21                      Palsson, Miss. Torborg Danira    0   8.0      3   \n",
            "22  Asplund, Mrs. Carl Oscar (Selma Augusta Emilia...    0  38.0      1   \n",
            "23                     Fortune, Mr. Charles Alexander    1  19.0      3   \n",
            "24                           Uruchurtu, Don. Manuel E    1  40.0      0   \n",
            "\n",
            "    Parch            Ticket      Fare        Cabin  Embarked  \n",
            "0       0         A/5 21171    7.2500          D37         2  \n",
            "1       0          PC 17599   71.2833          C85         0  \n",
            "2       0  STON/O2. 3101282    7.9250          A34         2  \n",
            "3       0            113803   53.1000         C123         2  \n",
            "4       0            373450    8.0500          E25         2  \n",
            "5       0             17463   51.8625          E46         2  \n",
            "6       1            349909   21.0750          D20         2  \n",
            "7       2            347742   11.1333          E25         2  \n",
            "8       0            237736   30.0708           E8         0  \n",
            "9       1           PP 9549   16.7000           G6         2  \n",
            "10      0            113783   26.5500         C103         2  \n",
            "11      0         A/5. 2151    8.0500          B50         2  \n",
            "12      5            347082   31.2750          C45         2  \n",
            "13      0            350406    7.8542            D         2  \n",
            "14      0            248706   16.0000         C123         2  \n",
            "15      1            382652   29.1250          A34         1  \n",
            "16      0            345763   18.0000          D30         2  \n",
            "17      0            239865   26.0000          D15         2  \n",
            "18      0            248698   13.0000          D56         2  \n",
            "19      0            330923    8.0292          A23         1  \n",
            "20      0            113788   35.5000           A6         2  \n",
            "21      1            349909   21.0750         E101         2  \n",
            "22      5            347077   31.3875      B96 B98         2  \n",
            "23      2             19950  263.0000  C23 C25 C27         2  \n",
            "24      0          PC 17601   27.7208          E36         0  \n"
          ]
        }
      ],
      "source": [
        "# Mengubah tipe data atribut Sex dan atribut Embarked menjaditipe data  boolean\n",
        "\n",
        "# Kolom yang ingin diubah tipe datanya\n",
        "columns_to_convert = ['Sex', 'Embarked']\n",
        "\n",
        "# Menggunakan LabelEncoder untuk mengubah 'Sex' dan 'Embarked' menjadi tipe data boolean\n",
        "le = LabelEncoder()\n",
        "\n",
        "for col in columns_to_convert:\n",
        "    if df_train[col].dtype == 'object':\n",
        "        df_train[col] = le.fit_transform(df_train[col])\n",
        "\n",
        "# Menampilkan DataFrame setelah transformasi\n",
        "print(df_train.head(25))"
      ]
    },
    {
      "cell_type": "markdown",
      "metadata": {
        "id": "MYRD_jrr90Kt"
      },
      "source": [
        "##**Data Test**"
      ]
    },
    {
      "cell_type": "code",
      "execution_count": null,
      "metadata": {
        "colab": {
          "base_uri": "https://localhost:8080/"
        },
        "id": "E1dljkTOL6Zs",
        "outputId": "fc6dc0e3-ef00-445f-fa89-3952a63f7e4f"
      },
      "outputs": [
        {
          "output_type": "execute_result",
          "data": {
            "text/plain": [
              "   PassengerId  Pclass                                          Name     Sex  \\\n",
              "0          892       3                              Kelly, Mr. James    male   \n",
              "1          893       3              Wilkes, Mrs. James (Ellen Needs)  female   \n",
              "2          894       2                     Myles, Mr. Thomas Francis    male   \n",
              "3          895       3                              Wirz, Mr. Albert    male   \n",
              "4          896       3  Hirvonen, Mrs. Alexander (Helga E Lindqvist)  female   \n",
              "5          897       3                    Svensson, Mr. Johan Cervin    male   \n",
              "6          898       3                          Connolly, Miss. Kate  female   \n",
              "7          899       2                  Caldwell, Mr. Albert Francis    male   \n",
              "8          900       3     Abrahim, Mrs. Joseph (Sophie Halaut Easu)  female   \n",
              "9          901       3                       Davies, Mr. John Samuel    male   \n",
              "\n",
              "    Age  SibSp  Parch     Ticket     Fare Cabin Embarked  \n",
              "0  34.5      0      0     330911   7.8292   NaN        Q  \n",
              "1  47.0      1      0     363272   7.0000   NaN        S  \n",
              "2  62.0      0      0     240276   9.6875   NaN        Q  \n",
              "3  27.0      0      0     315154   8.6625   NaN        S  \n",
              "4  22.0      1      1    3101298  12.2875   NaN        S  \n",
              "5  14.0      0      0       7538   9.2250   NaN        S  \n",
              "6  30.0      0      0     330972   7.6292   NaN        Q  \n",
              "7  26.0      1      1     248738  29.0000   NaN        S  \n",
              "8  18.0      0      0       2657   7.2292   NaN        C  \n",
              "9  21.0      2      0  A/4 48871  24.1500   NaN        S  "
            ],
            "text/html": [
              "\n",
              "  <div id=\"df-2c79d113-b4f6-4218-8547-76933602123a\" class=\"colab-df-container\">\n",
              "    <div>\n",
              "<style scoped>\n",
              "    .dataframe tbody tr th:only-of-type {\n",
              "        vertical-align: middle;\n",
              "    }\n",
              "\n",
              "    .dataframe tbody tr th {\n",
              "        vertical-align: top;\n",
              "    }\n",
              "\n",
              "    .dataframe thead th {\n",
              "        text-align: right;\n",
              "    }\n",
              "</style>\n",
              "<table border=\"1\" class=\"dataframe\">\n",
              "  <thead>\n",
              "    <tr style=\"text-align: right;\">\n",
              "      <th></th>\n",
              "      <th>PassengerId</th>\n",
              "      <th>Pclass</th>\n",
              "      <th>Name</th>\n",
              "      <th>Sex</th>\n",
              "      <th>Age</th>\n",
              "      <th>SibSp</th>\n",
              "      <th>Parch</th>\n",
              "      <th>Ticket</th>\n",
              "      <th>Fare</th>\n",
              "      <th>Cabin</th>\n",
              "      <th>Embarked</th>\n",
              "    </tr>\n",
              "  </thead>\n",
              "  <tbody>\n",
              "    <tr>\n",
              "      <th>0</th>\n",
              "      <td>892</td>\n",
              "      <td>3</td>\n",
              "      <td>Kelly, Mr. James</td>\n",
              "      <td>male</td>\n",
              "      <td>34.5</td>\n",
              "      <td>0</td>\n",
              "      <td>0</td>\n",
              "      <td>330911</td>\n",
              "      <td>7.8292</td>\n",
              "      <td>NaN</td>\n",
              "      <td>Q</td>\n",
              "    </tr>\n",
              "    <tr>\n",
              "      <th>1</th>\n",
              "      <td>893</td>\n",
              "      <td>3</td>\n",
              "      <td>Wilkes, Mrs. James (Ellen Needs)</td>\n",
              "      <td>female</td>\n",
              "      <td>47.0</td>\n",
              "      <td>1</td>\n",
              "      <td>0</td>\n",
              "      <td>363272</td>\n",
              "      <td>7.0000</td>\n",
              "      <td>NaN</td>\n",
              "      <td>S</td>\n",
              "    </tr>\n",
              "    <tr>\n",
              "      <th>2</th>\n",
              "      <td>894</td>\n",
              "      <td>2</td>\n",
              "      <td>Myles, Mr. Thomas Francis</td>\n",
              "      <td>male</td>\n",
              "      <td>62.0</td>\n",
              "      <td>0</td>\n",
              "      <td>0</td>\n",
              "      <td>240276</td>\n",
              "      <td>9.6875</td>\n",
              "      <td>NaN</td>\n",
              "      <td>Q</td>\n",
              "    </tr>\n",
              "    <tr>\n",
              "      <th>3</th>\n",
              "      <td>895</td>\n",
              "      <td>3</td>\n",
              "      <td>Wirz, Mr. Albert</td>\n",
              "      <td>male</td>\n",
              "      <td>27.0</td>\n",
              "      <td>0</td>\n",
              "      <td>0</td>\n",
              "      <td>315154</td>\n",
              "      <td>8.6625</td>\n",
              "      <td>NaN</td>\n",
              "      <td>S</td>\n",
              "    </tr>\n",
              "    <tr>\n",
              "      <th>4</th>\n",
              "      <td>896</td>\n",
              "      <td>3</td>\n",
              "      <td>Hirvonen, Mrs. Alexander (Helga E Lindqvist)</td>\n",
              "      <td>female</td>\n",
              "      <td>22.0</td>\n",
              "      <td>1</td>\n",
              "      <td>1</td>\n",
              "      <td>3101298</td>\n",
              "      <td>12.2875</td>\n",
              "      <td>NaN</td>\n",
              "      <td>S</td>\n",
              "    </tr>\n",
              "    <tr>\n",
              "      <th>5</th>\n",
              "      <td>897</td>\n",
              "      <td>3</td>\n",
              "      <td>Svensson, Mr. Johan Cervin</td>\n",
              "      <td>male</td>\n",
              "      <td>14.0</td>\n",
              "      <td>0</td>\n",
              "      <td>0</td>\n",
              "      <td>7538</td>\n",
              "      <td>9.2250</td>\n",
              "      <td>NaN</td>\n",
              "      <td>S</td>\n",
              "    </tr>\n",
              "    <tr>\n",
              "      <th>6</th>\n",
              "      <td>898</td>\n",
              "      <td>3</td>\n",
              "      <td>Connolly, Miss. Kate</td>\n",
              "      <td>female</td>\n",
              "      <td>30.0</td>\n",
              "      <td>0</td>\n",
              "      <td>0</td>\n",
              "      <td>330972</td>\n",
              "      <td>7.6292</td>\n",
              "      <td>NaN</td>\n",
              "      <td>Q</td>\n",
              "    </tr>\n",
              "    <tr>\n",
              "      <th>7</th>\n",
              "      <td>899</td>\n",
              "      <td>2</td>\n",
              "      <td>Caldwell, Mr. Albert Francis</td>\n",
              "      <td>male</td>\n",
              "      <td>26.0</td>\n",
              "      <td>1</td>\n",
              "      <td>1</td>\n",
              "      <td>248738</td>\n",
              "      <td>29.0000</td>\n",
              "      <td>NaN</td>\n",
              "      <td>S</td>\n",
              "    </tr>\n",
              "    <tr>\n",
              "      <th>8</th>\n",
              "      <td>900</td>\n",
              "      <td>3</td>\n",
              "      <td>Abrahim, Mrs. Joseph (Sophie Halaut Easu)</td>\n",
              "      <td>female</td>\n",
              "      <td>18.0</td>\n",
              "      <td>0</td>\n",
              "      <td>0</td>\n",
              "      <td>2657</td>\n",
              "      <td>7.2292</td>\n",
              "      <td>NaN</td>\n",
              "      <td>C</td>\n",
              "    </tr>\n",
              "    <tr>\n",
              "      <th>9</th>\n",
              "      <td>901</td>\n",
              "      <td>3</td>\n",
              "      <td>Davies, Mr. John Samuel</td>\n",
              "      <td>male</td>\n",
              "      <td>21.0</td>\n",
              "      <td>2</td>\n",
              "      <td>0</td>\n",
              "      <td>A/4 48871</td>\n",
              "      <td>24.1500</td>\n",
              "      <td>NaN</td>\n",
              "      <td>S</td>\n",
              "    </tr>\n",
              "  </tbody>\n",
              "</table>\n",
              "</div>\n",
              "    <div class=\"colab-df-buttons\">\n",
              "\n",
              "  <div class=\"colab-df-container\">\n",
              "    <button class=\"colab-df-convert\" onclick=\"convertToInteractive('df-2c79d113-b4f6-4218-8547-76933602123a')\"\n",
              "            title=\"Convert this dataframe to an interactive table.\"\n",
              "            style=\"display:none;\">\n",
              "\n",
              "  <svg xmlns=\"http://www.w3.org/2000/svg\" height=\"24px\" viewBox=\"0 -960 960 960\">\n",
              "    <path d=\"M120-120v-720h720v720H120Zm60-500h600v-160H180v160Zm220 220h160v-160H400v160Zm0 220h160v-160H400v160ZM180-400h160v-160H180v160Zm440 0h160v-160H620v160ZM180-180h160v-160H180v160Zm440 0h160v-160H620v160Z\"/>\n",
              "  </svg>\n",
              "    </button>\n",
              "\n",
              "  <style>\n",
              "    .colab-df-container {\n",
              "      display:flex;\n",
              "      gap: 12px;\n",
              "    }\n",
              "\n",
              "    .colab-df-convert {\n",
              "      background-color: #E8F0FE;\n",
              "      border: none;\n",
              "      border-radius: 50%;\n",
              "      cursor: pointer;\n",
              "      display: none;\n",
              "      fill: #1967D2;\n",
              "      height: 32px;\n",
              "      padding: 0 0 0 0;\n",
              "      width: 32px;\n",
              "    }\n",
              "\n",
              "    .colab-df-convert:hover {\n",
              "      background-color: #E2EBFA;\n",
              "      box-shadow: 0px 1px 2px rgba(60, 64, 67, 0.3), 0px 1px 3px 1px rgba(60, 64, 67, 0.15);\n",
              "      fill: #174EA6;\n",
              "    }\n",
              "\n",
              "    .colab-df-buttons div {\n",
              "      margin-bottom: 4px;\n",
              "    }\n",
              "\n",
              "    [theme=dark] .colab-df-convert {\n",
              "      background-color: #3B4455;\n",
              "      fill: #D2E3FC;\n",
              "    }\n",
              "\n",
              "    [theme=dark] .colab-df-convert:hover {\n",
              "      background-color: #434B5C;\n",
              "      box-shadow: 0px 1px 3px 1px rgba(0, 0, 0, 0.15);\n",
              "      filter: drop-shadow(0px 1px 2px rgba(0, 0, 0, 0.3));\n",
              "      fill: #FFFFFF;\n",
              "    }\n",
              "  </style>\n",
              "\n",
              "    <script>\n",
              "      const buttonEl =\n",
              "        document.querySelector('#df-2c79d113-b4f6-4218-8547-76933602123a button.colab-df-convert');\n",
              "      buttonEl.style.display =\n",
              "        google.colab.kernel.accessAllowed ? 'block' : 'none';\n",
              "\n",
              "      async function convertToInteractive(key) {\n",
              "        const element = document.querySelector('#df-2c79d113-b4f6-4218-8547-76933602123a');\n",
              "        const dataTable =\n",
              "          await google.colab.kernel.invokeFunction('convertToInteractive',\n",
              "                                                    [key], {});\n",
              "        if (!dataTable) return;\n",
              "\n",
              "        const docLinkHtml = 'Like what you see? Visit the ' +\n",
              "          '<a target=\"_blank\" href=https://colab.research.google.com/notebooks/data_table.ipynb>data table notebook</a>'\n",
              "          + ' to learn more about interactive tables.';\n",
              "        element.innerHTML = '';\n",
              "        dataTable['output_type'] = 'display_data';\n",
              "        await google.colab.output.renderOutput(dataTable, element);\n",
              "        const docLink = document.createElement('div');\n",
              "        docLink.innerHTML = docLinkHtml;\n",
              "        element.appendChild(docLink);\n",
              "      }\n",
              "    </script>\n",
              "  </div>\n",
              "\n",
              "\n",
              "<div id=\"df-2f97c0f3-97ad-46b2-9e6e-28b6db6c80eb\">\n",
              "  <button class=\"colab-df-quickchart\" onclick=\"quickchart('df-2f97c0f3-97ad-46b2-9e6e-28b6db6c80eb')\"\n",
              "            title=\"Suggest charts\"\n",
              "            style=\"display:none;\">\n",
              "\n",
              "<svg xmlns=\"http://www.w3.org/2000/svg\" height=\"24px\"viewBox=\"0 0 24 24\"\n",
              "     width=\"24px\">\n",
              "    <g>\n",
              "        <path d=\"M19 3H5c-1.1 0-2 .9-2 2v14c0 1.1.9 2 2 2h14c1.1 0 2-.9 2-2V5c0-1.1-.9-2-2-2zM9 17H7v-7h2v7zm4 0h-2V7h2v10zm4 0h-2v-4h2v4z\"/>\n",
              "    </g>\n",
              "</svg>\n",
              "  </button>\n",
              "\n",
              "<style>\n",
              "  .colab-df-quickchart {\n",
              "      --bg-color: #E8F0FE;\n",
              "      --fill-color: #1967D2;\n",
              "      --hover-bg-color: #E2EBFA;\n",
              "      --hover-fill-color: #174EA6;\n",
              "      --disabled-fill-color: #AAA;\n",
              "      --disabled-bg-color: #DDD;\n",
              "  }\n",
              "\n",
              "  [theme=dark] .colab-df-quickchart {\n",
              "      --bg-color: #3B4455;\n",
              "      --fill-color: #D2E3FC;\n",
              "      --hover-bg-color: #434B5C;\n",
              "      --hover-fill-color: #FFFFFF;\n",
              "      --disabled-bg-color: #3B4455;\n",
              "      --disabled-fill-color: #666;\n",
              "  }\n",
              "\n",
              "  .colab-df-quickchart {\n",
              "    background-color: var(--bg-color);\n",
              "    border: none;\n",
              "    border-radius: 50%;\n",
              "    cursor: pointer;\n",
              "    display: none;\n",
              "    fill: var(--fill-color);\n",
              "    height: 32px;\n",
              "    padding: 0;\n",
              "    width: 32px;\n",
              "  }\n",
              "\n",
              "  .colab-df-quickchart:hover {\n",
              "    background-color: var(--hover-bg-color);\n",
              "    box-shadow: 0 1px 2px rgba(60, 64, 67, 0.3), 0 1px 3px 1px rgba(60, 64, 67, 0.15);\n",
              "    fill: var(--button-hover-fill-color);\n",
              "  }\n",
              "\n",
              "  .colab-df-quickchart-complete:disabled,\n",
              "  .colab-df-quickchart-complete:disabled:hover {\n",
              "    background-color: var(--disabled-bg-color);\n",
              "    fill: var(--disabled-fill-color);\n",
              "    box-shadow: none;\n",
              "  }\n",
              "\n",
              "  .colab-df-spinner {\n",
              "    border: 2px solid var(--fill-color);\n",
              "    border-color: transparent;\n",
              "    border-bottom-color: var(--fill-color);\n",
              "    animation:\n",
              "      spin 1s steps(1) infinite;\n",
              "  }\n",
              "\n",
              "  @keyframes spin {\n",
              "    0% {\n",
              "      border-color: transparent;\n",
              "      border-bottom-color: var(--fill-color);\n",
              "      border-left-color: var(--fill-color);\n",
              "    }\n",
              "    20% {\n",
              "      border-color: transparent;\n",
              "      border-left-color: var(--fill-color);\n",
              "      border-top-color: var(--fill-color);\n",
              "    }\n",
              "    30% {\n",
              "      border-color: transparent;\n",
              "      border-left-color: var(--fill-color);\n",
              "      border-top-color: var(--fill-color);\n",
              "      border-right-color: var(--fill-color);\n",
              "    }\n",
              "    40% {\n",
              "      border-color: transparent;\n",
              "      border-right-color: var(--fill-color);\n",
              "      border-top-color: var(--fill-color);\n",
              "    }\n",
              "    60% {\n",
              "      border-color: transparent;\n",
              "      border-right-color: var(--fill-color);\n",
              "    }\n",
              "    80% {\n",
              "      border-color: transparent;\n",
              "      border-right-color: var(--fill-color);\n",
              "      border-bottom-color: var(--fill-color);\n",
              "    }\n",
              "    90% {\n",
              "      border-color: transparent;\n",
              "      border-bottom-color: var(--fill-color);\n",
              "    }\n",
              "  }\n",
              "</style>\n",
              "\n",
              "  <script>\n",
              "    async function quickchart(key) {\n",
              "      const quickchartButtonEl =\n",
              "        document.querySelector('#' + key + ' button');\n",
              "      quickchartButtonEl.disabled = true;  // To prevent multiple clicks.\n",
              "      quickchartButtonEl.classList.add('colab-df-spinner');\n",
              "      try {\n",
              "        const charts = await google.colab.kernel.invokeFunction(\n",
              "            'suggestCharts', [key], {});\n",
              "      } catch (error) {\n",
              "        console.error('Error during call to suggestCharts:', error);\n",
              "      }\n",
              "      quickchartButtonEl.classList.remove('colab-df-spinner');\n",
              "      quickchartButtonEl.classList.add('colab-df-quickchart-complete');\n",
              "    }\n",
              "    (() => {\n",
              "      let quickchartButtonEl =\n",
              "        document.querySelector('#df-2f97c0f3-97ad-46b2-9e6e-28b6db6c80eb button');\n",
              "      quickchartButtonEl.style.display =\n",
              "        google.colab.kernel.accessAllowed ? 'block' : 'none';\n",
              "    })();\n",
              "  </script>\n",
              "</div>\n",
              "    </div>\n",
              "  </div>\n"
            ]
          },
          "metadata": {},
          "execution_count": 179
        }
      ],
      "source": [
        "# Membaca data test\n",
        "df0 = pd.read_csv('test_data_cl_v2.csv')\n",
        "df_test= (df0)\n",
        "df_test.head(10)"
      ]
    },
    {
      "cell_type": "code",
      "execution_count": null,
      "metadata": {
        "colab": {
          "base_uri": "https://localhost:8080/"
        },
        "id": "gkAhyVOQrbuJ",
        "outputId": "b1203a59-3d93-4545-8bc4-6ad98df140a8"
      },
      "outputs": [
        {
          "output_type": "execute_result",
          "data": {
            "text/plain": [
              "<bound method NDFrame.describe of      PassengerId  Pclass                                             Name  \\\n",
              "0            892       3                                 Kelly, Mr. James   \n",
              "1            893       3                 Wilkes, Mrs. James (Ellen Needs)   \n",
              "2            894       2                        Myles, Mr. Thomas Francis   \n",
              "3            895       3                                 Wirz, Mr. Albert   \n",
              "4            896       3     Hirvonen, Mrs. Alexander (Helga E Lindqvist)   \n",
              "..           ...     ...                                              ...   \n",
              "326         1301       3                        Peacock, Miss. Treasteall   \n",
              "327         1303       1  Minahan, Mrs. William Edward (Lillian E Thorpe)   \n",
              "328         1304       3                   Henriksson, Miss. Jenny Lovisa   \n",
              "329         1306       1                     Oliva y Ocana, Dona. Fermina   \n",
              "330         1307       3                     Saether, Mr. Simon Sivertsen   \n",
              "\n",
              "        Sex   Age  SibSp  Parch              Ticket      Fare Cabin Embarked  \n",
              "0      male  34.5      0      0              330911    7.8292   NaN        Q  \n",
              "1    female  47.0      1      0              363272    7.0000   NaN        S  \n",
              "2      male  62.0      0      0              240276    9.6875   NaN        Q  \n",
              "3      male  27.0      0      0              315154    8.6625   NaN        S  \n",
              "4    female  22.0      1      1             3101298   12.2875   NaN        S  \n",
              "..      ...   ...    ...    ...                 ...       ...   ...      ...  \n",
              "326  female   3.0      1      1  SOTON/O.Q. 3101315   13.7750   NaN        S  \n",
              "327  female  37.0      1      0               19928   90.0000   C78        Q  \n",
              "328  female  28.0      0      0              347086    7.7750   NaN        S  \n",
              "329  female  39.0      0      0            PC 17758  108.9000  C105        C  \n",
              "330    male  38.5      0      0  SOTON/O.Q. 3101262    7.2500   NaN        S  \n",
              "\n",
              "[331 rows x 11 columns]>"
            ]
          },
          "metadata": {},
          "execution_count": 180
        }
      ],
      "source": [
        "# deskripsi data test\n",
        "df_test.shape\n",
        "df_test.describe"
      ]
    },
    {
      "cell_type": "code",
      "execution_count": null,
      "metadata": {
        "colab": {
          "base_uri": "https://localhost:8080/"
        },
        "id": "Wi85lZ9rs0wP",
        "outputId": "05ee0ebb-911c-4438-b9be-2b598ca524d9"
      },
      "outputs": [
        {
          "output_type": "stream",
          "name": "stdout",
          "text": [
            "<class 'pandas.core.frame.DataFrame'>\n",
            "RangeIndex: 331 entries, 0 to 330\n",
            "Data columns (total 11 columns):\n",
            " #   Column       Non-Null Count  Dtype  \n",
            "---  ------       --------------  -----  \n",
            " 0   PassengerId  331 non-null    int64  \n",
            " 1   Pclass       331 non-null    int64  \n",
            " 2   Name         331 non-null    object \n",
            " 3   Sex          331 non-null    object \n",
            " 4   Age          331 non-null    float64\n",
            " 5   SibSp        331 non-null    int64  \n",
            " 6   Parch        331 non-null    int64  \n",
            " 7   Ticket       331 non-null    object \n",
            " 8   Fare         331 non-null    float64\n",
            " 9   Cabin        87 non-null     object \n",
            " 10  Embarked     331 non-null    object \n",
            "dtypes: float64(2), int64(4), object(5)\n",
            "memory usage: 28.6+ KB\n"
          ]
        }
      ],
      "source": [
        "# info data train\n",
        "df_test.info()"
      ]
    },
    {
      "cell_type": "code",
      "execution_count": null,
      "metadata": {
        "colab": {
          "base_uri": "https://localhost:8080/"
        },
        "id": "i6kvgPEYMq9C",
        "outputId": "cb06b6e3-0c89-4b0b-aa2b-62bea5ef5e46"
      },
      "outputs": [
        {
          "output_type": "execute_result",
          "data": {
            "text/plain": [
              "True"
            ]
          },
          "metadata": {},
          "execution_count": 182
        }
      ],
      "source": [
        "# cek apakah ada missing value data test\n",
        "df_test.isnull().values.any()"
      ]
    },
    {
      "cell_type": "code",
      "execution_count": null,
      "metadata": {
        "colab": {
          "base_uri": "https://localhost:8080/"
        },
        "id": "c9gSdWFzsAoN",
        "outputId": "b3f67666-81cd-4b96-dc67-127a46a15553"
      },
      "outputs": [
        {
          "output_type": "execute_result",
          "data": {
            "text/plain": [
              "244"
            ]
          },
          "metadata": {},
          "execution_count": 183
        }
      ],
      "source": [
        "# Cek banyaknya Missing value data test\n",
        "df_test.isnull().sum().sum()"
      ]
    },
    {
      "cell_type": "code",
      "execution_count": null,
      "metadata": {
        "colab": {
          "base_uri": "https://localhost:8080/"
        },
        "id": "TsArdwAysRmA",
        "outputId": "2ede7bb0-fc3e-4f85-bd58-9279646b1677"
      },
      "outputs": [
        {
          "output_type": "execute_result",
          "data": {
            "text/plain": [
              "PassengerId      0\n",
              "Pclass           0\n",
              "Name             0\n",
              "Sex              0\n",
              "Age              0\n",
              "SibSp            0\n",
              "Parch            0\n",
              "Ticket           0\n",
              "Fare             0\n",
              "Cabin          244\n",
              "Embarked         0\n",
              "dtype: int64"
            ]
          },
          "metadata": {},
          "execution_count": 184
        }
      ],
      "source": [
        "# Melihat berapa banyak missing value dari semua atribut dari data train\n",
        "df_test.isnull().sum()"
      ]
    },
    {
      "cell_type": "code",
      "execution_count": null,
      "metadata": {
        "colab": {
          "base_uri": "https://localhost:8080/"
        },
        "id": "IDr80KvxtU7e",
        "outputId": "e3bc0b4e-0845-4747-f39c-fe77e876f8e8"
      },
      "outputs": [
        {
          "output_type": "stream",
          "name": "stdout",
          "text": [
            "DataFrame asli:\n",
            "     PassengerId  Survived  Pclass  \\\n",
            "0              1         0       3   \n",
            "1              2         1       1   \n",
            "2              3         1       3   \n",
            "3              4         1       1   \n",
            "4              5         0       3   \n",
            "..           ...       ...     ...   \n",
            "707          886         0       3   \n",
            "708          887         0       2   \n",
            "709          888         1       1   \n",
            "710          890         1       1   \n",
            "711          891         0       3   \n",
            "\n",
            "                                                  Name  Sex   Age  SibSp  \\\n",
            "0                              Braund, Mr. Owen Harris    1  22.0      1   \n",
            "1    Cumings, Mrs. John Bradley (Florence Briggs Th...    0  38.0      1   \n",
            "2                               Heikkinen, Miss. Laina    0  26.0      0   \n",
            "3         Futrelle, Mrs. Jacques Heath (Lily May Peel)    0  35.0      1   \n",
            "4                             Allen, Mr. William Henry    1  35.0      0   \n",
            "..                                                 ...  ...   ...    ...   \n",
            "707               Rice, Mrs. William (Margaret Norton)    0  39.0      0   \n",
            "708                              Montvila, Rev. Juozas    1  27.0      0   \n",
            "709                       Graham, Miss. Margaret Edith    0  19.0      0   \n",
            "710                              Behr, Mr. Karl Howell    1  26.0      0   \n",
            "711                                Dooley, Mr. Patrick    1  32.0      0   \n",
            "\n",
            "     Parch            Ticket     Fare Cabin  Embarked  \n",
            "0        0         A/5 21171   7.2500   D37         2  \n",
            "1        0          PC 17599  71.2833   C85         0  \n",
            "2        0  STON/O2. 3101282   7.9250   A34         2  \n",
            "3        0            113803  53.1000  C123         2  \n",
            "4        0            373450   8.0500   E25         2  \n",
            "..     ...               ...      ...   ...       ...  \n",
            "707      5            382652  29.1250   C30         1  \n",
            "708      0            211536  13.0000   A31         2  \n",
            "709      0            112053  30.0000   B42         2  \n",
            "710      0            111369  30.0000  C148         0  \n",
            "711      0            370376   7.7500   B49         1  \n",
            "\n",
            "[712 rows x 12 columns]\n",
            "\n",
            "DataFrame setelah mengisi missing value NaN pada kolom tertentu dengan data random:\n",
            "     PassengerId  Pclass                                             Name  \\\n",
            "0            892       3                                 Kelly, Mr. James   \n",
            "1            893       3                 Wilkes, Mrs. James (Ellen Needs)   \n",
            "2            894       2                        Myles, Mr. Thomas Francis   \n",
            "3            895       3                                 Wirz, Mr. Albert   \n",
            "4            896       3     Hirvonen, Mrs. Alexander (Helga E Lindqvist)   \n",
            "..           ...     ...                                              ...   \n",
            "326         1301       3                        Peacock, Miss. Treasteall   \n",
            "327         1303       1  Minahan, Mrs. William Edward (Lillian E Thorpe)   \n",
            "328         1304       3                   Henriksson, Miss. Jenny Lovisa   \n",
            "329         1306       1                     Oliva y Ocana, Dona. Fermina   \n",
            "330         1307       3                     Saether, Mr. Simon Sivertsen   \n",
            "\n",
            "        Sex   Age  SibSp  Parch              Ticket      Fare  Cabin Embarked  \n",
            "0      male  34.5      0      0              330911    7.8292   C116        Q  \n",
            "1    female  47.0      1      0              363272    7.0000    C46        S  \n",
            "2      male  62.0      0      0              240276    9.6875    C32        Q  \n",
            "3      male  27.0      0      0              315154    8.6625   C116        S  \n",
            "4    female  22.0      1      1             3101298   12.2875  F G63        S  \n",
            "..      ...   ...    ...    ...                 ...       ...    ...      ...  \n",
            "326  female   3.0      1      1  SOTON/O.Q. 3101315   13.7750    D28        S  \n",
            "327  female  37.0      1      0               19928   90.0000    C78        Q  \n",
            "328  female  28.0      0      0              347086    7.7750    C28        S  \n",
            "329  female  39.0      0      0            PC 17758  108.9000   C105        C  \n",
            "330    male  38.5      0      0  SOTON/O.Q. 3101262    7.2500    C86        S  \n",
            "\n",
            "[331 rows x 11 columns]\n"
          ]
        }
      ],
      "source": [
        "# Mengisi missing value NaN pada kolom tertentu dengan data random\n",
        "columns_to_fill = ['Cabin']  # Kolom yang ingin diisi missing value dengan data random\n",
        "\n",
        "for col in columns_to_fill:\n",
        "    mask = df_test[col].isnull()  # Membuat mask untuk mendeteksi missing value NaN\n",
        "    random_values = np.random.choice(df_test.loc[~mask, col], mask.sum())  # Memilih data random dari kolom yang tidak null\n",
        "    df_test.loc[mask, col] = random_values  # Mengisi missing value dengan data random\n",
        "\n",
        "print(\"DataFrame asli:\")\n",
        "print(df)\n",
        "\n",
        "print(\"\\nDataFrame setelah mengisi missing value NaN pada kolom tertentu dengan data random:\")\n",
        "print(df_test)"
      ]
    },
    {
      "cell_type": "code",
      "execution_count": null,
      "metadata": {
        "colab": {
          "base_uri": "https://localhost:8080/"
        },
        "id": "BQGePsnZ3VTM",
        "outputId": "f3a695eb-2025-4f1e-ef36-c6c7bded0116"
      },
      "outputs": [
        {
          "output_type": "execute_result",
          "data": {
            "text/plain": [
              "PassengerId    0\n",
              "Pclass         0\n",
              "Name           0\n",
              "Sex            0\n",
              "Age            0\n",
              "SibSp          0\n",
              "Parch          0\n",
              "Ticket         0\n",
              "Fare           0\n",
              "Cabin          0\n",
              "Embarked       0\n",
              "dtype: int64"
            ]
          },
          "metadata": {},
          "execution_count": 186
        }
      ],
      "source": [
        "# cek lagi missing value atribut cabin\n",
        "df_test.isnull().sum()"
      ]
    },
    {
      "cell_type": "code",
      "execution_count": null,
      "metadata": {
        "colab": {
          "base_uri": "https://localhost:8080/"
        },
        "id": "23iPo4ewCzn7",
        "outputId": "a0e9fd7e-ed02-47d2-c41b-ed9cb3821bcd"
      },
      "outputs": [
        {
          "output_type": "stream",
          "name": "stdout",
          "text": [
            "    PassengerId  Pclass                                               Name  \\\n",
            "0           892       3                                   Kelly, Mr. James   \n",
            "1           893       3                   Wilkes, Mrs. James (Ellen Needs)   \n",
            "2           894       2                          Myles, Mr. Thomas Francis   \n",
            "3           895       3                                   Wirz, Mr. Albert   \n",
            "4           896       3       Hirvonen, Mrs. Alexander (Helga E Lindqvist)   \n",
            "5           897       3                         Svensson, Mr. Johan Cervin   \n",
            "6           898       3                               Connolly, Miss. Kate   \n",
            "7           899       2                       Caldwell, Mr. Albert Francis   \n",
            "8           900       3          Abrahim, Mrs. Joseph (Sophie Halaut Easu)   \n",
            "9           901       3                            Davies, Mr. John Samuel   \n",
            "10          903       1                         Jones, Mr. Charles Cresson   \n",
            "11          904       1      Snyder, Mrs. John Pillsbury (Nelle Stevenson)   \n",
            "12          905       2                               Howard, Mr. Benjamin   \n",
            "13          906       1  Chaffee, Mrs. Herbert Fuller (Carrie Constance...   \n",
            "14          907       2      del Carlo, Mrs. Sebastiano (Argenia Genovesi)   \n",
            "15          908       2                                  Keane, Mr. Daniel   \n",
            "16          909       3                                  Assaf, Mr. Gerios   \n",
            "17          910       3                       Ilmakangas, Miss. Ida Livija   \n",
            "18          911       3              Assaf Khalil, Mrs. Mariana (Miriam\")\"   \n",
            "19          912       1                             Rothschild, Mr. Martin   \n",
            "20          913       3                          Olsen, Master. Artur Karl   \n",
            "21          915       1                    Williams, Mr. Richard Norris II   \n",
            "22          916       1    Ryerson, Mrs. Arthur Larned (Emily Maria Borie)   \n",
            "23          917       3                            Robins, Mr. Alexander A   \n",
            "24          918       1                       Ostby, Miss. Helene Ragnhild   \n",
            "\n",
            "    Sex   Age  SibSp  Parch            Ticket      Fare            Cabin  \\\n",
            "0     1  34.5      0      0            330911    7.8292             C116   \n",
            "1     0  47.0      1      0            363272    7.0000              C46   \n",
            "2     1  62.0      0      0            240276    9.6875              C32   \n",
            "3     1  27.0      0      0            315154    8.6625             C116   \n",
            "4     0  22.0      1      1           3101298   12.2875            F G63   \n",
            "5     1  14.0      0      0              7538    9.2250               C6   \n",
            "6     0  30.0      0      0            330972    7.6292              B61   \n",
            "7     1  26.0      1      1            248738   29.0000              C46   \n",
            "8     0  18.0      0      0              2657    7.2292              C28   \n",
            "9     1  21.0      2      0         A/4 48871   24.1500              D43   \n",
            "10    1  46.0      0      0               694   26.0000              C32   \n",
            "11    0  23.0      1      0             21228   82.2667              B45   \n",
            "12    1  63.0      1      0             24065   26.0000              D38   \n",
            "13    0  47.0      1      0       W.E.P. 5734   61.1750              E31   \n",
            "14    0  24.0      1      0     SC/PARIS 2167   27.7208              C78   \n",
            "15    1  35.0      0      0            233734   12.3500              B61   \n",
            "16    1  21.0      0      0              2692    7.2250              B26   \n",
            "17    0  27.0      1      0  STON/O2. 3101270    7.9250             C132   \n",
            "18    0  45.0      0      0              2696    7.2250              C85   \n",
            "19    1  55.0      1      0          PC 17603   59.4000            F G63   \n",
            "20    1   9.0      0      1           C 17368    3.1708              B69   \n",
            "21    1  21.0      0      1          PC 17597   61.3792             C132   \n",
            "22    0  48.0      1      3          PC 17608  262.3750  B57 B59 B63 B66   \n",
            "23    1  50.0      1      0         A/5. 3337   14.5000              A34   \n",
            "24    0  22.0      0      1            113509   61.9792              B36   \n",
            "\n",
            "    Embarked  \n",
            "0          1  \n",
            "1          2  \n",
            "2          1  \n",
            "3          2  \n",
            "4          2  \n",
            "5          2  \n",
            "6          1  \n",
            "7          2  \n",
            "8          0  \n",
            "9          2  \n",
            "10         2  \n",
            "11         2  \n",
            "12         2  \n",
            "13         2  \n",
            "14         0  \n",
            "15         1  \n",
            "16         0  \n",
            "17         2  \n",
            "18         0  \n",
            "19         0  \n",
            "20         2  \n",
            "21         0  \n",
            "22         0  \n",
            "23         2  \n",
            "24         0  \n"
          ]
        }
      ],
      "source": [
        "# Mengubah tipe data atribut Sex dan atribut Embarked menjaditipe data  boolean\n",
        "\n",
        "# Kolom yang ingin diubah tipe datanya\n",
        "columns_to_convert = ['Sex', 'Embarked']\n",
        "\n",
        "# Menggunakan LabelEncoder untuk mengubah 'Sex' dan 'Embarked' menjadi tipe data boolean\n",
        "le = LabelEncoder()\n",
        "\n",
        "for col in columns_to_convert:\n",
        "    if df_test[col].dtype == 'object':\n",
        "        df_test[col] = le.fit_transform(df_test[col])\n",
        "\n",
        "# Menampilkan DataFrame setelah transformasi\n",
        "print(df_test.head(25))"
      ]
    },
    {
      "cell_type": "markdown",
      "metadata": {
        "id": "P-Hjsa7GK6_h"
      },
      "source": [
        "# **Feature Scalling**"
      ]
    },
    {
      "cell_type": "markdown",
      "metadata": {
        "id": "SI89aD8UcQ5j"
      },
      "source": [
        "Feature scaling adalah proses normalisasi atau standarisasi fitur-fitur (variabel-variabel) dalam dataset. Tujuan utamanya adalah untuk membawa semua fitur ke skala yang sama atau setidaknya skala yang serupa, tanpa mengubah struktur data."
      ]
    },
    {
      "cell_type": "code",
      "execution_count": null,
      "metadata": {
        "id": "uXbFQDFhaVf6"
      },
      "outputs": [],
      "source": [
        "from sklearn.preprocessing import StandardScaler, MinMaxScaler"
      ]
    },
    {
      "cell_type": "code",
      "execution_count": null,
      "metadata": {
        "colab": {
          "base_uri": "https://localhost:8080/"
        },
        "id": "FClhyrU2K6GM",
        "outputId": "c44cd1fe-08cb-44a6-b154-f38b90877756"
      },
      "outputs": [
        {
          "output_type": "stream",
          "name": "stdout",
          "text": [
            "Hasil Scaling pada Data Train:\n",
            "        Age      Fare\n",
            "0 -0.527669 -0.516380\n",
            "1  0.577094  0.694046\n",
            "2 -0.251478 -0.503620\n",
            "3  0.369951  0.350326\n",
            "4  0.369951 -0.501257\n",
            "\n",
            "Hasil Scaling pada Data Test:\n",
            "        Age      Fare\n",
            "0  0.306657 -0.542281\n",
            "1  1.194236 -0.555844\n",
            "2  2.259331 -0.511885\n",
            "3 -0.225890 -0.528651\n",
            "4 -0.580922 -0.469357\n"
          ]
        }
      ],
      "source": [
        "# Misalkan kita akan scaling fitur 'Age' dan 'Fare'\n",
        "fitur_scaling = ['Age', 'Fare']\n",
        "\n",
        "# Melakukan fitur scaling pada data train\n",
        "scaler = StandardScaler()\n",
        "train_fitur_scaled = scaler.fit_transform(df_train[fitur_scaling])\n",
        "\n",
        "# Terapkan skala yang sama ke data test\n",
        "test_fitur_scaled = scaler.fit_transform(df_test[fitur_scaling])\n",
        "\n",
        "# Konversi hasil scaling ke DataFrame (hanya untuk keperluan demonstrasi)\n",
        "train_fitur_scaled_df = pd.DataFrame(train_fitur_scaled, columns=fitur_scaling)\n",
        "test_fitur_scaled_df = pd.DataFrame(test_fitur_scaled, columns=fitur_scaling)\n",
        "\n",
        "# Menampilkan hasil scaling\n",
        "print(\"Hasil Scaling pada Data Train:\")\n",
        "print(train_fitur_scaled_df.head())\n",
        "\n",
        "print(\"\\nHasil Scaling pada Data Test:\")\n",
        "print(test_fitur_scaled_df.head())\n"
      ]
    },
    {
      "cell_type": "code",
      "execution_count": null,
      "metadata": {
        "colab": {
          "base_uri": "https://localhost:8080/"
        },
        "id": "Qxj5fvkfqN-n",
        "outputId": "3b6f0b2e-8d69-4a79-c4d0-b06236417328"
      },
      "outputs": [
        {
          "output_type": "stream",
          "name": "stdout",
          "text": [
            "          Age      Fare\n",
            "0   -0.527669 -0.516380\n",
            "1    0.577094  0.694046\n",
            "2   -0.251478 -0.503620\n",
            "3    0.369951  0.350326\n",
            "4    0.369951 -0.501257\n",
            "..        ...       ...\n",
            "707  0.646142 -0.102875\n",
            "708 -0.182430 -0.407687\n",
            "709 -0.734812 -0.086335\n",
            "710 -0.251478 -0.086335\n",
            "711  0.162808 -0.506928\n",
            "\n",
            "[712 rows x 2 columns]\n"
          ]
        }
      ],
      "source": [
        "print(train_fitur_scaled_df)"
      ]
    },
    {
      "cell_type": "code",
      "execution_count": null,
      "metadata": {
        "colab": {
          "base_uri": "https://localhost:8080/"
        },
        "id": "2nZQs6HrqTwv",
        "outputId": "270ee56b-3532-44ff-df32-663ea1d0c5e1"
      },
      "outputs": [
        {
          "output_type": "stream",
          "name": "stdout",
          "text": [
            "          Age      Fare\n",
            "0    0.306657 -0.542281\n",
            "1    1.194236 -0.555844\n",
            "2    2.259331 -0.511885\n",
            "3   -0.225890 -0.528651\n",
            "4   -0.580922 -0.469357\n",
            "..        ...       ...\n",
            "326 -1.930042 -0.445026\n",
            "327  0.484173  0.801785\n",
            "328 -0.154884 -0.543168\n",
            "329  0.626186  1.110932\n",
            "330  0.590683 -0.551755\n",
            "\n",
            "[331 rows x 2 columns]\n"
          ]
        }
      ],
      "source": [
        "print(test_fitur_scaled_df)"
      ]
    },
    {
      "cell_type": "markdown",
      "metadata": {
        "id": "vvkhRR525Swc"
      },
      "source": [
        "# **Feature Importance**"
      ]
    },
    {
      "cell_type": "markdown",
      "metadata": {
        "id": "KcS25RUn5lBO"
      },
      "source": [
        "Feature Importace Merupakan teknik yang digunakan untuk menilai atau mengukur pentingnya setiap fitur (atribut) dalam pembuatan prediksi oleh suatu model."
      ]
    },
    {
      "cell_type": "code",
      "execution_count": null,
      "metadata": {
        "id": "7rCwRd287Wmm"
      },
      "outputs": [],
      "source": [
        "import matplotlib.pyplot as plt\n",
        "from sklearn.ensemble import RandomForestClassifier"
      ]
    },
    {
      "cell_type": "code",
      "execution_count": null,
      "metadata": {
        "colab": {
          "base_uri": "https://localhost:8080/"
        },
        "id": "suVkQyRw5jkp",
        "outputId": "9175d93f-865e-4adc-a541-549a05a8f1b9"
      },
      "outputs": [
        {
          "output_type": "display_data",
          "data": {
            "text/plain": [
              "<Figure size 640x480 with 1 Axes>"
            ],
            "image/png": "[encoded data removed]"
          },
          "metadata": {}
        },
        {
          "output_type": "stream",
          "name": "stdout",
          "text": [
            "    Fitur  Tingkat Kepentingan\n",
            "1     Age             0.311372\n",
            "3    Fare             0.308500\n",
            "0     Sex             0.271906\n",
            "2  Pclass             0.108221\n"
          ]
        }
      ],
      "source": [
        "# Memilih atribut tertentu sebagai fitur\n",
        "fitur_tertentu = ['Sex', 'Age','Pclass','Fare']\n",
        "X = df_train[fitur_tertentu]  # Memilih hanya atribut yang diinginkan sebagai fitur\n",
        "\n",
        "# Memilih kolom 'Survived' sebagai label\n",
        "y = df_train['Survived']\n",
        "\n",
        "# Inisialisasi model Random Forest dengan seed 42\n",
        "model = RandomForestClassifier(random_state=42)\n",
        "\n",
        "# Melatih model dengan data Titanic yang telah dipilih fiturnya\n",
        "model.fit(X, y)\n",
        "\n",
        "# Mendapatkan tingkat kepentingan fitur dari model\n",
        "fitur_importances = model.feature_importances_\n",
        "\n",
        "# Membuat DataFrame untuk menyimpan tingkat kepentingan fitur beserta nama fitur\n",
        "fitur_df = pd.DataFrame({'Fitur': X.columns, 'Tingkat Kepentingan': fitur_importances})\n",
        "\n",
        "# Mengurutkan DataFrame berdasarkan tingkat kepentingan fitur dari yang tertinggi\n",
        "fitur_df = fitur_df.sort_values(by='Tingkat Kepentingan', ascending=False)\n",
        "\n",
        "# Menampilkan grafik batang horizontal\n",
        "fitur_df.plot(kind='barh', x='Fitur', y='Tingkat Kepentingan', title='Feature Importance')\n",
        "plt.show()\n",
        "\n",
        "# Menampilkan nama fitur yang dianggap penting oleh model\n",
        "print(fitur_df)\n"
      ]
    },
    {
      "cell_type": "markdown",
      "metadata": {
        "id": "v-JoSpvdXfoC"
      },
      "source": [
        "Berdasarkan tingkat kepentingan fitur, fitur 'Age' menjadi tingkat kepentingan nomer 1 karena Usia mempengaruhi kesempatan untuk selamat. Anak-anak dan manula mungkin mendapatkan prioritas dalam evakuasi."
      ]
    },
    {
      "cell_type": "code",
      "execution_count": null,
      "metadata": {
        "id": "IqLhoMJVpKad"
      },
      "outputs": [],
      "source": [
        "# Memilih atribut tertentu sebagai fitur\n",
        "fitur_tertentu = ['Sex', 'Age','Pclass','Fare']\n",
        "S = df_test[fitur_tertentu]  # Memilih hanya atribut yang diinginkan sebagai fitur\n",
        "\n",
        "# # Memilih kolom 'Survived' sebagai label\n",
        "# T = df_test['Survived']"
      ]
    },
    {
      "cell_type": "code",
      "execution_count": null,
      "metadata": {
        "id": "PBUhQR-J9ak-"
      },
      "outputs": [],
      "source": [
        "df = X\n",
        "df_test = S\n",
        "df_truth = pd.read_csv('/content/test_data_GroundTruth_cl.csv')"
      ]
    },
    {
      "cell_type": "code",
      "execution_count": null,
      "metadata": {
        "colab": {
          "base_uri": "https://localhost:8080/"
        },
        "id": "-9EmmLnfnlyM",
        "outputId": "0543788f-4252-48f3-ce00-0bd373682569"
      },
      "outputs": [
        {
          "output_type": "stream",
          "name": "stdout",
          "text": [
            "     Sex   Age  Pclass     Fare\n",
            "0      1  22.0       3   7.2500\n",
            "1      0  38.0       1  71.2833\n",
            "2      0  26.0       3   7.9250\n",
            "3      0  35.0       1  53.1000\n",
            "4      1  35.0       3   8.0500\n",
            "..   ...   ...     ...      ...\n",
            "707    0  39.0       3  29.1250\n",
            "708    1  27.0       2  13.0000\n",
            "709    0  19.0       1  30.0000\n",
            "710    1  26.0       1  30.0000\n",
            "711    1  32.0       3   7.7500\n",
            "\n",
            "[712 rows x 4 columns]\n"
          ]
        }
      ],
      "source": [
        "print(df)"
      ]
    },
    {
      "cell_type": "code",
      "execution_count": null,
      "metadata": {
        "colab": {
          "base_uri": "https://localhost:8080/"
        },
        "id": "NSdDQxyQpgOB",
        "outputId": "202c9b9f-a6bb-45b4-e66c-8434eb0d77b1"
      },
      "outputs": [
        {
          "output_type": "stream",
          "name": "stdout",
          "text": [
            "     Sex   Age  Pclass      Fare\n",
            "0      1  34.5       3    7.8292\n",
            "1      0  47.0       3    7.0000\n",
            "2      1  62.0       2    9.6875\n",
            "3      1  27.0       3    8.6625\n",
            "4      0  22.0       3   12.2875\n",
            "..   ...   ...     ...       ...\n",
            "326    0   3.0       3   13.7750\n",
            "327    0  37.0       1   90.0000\n",
            "328    0  28.0       3    7.7750\n",
            "329    0  39.0       1  108.9000\n",
            "330    1  38.5       3    7.2500\n",
            "\n",
            "[331 rows x 4 columns]\n"
          ]
        }
      ],
      "source": [
        "print(df_test)"
      ]
    },
    {
      "cell_type": "code",
      "execution_count": null,
      "metadata": {
        "id": "ZoTqeL2UBhpq"
      },
      "outputs": [],
      "source": [
        "import pandas as pd\n",
        "import numpy as np\n",
        "\n",
        "def sign(x):\n",
        "    return np.sign(x)\n",
        "\n",
        "def step(x):\n",
        "    return np.where(x >= 0, 1, 0)\n",
        "\n",
        "def sigmoid(x):\n",
        "    return 1 / (1 + np.exp(-x))\n",
        "\n",
        "\n",
        "def train_single_layer_perceptron(X, y, learning_rate, epochs):\n",
        "    np.random.seed(42)\n",
        "    weights = np.random.rand(X.shape[1])\n",
        "    bias = np.random.rand()\n",
        "    accuracy_history = []\n",
        "\n",
        "    for epoch in range(epochs):\n",
        "        predictions = step(np.dot(X, weights) + bias)\n",
        "\n",
        "        #hitung error\n",
        "        error = y - predictions\n",
        "\n",
        "        #Update bobot\n",
        "        weights += learning_rate * np.dot(X.T, error)\n",
        "        bias += learning_rate* np.sum(error)\n",
        "\n",
        "        #Hitung akurasi\n",
        "        accuracy = evaluate_accuracy(predictions, y)\n",
        "        accuracy_history.append(accuracy)\n",
        "        # # # Hitung akurasi pada setiap epoch\n",
        "        # # accuracy1 = np.mean((predictions >= 0.5) == y_train)\n",
        "        # print(f'Epoch {epoch + 1}/{epochs}, Accuracy: {accuracy}')\n",
        "\n",
        "    return weights, bias, accuracy_history\n",
        "\n",
        "def predict(X, weights, bias, activation_function):\n",
        "    return activation_function(np.dot(X, weights) + bias)\n",
        "\n",
        "def evaluate_accuracy(predictions, truth):\n",
        "    correct_predictions = np.sum(predictions == truth)\n",
        "    total_predictions = len(truth)\n",
        "    accuracy = correct_predictions / total_predictions\n",
        "    return accuracy"
      ]
    },
    {
      "cell_type": "markdown",
      "metadata": {
        "id": "2e31L1IXtOSP"
      },
      "source": [
        "#**Learning rate dengan Step**\n"
      ]
    },
    {
      "cell_type": "markdown",
      "metadata": {
        "id": "hsB3qeLStVVW"
      },
      "source": [
        "#Learning rate : 0.01"
      ]
    },
    {
      "cell_type": "code",
      "execution_count": null,
      "metadata": {
        "colab": {
          "base_uri": "https://localhost:8080/"
        },
        "id": "xDHCcvHhteOh",
        "outputId": "d23e07f7-0663-43ea-e51c-ec539626b407"
      },
      "outputs": [
        {
          "output_type": "stream",
          "name": "stdout",
          "text": [
            "Accuracy Final: 85.20%\n"
          ]
        }
      ],
      "source": [
        "X_train = df[['Pclass', 'Sex', 'Age', 'Fare']]\n",
        "y_train = y\n",
        "\n",
        "X_test = df_test[['Pclass', 'Sex', 'Age', 'Fare']]\n",
        "\n",
        "learning_rate = 0.01\n",
        "epochs = 10000\n",
        "weights, bias, accuracy_history1 = train_single_layer_perceptron(X_train, y_train, learning_rate, epochs)\n",
        "\n",
        "predictions = predict(X_test, weights, bias, step)\n",
        "\n",
        "accuracy = evaluate_accuracy(predictions, df_truth['Survived'])\n",
        "print(f\"Accuracy Final: {accuracy * 100:.2f}%\")\n",
        "\n"
      ]
    },
    {
      "cell_type": "markdown",
      "metadata": {
        "id": "JeIYjeXhtr2z"
      },
      "source": [
        "#Learning rate : 0.02"
      ]
    },
    {
      "cell_type": "code",
      "execution_count": null,
      "metadata": {
        "colab": {
          "base_uri": "https://localhost:8080/"
        },
        "id": "gCxHpYGQtxA-",
        "outputId": "dc9d85e6-f665-4c66-ae74-9b517aab0f67"
      },
      "outputs": [
        {
          "output_type": "stream",
          "name": "stdout",
          "text": [
            "Accuracy final: 67.37%\n"
          ]
        }
      ],
      "source": [
        "X_train = df[['Pclass', 'Sex', 'Age', 'Fare']]\n",
        "y_train = y\n",
        "\n",
        "X_test = df_test[['Pclass', 'Sex', 'Age', 'Fare']]\n",
        "\n",
        "learning_rate = 0.02\n",
        "epochs = 10000\n",
        "weights, bias, accuracy_history2 = train_single_layer_perceptron(X_train, y_train, learning_rate, epochs)\n",
        "\n",
        "predictions = predict(X_test, weights, bias, step)\n",
        "\n",
        "accuracy = evaluate_accuracy(predictions, df_truth['Survived'])\n",
        "print(f\"Accuracy final: {accuracy * 100:.2f}%\")\n",
        "\n"
      ]
    },
    {
      "cell_type": "markdown",
      "metadata": {
        "id": "v_WsxKpUtywo"
      },
      "source": [
        "#Learning rate : 0.03"
      ]
    },
    {
      "cell_type": "code",
      "execution_count": null,
      "metadata": {
        "colab": {
          "base_uri": "https://localhost:8080/"
        },
        "id": "_hiIdm1kt4W6",
        "outputId": "59517922-8b56-4ca8-e0b4-60d6cf5cffe8"
      },
      "outputs": [
        {
          "output_type": "stream",
          "name": "stdout",
          "text": [
            "Accuracy: 74.62%\n"
          ]
        }
      ],
      "source": [
        "X_train = df[['Pclass', 'Sex', 'Age', 'Fare']]\n",
        "y_train = y\n",
        "\n",
        "X_test = df_test[['Pclass', 'Sex', 'Age', 'Fare']]\n",
        "\n",
        "learning_rate = 0.03\n",
        "epochs = 10000\n",
        "weights, bias, accuracy_history3 = train_single_layer_perceptron(X_train, y_train, learning_rate, epochs)\n",
        "\n",
        "predictions = predict(X_test, weights, bias, step)\n",
        "\n",
        "accuracy = evaluate_accuracy(predictions, df_truth['Survived'])\n",
        "print(f\"Accuracy: {accuracy * 100:.2f}%\")\n",
        "\n"
      ]
    },
    {
      "cell_type": "markdown",
      "metadata": {
        "id": "ybiZpOhvt-LF"
      },
      "source": [
        "#learning rate : 0.04"
      ]
    },
    {
      "cell_type": "code",
      "execution_count": null,
      "metadata": {
        "colab": {
          "base_uri": "https://localhost:8080/"
        },
        "id": "wfurpNJouCoR",
        "outputId": "5d77e5d2-bd38-4f44-9306-87a6553967b2"
      },
      "outputs": [
        {
          "output_type": "stream",
          "name": "stdout",
          "text": [
            "Accuracy: 74.92%\n"
          ]
        }
      ],
      "source": [
        "X_train = df[['Pclass', 'Sex', 'Age', 'Fare']]\n",
        "y_train = y\n",
        "\n",
        "X_test = df_test[['Pclass', 'Sex', 'Age', 'Fare']]\n",
        "\n",
        "learning_rate = 0.04\n",
        "epochs = 10000\n",
        "weights, bias, accuracy_history4 = train_single_layer_perceptron(X_train, y_train, learning_rate, epochs)\n",
        "\n",
        "predictions = predict(X_test, weights, bias, step)\n",
        "\n",
        "accuracy = evaluate_accuracy(predictions, df_truth['Survived'])\n",
        "print(f\"Accuracy: {accuracy * 100:.2f}%\")\n",
        "\n"
      ]
    },
    {
      "cell_type": "markdown",
      "metadata": {
        "id": "_pxpk9F2hDVw"
      },
      "source": [
        "#learning rate : 0.05"
      ]
    },
    {
      "cell_type": "code",
      "execution_count": null,
      "metadata": {
        "colab": {
          "base_uri": "https://localhost:8080/"
        },
        "id": "oOII48M1Bu8u",
        "outputId": "ad7089c2-e11c-4acf-ea60-6f04399c5e7d"
      },
      "outputs": [
        {
          "output_type": "stream",
          "name": "stdout",
          "text": [
            "Accuracy: 88.22%\n"
          ]
        }
      ],
      "source": [
        "X_train = df[['Pclass', 'Sex', 'Age', 'Fare']]\n",
        "y_train = y\n",
        "\n",
        "X_test = df_test[['Pclass', 'Sex', 'Age', 'Fare']]\n",
        "\n",
        "learning_rate = 0.05\n",
        "epochs = 10000\n",
        "weights, bias, accuracy_history5 = train_single_layer_perceptron(X_train, y_train, learning_rate, epochs)\n",
        "\n",
        "predictions = predict(X_test, weights, bias, step)\n",
        "\n",
        "accuracy = evaluate_accuracy(predictions, df_truth['Survived'])\n",
        "print(f\"Accuracy: {accuracy * 100:.2f}%\")\n",
        "\n"
      ]
    },
    {
      "cell_type": "markdown",
      "metadata": {
        "id": "AZqgNAVMwMnb"
      },
      "source": [
        "#learning rate : 0.06"
      ]
    },
    {
      "cell_type": "code",
      "execution_count": null,
      "metadata": {
        "colab": {
          "base_uri": "https://localhost:8080/"
        },
        "id": "VH03jbmSwPhJ",
        "outputId": "9d84bc29-06b1-48ee-ae96-637e271636d8"
      },
      "outputs": [
        {
          "output_type": "stream",
          "name": "stdout",
          "text": [
            "Accuracy: 67.37%\n"
          ]
        }
      ],
      "source": [
        "X_train = df[['Pclass', 'Sex', 'Age', 'Fare']]\n",
        "y_train = y\n",
        "\n",
        "X_test = df_test[['Pclass', 'Sex', 'Age', 'Fare']]\n",
        "\n",
        "learning_rate = 0.06\n",
        "epochs = 10000\n",
        "weights, bias, accuracy_history6 = train_single_layer_perceptron(X_train, y_train, learning_rate, epochs)\n",
        "\n",
        "predictions = predict(X_test, weights, bias, step)\n",
        "\n",
        "accuracy = evaluate_accuracy(predictions, df_truth['Survived'])\n",
        "print(f\"Accuracy: {accuracy * 100:.2f}%\")\n",
        "\n"
      ]
    },
    {
      "cell_type": "markdown",
      "metadata": {
        "id": "L5Wlcx37wRS4"
      },
      "source": [
        "#learning rate : 0.07"
      ]
    },
    {
      "cell_type": "code",
      "execution_count": null,
      "metadata": {
        "colab": {
          "base_uri": "https://localhost:8080/"
        },
        "id": "qRP9eoEwwUsf",
        "outputId": "4f26456f-7d32-41b7-830f-e7c2b7dabb65"
      },
      "outputs": [
        {
          "output_type": "stream",
          "name": "stdout",
          "text": [
            "Accuracy: 67.37%\n"
          ]
        }
      ],
      "source": [
        "X_train = df[['Pclass', 'Sex', 'Age', 'Fare']]\n",
        "y_train = y\n",
        "\n",
        "X_test = df_test[['Pclass', 'Sex', 'Age', 'Fare']]\n",
        "\n",
        "learning_rate = 0.07\n",
        "epochs = 10000\n",
        "weights, bias, accuracy_history7 = train_single_layer_perceptron(X_train, y_train, learning_rate, epochs)\n",
        "\n",
        "predictions = predict(X_test, weights, bias, step)\n",
        "\n",
        "accuracy = evaluate_accuracy(predictions, df_truth['Survived'])\n",
        "print(f\"Accuracy: {accuracy * 100:.2f}%\")\n",
        "\n"
      ]
    },
    {
      "cell_type": "markdown",
      "metadata": {
        "id": "f4b_WlBpwWhO"
      },
      "source": [
        "#learning rate : 0.08"
      ]
    },
    {
      "cell_type": "code",
      "execution_count": null,
      "metadata": {
        "colab": {
          "base_uri": "https://localhost:8080/"
        },
        "id": "qC43xFuAwZP-",
        "outputId": "d8462d53-67b3-489b-84a8-11c705b52c76"
      },
      "outputs": [
        {
          "output_type": "stream",
          "name": "stdout",
          "text": [
            "Accuracy: 75.83%\n"
          ]
        }
      ],
      "source": [
        "X_train = df[['Pclass', 'Sex', 'Age', 'Fare']]\n",
        "y_train = y\n",
        "\n",
        "X_test = df_test[['Pclass', 'Sex', 'Age', 'Fare']]\n",
        "\n",
        "learning_rate = 0.08\n",
        "epochs = 10000\n",
        "weights, bias, accuracy_history8 = train_single_layer_perceptron(X_train, y_train, learning_rate, epochs)\n",
        "\n",
        "predictions = predict(X_test, weights, bias, step)\n",
        "\n",
        "accuracy = evaluate_accuracy(predictions, df_truth['Survived'])\n",
        "print(f\"Accuracy: {accuracy * 100:.2f}%\")\n",
        "\n"
      ]
    },
    {
      "cell_type": "markdown",
      "metadata": {
        "id": "7oZvRF78waf-"
      },
      "source": [
        "#learning rate : 0.09"
      ]
    },
    {
      "cell_type": "code",
      "execution_count": null,
      "metadata": {
        "colab": {
          "base_uri": "https://localhost:8080/"
        },
        "id": "fZRV9OsZwe43",
        "outputId": "968b6372-b41d-492f-8173-a97bf8d56a9c"
      },
      "outputs": [
        {
          "output_type": "stream",
          "name": "stdout",
          "text": [
            "Accuracy: 74.92%\n"
          ]
        }
      ],
      "source": [
        "X_train = df[['Pclass', 'Sex', 'Age', 'Fare']]\n",
        "y_train = y\n",
        "\n",
        "X_test = df_test[['Pclass', 'Sex', 'Age', 'Fare']]\n",
        "\n",
        "learning_rate = 0.09\n",
        "epochs = 10000\n",
        "weights, bias, accuracy_history9 = train_single_layer_perceptron(X_train, y_train, learning_rate, epochs)\n",
        "\n",
        "predictions = predict(X_test, weights, bias, step)\n",
        "\n",
        "accuracy = evaluate_accuracy(predictions, df_truth['Survived'])\n",
        "print(f\"Accuracy: {accuracy * 100:.2f}%\")\n",
        "\n"
      ]
    },
    {
      "cell_type": "markdown",
      "metadata": {
        "id": "sa0BjiB1wg0c"
      },
      "source": [
        "#learning rate : 0.1"
      ]
    },
    {
      "cell_type": "code",
      "execution_count": null,
      "metadata": {
        "colab": {
          "base_uri": "https://localhost:8080/"
        },
        "id": "10phWXYUwkAi",
        "outputId": "920b0cb9-a830-4c9d-d861-98f8bc6fa018"
      },
      "outputs": [
        {
          "output_type": "stream",
          "name": "stdout",
          "text": [
            "Accuracy: 86.10%\n"
          ]
        }
      ],
      "source": [
        "X_train = df[['Pclass', 'Sex', 'Age', 'Fare']]\n",
        "y_train = y\n",
        "\n",
        "X_test = df_test[['Pclass', 'Sex', 'Age', 'Fare']]\n",
        "\n",
        "learning_rate = 0.1\n",
        "epochs = 10000\n",
        "weights, bias, accuracy_history10 = train_single_layer_perceptron(X_train, y_train, learning_rate, epochs)\n",
        "\n",
        "predictions = predict(X_test, weights, bias, step)\n",
        "\n",
        "accuracy = evaluate_accuracy(predictions, df_truth['Survived'])\n",
        "print(f\"Accuracy: {accuracy * 100:.2f}%\")\n",
        "\n"
      ]
    },
    {
      "cell_type": "markdown",
      "metadata": {
        "id": "o0nCl6squI7x"
      },
      "source": [
        "#**Learning Rate dengan Sign**"
      ]
    },
    {
      "cell_type": "markdown",
      "metadata": {
        "id": "dlVddmcauOYU"
      },
      "source": [
        "#Learning Rate : 0.01"
      ]
    },
    {
      "cell_type": "code",
      "execution_count": null,
      "metadata": {
        "colab": {
          "base_uri": "https://localhost:8080/"
        },
        "id": "1romMYPluTNU",
        "outputId": "9d672076-47a9-403b-e9b3-0081b235a98d"
      },
      "outputs": [
        {
          "output_type": "stream",
          "name": "stdout",
          "text": [
            "Accuracy: 24.47%\n"
          ]
        }
      ],
      "source": [
        "X_train = df[['Pclass', 'Sex', 'Age', 'Fare']]\n",
        "y_train = y\n",
        "\n",
        "X_test = df_test[['Pclass', 'Sex', 'Age', 'Fare']]\n",
        "\n",
        "learning_rate = 0.01\n",
        "epochs = 10000\n",
        "weights, bias, accuracy_history11 = train_single_layer_perceptron(X_train, y_train, learning_rate, epochs)\n",
        "\n",
        "predictions = predict(X_test, weights, bias, sign)\n",
        "\n",
        "accuracy = evaluate_accuracy(predictions, df_truth['Survived'])\n",
        "print(f\"Accuracy: {accuracy * 100:.2f}%\")\n",
        "\n"
      ]
    },
    {
      "cell_type": "markdown",
      "metadata": {
        "id": "eMItYz0Mueye"
      },
      "source": [
        "#learning rate : 0.02"
      ]
    },
    {
      "cell_type": "code",
      "execution_count": null,
      "metadata": {
        "colab": {
          "base_uri": "https://localhost:8080/"
        },
        "id": "KWq1I8-Juj3M",
        "outputId": "b4c65071-99ce-4cfe-b640-b16ac5917e9f"
      },
      "outputs": [
        {
          "output_type": "stream",
          "name": "stdout",
          "text": [
            "Accuracy: 5.74%\n"
          ]
        }
      ],
      "source": [
        "X_train = df[['Pclass', 'Sex', 'Age', 'Fare']]\n",
        "y_train = y\n",
        "\n",
        "X_test = df_test[['Pclass', 'Sex', 'Age', 'Fare']]\n",
        "\n",
        "learning_rate = 0.02\n",
        "epochs = 10000\n",
        "weights, bias, accuracy_history12 = train_single_layer_perceptron(X_train, y_train, learning_rate, epochs)\n",
        "\n",
        "predictions = predict(X_test, weights, bias, sign)\n",
        "\n",
        "accuracy = evaluate_accuracy(predictions, df_truth['Survived'])\n",
        "print(f\"Accuracy: {accuracy * 100:.2f}%\")\n",
        "\n"
      ]
    },
    {
      "cell_type": "markdown",
      "metadata": {
        "id": "6kLFQj8Yumy0"
      },
      "source": [
        "#learning rate : 0.03"
      ]
    },
    {
      "cell_type": "code",
      "execution_count": null,
      "metadata": {
        "colab": {
          "base_uri": "https://localhost:8080/"
        },
        "id": "RiOXycIJuqmm",
        "outputId": "9e29eb93-7c8d-4bb3-f210-365ed5dccc33"
      },
      "outputs": [
        {
          "output_type": "stream",
          "name": "stdout",
          "text": [
            "Accuracy: 15.71%\n"
          ]
        }
      ],
      "source": [
        "X_train = df[['Pclass', 'Sex', 'Age', 'Fare']]\n",
        "y_train = y\n",
        "\n",
        "X_test = df_test[['Pclass', 'Sex', 'Age', 'Fare']]\n",
        "\n",
        "learning_rate = 0.03\n",
        "epochs = 10000\n",
        "weights, bias, accuracy_history13 = train_single_layer_perceptron(X_train, y_train, learning_rate, epochs)\n",
        "\n",
        "predictions = predict(X_test, weights, bias, sign)\n",
        "\n",
        "accuracy = evaluate_accuracy(predictions, df_truth['Survived'])\n",
        "print(f\"Accuracy: {accuracy * 100:.2f}%\")\n",
        "\n"
      ]
    },
    {
      "cell_type": "markdown",
      "metadata": {
        "id": "BPW2bWz-u4kQ"
      },
      "source": [
        "#learning rate : 0.04"
      ]
    },
    {
      "cell_type": "code",
      "execution_count": null,
      "metadata": {
        "colab": {
          "base_uri": "https://localhost:8080/"
        },
        "id": "95Waobzku-FL",
        "outputId": "4abbb8c4-403c-4fda-8081-0fe0311c12d4"
      },
      "outputs": [
        {
          "output_type": "stream",
          "name": "stdout",
          "text": [
            "Accuracy: 16.92%\n"
          ]
        }
      ],
      "source": [
        "X_train = df[['Pclass', 'Sex', 'Age', 'Fare']]\n",
        "y_train = y\n",
        "\n",
        "X_test = df_test[['Pclass', 'Sex', 'Age', 'Fare']]\n",
        "\n",
        "learning_rate = 0.04\n",
        "epochs = 10000\n",
        "weights, bias, accuracy_history = train_single_layer_perceptron(X_train, y_train, learning_rate, epochs)\n",
        "\n",
        "predictions = predict(X_test, weights, bias, sign)\n",
        "\n",
        "accuracy = evaluate_accuracy(predictions, df_truth['Survived'])\n",
        "print(f\"Accuracy: {accuracy * 100:.2f}%\")\n",
        "\n"
      ]
    },
    {
      "cell_type": "markdown",
      "metadata": {
        "id": "NCZV-DnIvDFh"
      },
      "source": [
        "#learning rate : 0.05"
      ]
    },
    {
      "cell_type": "code",
      "execution_count": null,
      "metadata": {
        "colab": {
          "base_uri": "https://localhost:8080/"
        },
        "id": "nvGgKedrvGbZ",
        "outputId": "53837733-59d9-450f-c99b-388e95b830fb"
      },
      "outputs": [
        {
          "output_type": "stream",
          "name": "stdout",
          "text": [
            "Accuracy: 38.37%\n"
          ]
        }
      ],
      "source": [
        "X_train = df[['Pclass', 'Sex', 'Age', 'Fare']]\n",
        "y_train = y\n",
        "\n",
        "X_test = df_test[['Pclass', 'Sex', 'Age', 'Fare']]\n",
        "\n",
        "learning_rate = 0.05\n",
        "epochs = 10000\n",
        "weights, bias, accuracy_history = train_single_layer_perceptron(X_train, y_train, learning_rate, epochs)\n",
        "\n",
        "predictions = predict(X_test, weights, bias, sign)\n",
        "\n",
        "accuracy = evaluate_accuracy(predictions, df_truth['Survived'])\n",
        "print(f\"Accuracy: {accuracy * 100:.2f}%\")\n",
        "\n"
      ]
    },
    {
      "cell_type": "markdown",
      "metadata": {
        "id": "db19DSAxwsKJ"
      },
      "source": [
        "#learning rate : 0.06"
      ]
    },
    {
      "cell_type": "code",
      "execution_count": null,
      "metadata": {
        "colab": {
          "base_uri": "https://localhost:8080/"
        },
        "id": "0zFR2ZGgwsKJ",
        "outputId": "a632ac1d-90e8-4038-9bf9-056648324dfa"
      },
      "outputs": [
        {
          "output_type": "stream",
          "name": "stdout",
          "text": [
            "Accuracy: 5.74%\n"
          ]
        }
      ],
      "source": [
        "X_train = df[['Pclass', 'Sex', 'Age', 'Fare']]\n",
        "y_train = y\n",
        "\n",
        "X_test = df_test[['Pclass', 'Sex', 'Age', 'Fare']]\n",
        "\n",
        "learning_rate = 0.06\n",
        "epochs = 10000\n",
        "weights, bias, accuracy_history = train_single_layer_perceptron(X_train, y_train, learning_rate, epochs)\n",
        "\n",
        "predictions = predict(X_test, weights, bias, sign)\n",
        "\n",
        "accuracy = evaluate_accuracy(predictions, df_truth['Survived'])\n",
        "print(f\"Accuracy: {accuracy * 100:.2f}%\")\n",
        "\n"
      ]
    },
    {
      "cell_type": "markdown",
      "metadata": {
        "id": "iJbKR5O2wsKJ"
      },
      "source": [
        "#learning rate : 0.07"
      ]
    },
    {
      "cell_type": "code",
      "execution_count": null,
      "metadata": {
        "colab": {
          "base_uri": "https://localhost:8080/"
        },
        "id": "dEYp0GPCwsKJ",
        "outputId": "82f131f0-bb09-4261-f773-a1469142057d"
      },
      "outputs": [
        {
          "output_type": "stream",
          "name": "stdout",
          "text": [
            "Accuracy: 5.74%\n"
          ]
        }
      ],
      "source": [
        "X_train = df[['Pclass', 'Sex', 'Age', 'Fare']]\n",
        "y_train = y\n",
        "\n",
        "X_test = df_test[['Pclass', 'Sex', 'Age', 'Fare']]\n",
        "\n",
        "learning_rate = 0.07\n",
        "epochs = 10000\n",
        "weights, bias, accuracy_history = train_single_layer_perceptron(X_train, y_train, learning_rate, epochs)\n",
        "\n",
        "predictions = predict(X_test, weights, bias, sign)\n",
        "\n",
        "accuracy = evaluate_accuracy(predictions, df_truth['Survived'])\n",
        "print(f\"Accuracy: {accuracy * 100:.2f}%\")\n",
        "\n"
      ]
    },
    {
      "cell_type": "markdown",
      "metadata": {
        "id": "64sOYQo4wsKJ"
      },
      "source": [
        "#learning rate : 0.08"
      ]
    },
    {
      "cell_type": "code",
      "execution_count": null,
      "metadata": {
        "colab": {
          "base_uri": "https://localhost:8080/"
        },
        "id": "vHlj_KDCwsKJ",
        "outputId": "1ba36166-c0e8-4a02-b7ff-0bbe35f7f94d"
      },
      "outputs": [
        {
          "output_type": "stream",
          "name": "stdout",
          "text": [
            "Accuracy: 16.92%\n"
          ]
        }
      ],
      "source": [
        "X_train = df[['Pclass', 'Sex', 'Age', 'Fare']]\n",
        "y_train = y\n",
        "\n",
        "X_test = df_test[['Pclass', 'Sex', 'Age', 'Fare']]\n",
        "\n",
        "learning_rate = 0.08\n",
        "epochs = 10000\n",
        "weights, bias, accuracy_history = train_single_layer_perceptron(X_train, y_train, learning_rate, epochs)\n",
        "\n",
        "predictions = predict(X_test, weights, bias, sign)\n",
        "\n",
        "accuracy = evaluate_accuracy(predictions, df_truth['Survived'])\n",
        "print(f\"Accuracy: {accuracy * 100:.2f}%\")\n",
        "\n"
      ]
    },
    {
      "cell_type": "markdown",
      "metadata": {
        "id": "GHdmSyRawsKJ"
      },
      "source": [
        "#learning rate : 0.09"
      ]
    },
    {
      "cell_type": "code",
      "execution_count": null,
      "metadata": {
        "colab": {
          "base_uri": "https://localhost:8080/"
        },
        "id": "67OgWwSHwsKK",
        "outputId": "8ea72174-975d-4ef1-b5d4-f3c43edcd7da"
      },
      "outputs": [
        {
          "output_type": "stream",
          "name": "stdout",
          "text": [
            "Accuracy: 16.92%\n"
          ]
        }
      ],
      "source": [
        "X_train = df[['Pclass', 'Sex', 'Age', 'Fare']]\n",
        "y_train = y\n",
        "\n",
        "X_test = df_test[['Pclass', 'Sex', 'Age', 'Fare']]\n",
        "\n",
        "learning_rate = 0.09\n",
        "epochs = 10000\n",
        "weights, bias, accuracy_history = train_single_layer_perceptron(X_train, y_train, learning_rate, epochs)\n",
        "\n",
        "predictions = predict(X_test, weights, bias, sign)\n",
        "\n",
        "accuracy = evaluate_accuracy(predictions, df_truth['Survived'])\n",
        "print(f\"Accuracy: {accuracy * 100:.2f}%\")\n",
        "\n"
      ]
    },
    {
      "cell_type": "markdown",
      "metadata": {
        "id": "BJheI3_TwsKK"
      },
      "source": [
        "#learning rate : 0.1"
      ]
    },
    {
      "cell_type": "code",
      "execution_count": null,
      "metadata": {
        "colab": {
          "base_uri": "https://localhost:8080/"
        },
        "id": "0ES4DKR9wsKK",
        "outputId": "7765e7a9-98db-40d6-9db9-dab775fc9e5d"
      },
      "outputs": [
        {
          "output_type": "stream",
          "name": "stdout",
          "text": [
            "Accuracy: 38.37%\n"
          ]
        }
      ],
      "source": [
        "X_train = df[['Pclass', 'Sex', 'Age', 'Fare']]\n",
        "y_train = y\n",
        "\n",
        "X_test = df_test[['Pclass', 'Sex', 'Age', 'Fare']]\n",
        "\n",
        "learning_rate = 0.1\n",
        "epochs = 10000\n",
        "weights, bias, accuracy_history = train_single_layer_perceptron(X_train, y_train, learning_rate, epochs)\n",
        "\n",
        "predictions = predict(X_test, weights, bias, sign)\n",
        "\n",
        "accuracy = evaluate_accuracy(predictions, df_truth['Survived'])\n",
        "print(f\"Accuracy: {accuracy * 100:.2f}%\")\n",
        "\n"
      ]
    },
    {
      "cell_type": "markdown",
      "metadata": {
        "id": "gQYl8MKCm9Ge"
      },
      "source": [
        "#**Learning rate dengan Sigmoid**\n"
      ]
    },
    {
      "cell_type": "markdown",
      "metadata": {
        "id": "bn2UlwVpm9Gk"
      },
      "source": [
        "#Learning rate : 0.01"
      ]
    },
    {
      "cell_type": "code",
      "execution_count": null,
      "metadata": {
        "colab": {
          "base_uri": "https://localhost:8080/"
        },
        "outputId": "da433ac5-b681-4679-9973-2e4e4966e261",
        "id": "pBaMMk_Mm9Gk"
      },
      "outputs": [
        {
          "output_type": "stream",
          "name": "stdout",
          "text": [
            "Accuracy Final: 82.48%\n"
          ]
        },
        {
          "output_type": "stream",
          "name": "stderr",
          "text": [
            "<ipython-input-198-ba958b7a01d2>:11: RuntimeWarning: overflow encountered in exp\n",
            "  return 1 / (1 + np.exp(-x))\n"
          ]
        }
      ],
      "source": [
        "X_train = df[['Pclass', 'Sex', 'Age', 'Fare']]\n",
        "y_train = y\n",
        "\n",
        "X_test = df_test[['Pclass', 'Sex', 'Age', 'Fare']]\n",
        "\n",
        "learning_rate = 0.01\n",
        "epochs = 10000\n",
        "weights, bias, accuracy_history1 = train_single_layer_perceptron(X_train, y_train, learning_rate, epochs)\n",
        "\n",
        "predictions = predict(X_test, weights, bias, sigmoid)\n",
        "\n",
        "accuracy = evaluate_accuracy(predictions, df_truth['Survived'])\n",
        "print(f\"Accuracy Final: {accuracy * 100:.2f}%\")\n",
        "\n"
      ]
    },
    {
      "cell_type": "markdown",
      "metadata": {
        "id": "KqwkqlAam9Gl"
      },
      "source": [
        "#Learning rate : 0.02"
      ]
    },
    {
      "cell_type": "code",
      "execution_count": null,
      "metadata": {
        "colab": {
          "base_uri": "https://localhost:8080/"
        },
        "outputId": "3e22ad90-1a4f-4579-9f83-1a9d142c5b70",
        "id": "w7_X9qx2m9Gl"
      },
      "outputs": [
        {
          "output_type": "stream",
          "name": "stdout",
          "text": [
            "Accuracy final: 66.77%\n"
          ]
        },
        {
          "output_type": "stream",
          "name": "stderr",
          "text": [
            "<ipython-input-198-ba958b7a01d2>:11: RuntimeWarning: overflow encountered in exp\n",
            "  return 1 / (1 + np.exp(-x))\n"
          ]
        }
      ],
      "source": [
        "X_train = df[['Pclass', 'Sex', 'Age', 'Fare']]\n",
        "y_train = y\n",
        "\n",
        "X_test = df_test[['Pclass', 'Sex', 'Age', 'Fare']]\n",
        "\n",
        "learning_rate = 0.02\n",
        "epochs = 10000\n",
        "weights, bias, accuracy_history2 = train_single_layer_perceptron(X_train, y_train, learning_rate, epochs)\n",
        "\n",
        "predictions = predict(X_test, weights, bias, sigmoid)\n",
        "\n",
        "accuracy = evaluate_accuracy(predictions, df_truth['Survived'])\n",
        "print(f\"Accuracy final: {accuracy * 100:.2f}%\")\n",
        "\n"
      ]
    },
    {
      "cell_type": "markdown",
      "metadata": {
        "id": "19WAf_TWm9Gl"
      },
      "source": [
        "#Learning rate : 0.03"
      ]
    },
    {
      "cell_type": "code",
      "execution_count": null,
      "metadata": {
        "colab": {
          "base_uri": "https://localhost:8080/"
        },
        "outputId": "26cd4442-aaee-4b45-9bab-7ecb493145c5",
        "id": "QyhncwLSm9Gl"
      },
      "outputs": [
        {
          "output_type": "stream",
          "name": "stdout",
          "text": [
            "Accuracy: 74.62%\n"
          ]
        },
        {
          "output_type": "stream",
          "name": "stderr",
          "text": [
            "<ipython-input-198-ba958b7a01d2>:11: RuntimeWarning: overflow encountered in exp\n",
            "  return 1 / (1 + np.exp(-x))\n"
          ]
        }
      ],
      "source": [
        "X_train = df[['Pclass', 'Sex', 'Age', 'Fare']]\n",
        "y_train = y\n",
        "\n",
        "X_test = df_test[['Pclass', 'Sex', 'Age', 'Fare']]\n",
        "\n",
        "learning_rate = 0.03\n",
        "epochs = 10000\n",
        "weights, bias, accuracy_history3 = train_single_layer_perceptron(X_train, y_train, learning_rate, epochs)\n",
        "\n",
        "predictions = predict(X_test, weights, bias,sigmoid)\n",
        "\n",
        "accuracy = evaluate_accuracy(predictions, df_truth['Survived'])\n",
        "print(f\"Accuracy: {accuracy * 100:.2f}%\")\n",
        "\n"
      ]
    },
    {
      "cell_type": "markdown",
      "metadata": {
        "id": "x8IAWMfhm9Gl"
      },
      "source": [
        "#learning rate : 0.04"
      ]
    },
    {
      "cell_type": "code",
      "execution_count": null,
      "metadata": {
        "colab": {
          "base_uri": "https://localhost:8080/"
        },
        "outputId": "df0f7033-5443-4802-e4a9-945561ff9b46",
        "id": "B-M-pmGim9Gl"
      },
      "outputs": [
        {
          "output_type": "stream",
          "name": "stdout",
          "text": [
            "Accuracy: 74.62%\n"
          ]
        },
        {
          "output_type": "stream",
          "name": "stderr",
          "text": [
            "<ipython-input-198-ba958b7a01d2>:11: RuntimeWarning: overflow encountered in exp\n",
            "  return 1 / (1 + np.exp(-x))\n"
          ]
        }
      ],
      "source": [
        "X_train = df[['Pclass', 'Sex', 'Age', 'Fare']]\n",
        "y_train = y\n",
        "\n",
        "X_test = df_test[['Pclass', 'Sex', 'Age', 'Fare']]\n",
        "\n",
        "learning_rate = 0.04\n",
        "epochs = 10000\n",
        "weights, bias, accuracy_history4 = train_single_layer_perceptron(X_train, y_train, learning_rate, epochs)\n",
        "\n",
        "predictions = predict(X_test, weights, bias, sigmoid)\n",
        "\n",
        "accuracy = evaluate_accuracy(predictions, df_truth['Survived'])\n",
        "print(f\"Accuracy: {accuracy * 100:.2f}%\")\n",
        "\n"
      ]
    },
    {
      "cell_type": "markdown",
      "metadata": {
        "id": "TvRtJf1Mm9Gl"
      },
      "source": [
        "#learning rate : 0.05"
      ]
    },
    {
      "cell_type": "code",
      "execution_count": null,
      "metadata": {
        "colab": {
          "base_uri": "https://localhost:8080/"
        },
        "outputId": "9f1387b4-93f9-44f4-cf7c-326565cb6358",
        "id": "hdtJ82Z9m9Gm"
      },
      "outputs": [
        {
          "output_type": "stream",
          "name": "stdout",
          "text": [
            "Accuracy: 87.92%\n"
          ]
        },
        {
          "output_type": "stream",
          "name": "stderr",
          "text": [
            "<ipython-input-198-ba958b7a01d2>:11: RuntimeWarning: overflow encountered in exp\n",
            "  return 1 / (1 + np.exp(-x))\n"
          ]
        }
      ],
      "source": [
        "X_train = df[['Pclass', 'Sex', 'Age', 'Fare']]\n",
        "y_train = y\n",
        "\n",
        "X_test = df_test[['Pclass', 'Sex', 'Age', 'Fare']]\n",
        "\n",
        "learning_rate = 0.05\n",
        "epochs = 10000\n",
        "weights, bias, accuracy_history5 = train_single_layer_perceptron(X_train, y_train, learning_rate, epochs)\n",
        "\n",
        "predictions = predict(X_test, weights, bias, sigmoid)\n",
        "\n",
        "accuracy = evaluate_accuracy(predictions, df_truth['Survived'])\n",
        "print(f\"Accuracy: {accuracy * 100:.2f}%\")\n",
        "\n"
      ]
    },
    {
      "cell_type": "markdown",
      "metadata": {
        "id": "bUz_qHMhm9Gm"
      },
      "source": [
        "#learning rate : 0.06"
      ]
    },
    {
      "cell_type": "code",
      "execution_count": null,
      "metadata": {
        "colab": {
          "base_uri": "https://localhost:8080/"
        },
        "outputId": "d10f6100-48ed-4bcd-e433-17a4b4748656",
        "id": "cJDTq76Om9Gm"
      },
      "outputs": [
        {
          "output_type": "stream",
          "name": "stdout",
          "text": [
            "Accuracy: 67.07%\n"
          ]
        },
        {
          "output_type": "stream",
          "name": "stderr",
          "text": [
            "<ipython-input-198-ba958b7a01d2>:11: RuntimeWarning: overflow encountered in exp\n",
            "  return 1 / (1 + np.exp(-x))\n"
          ]
        }
      ],
      "source": [
        "X_train = df[['Pclass', 'Sex', 'Age', 'Fare']]\n",
        "y_train = y\n",
        "\n",
        "X_test = df_test[['Pclass', 'Sex', 'Age', 'Fare']]\n",
        "\n",
        "learning_rate = 0.06\n",
        "epochs = 10000\n",
        "weights, bias, accuracy_history6 = train_single_layer_perceptron(X_train, y_train, learning_rate, epochs)\n",
        "\n",
        "predictions = predict(X_test, weights, bias, sigmoid)\n",
        "\n",
        "accuracy = evaluate_accuracy(predictions, df_truth['Survived'])\n",
        "print(f\"Accuracy: {accuracy * 100:.2f}%\")\n",
        "\n"
      ]
    },
    {
      "cell_type": "markdown",
      "metadata": {
        "id": "JRPtjCHim9Gm"
      },
      "source": [
        "#learning rate : 0.07"
      ]
    },
    {
      "cell_type": "code",
      "execution_count": null,
      "metadata": {
        "colab": {
          "base_uri": "https://localhost:8080/"
        },
        "outputId": "ac9d4bf8-b801-4eca-b305-2e7a270b36e1",
        "id": "KUgYexa-m9Gm"
      },
      "outputs": [
        {
          "output_type": "stream",
          "name": "stdout",
          "text": [
            "Accuracy: 67.07%\n"
          ]
        },
        {
          "output_type": "stream",
          "name": "stderr",
          "text": [
            "<ipython-input-198-ba958b7a01d2>:11: RuntimeWarning: overflow encountered in exp\n",
            "  return 1 / (1 + np.exp(-x))\n"
          ]
        }
      ],
      "source": [
        "X_train = df[['Pclass', 'Sex', 'Age', 'Fare']]\n",
        "y_train = y\n",
        "\n",
        "X_test = df_test[['Pclass', 'Sex', 'Age', 'Fare']]\n",
        "\n",
        "learning_rate = 0.07\n",
        "epochs = 10000\n",
        "weights, bias, accuracy_history7 = train_single_layer_perceptron(X_train, y_train, learning_rate, epochs)\n",
        "\n",
        "predictions = predict(X_test, weights, bias, sigmoid)\n",
        "\n",
        "accuracy = evaluate_accuracy(predictions, df_truth['Survived'])\n",
        "print(f\"Accuracy: {accuracy * 100:.2f}%\")\n",
        "\n"
      ]
    },
    {
      "cell_type": "markdown",
      "metadata": {
        "id": "lYTaguC6m9Gm"
      },
      "source": [
        "#learning rate : 0.08"
      ]
    },
    {
      "cell_type": "code",
      "execution_count": null,
      "metadata": {
        "colab": {
          "base_uri": "https://localhost:8080/"
        },
        "outputId": "cb752cb3-3b4f-476e-df62-6db9743d12ad",
        "id": "-fm17U-rm9Gm"
      },
      "outputs": [
        {
          "output_type": "stream",
          "name": "stdout",
          "text": [
            "Accuracy: 75.53%\n"
          ]
        },
        {
          "output_type": "stream",
          "name": "stderr",
          "text": [
            "<ipython-input-198-ba958b7a01d2>:11: RuntimeWarning: overflow encountered in exp\n",
            "  return 1 / (1 + np.exp(-x))\n"
          ]
        }
      ],
      "source": [
        "X_train = df[['Pclass', 'Sex', 'Age', 'Fare']]\n",
        "y_train = y\n",
        "\n",
        "X_test = df_test[['Pclass', 'Sex', 'Age', 'Fare']]\n",
        "\n",
        "learning_rate = 0.08\n",
        "epochs = 10000\n",
        "weights, bias, accuracy_history8 = train_single_layer_perceptron(X_train, y_train, learning_rate, epochs)\n",
        "\n",
        "predictions = predict(X_test, weights, bias, sigmoid)\n",
        "\n",
        "accuracy = evaluate_accuracy(predictions, df_truth['Survived'])\n",
        "print(f\"Accuracy: {accuracy * 100:.2f}%\")\n",
        "\n"
      ]
    },
    {
      "cell_type": "markdown",
      "metadata": {
        "id": "vNjmwe_Um9Gm"
      },
      "source": [
        "#learning rate : 0.09"
      ]
    },
    {
      "cell_type": "code",
      "execution_count": null,
      "metadata": {
        "colab": {
          "base_uri": "https://localhost:8080/"
        },
        "outputId": "5d67c7d9-e828-4969-ae7d-00a803e5eac6",
        "id": "piOkcDb3m9Gm"
      },
      "outputs": [
        {
          "output_type": "stream",
          "name": "stdout",
          "text": [
            "Accuracy: 74.62%\n"
          ]
        },
        {
          "output_type": "stream",
          "name": "stderr",
          "text": [
            "<ipython-input-198-ba958b7a01d2>:11: RuntimeWarning: overflow encountered in exp\n",
            "  return 1 / (1 + np.exp(-x))\n"
          ]
        }
      ],
      "source": [
        "X_train = df[['Pclass', 'Sex', 'Age', 'Fare']]\n",
        "y_train = y\n",
        "\n",
        "X_test = df_test[['Pclass', 'Sex', 'Age', 'Fare']]\n",
        "\n",
        "learning_rate = 0.09\n",
        "epochs = 10000\n",
        "weights, bias, accuracy_history9 = train_single_layer_perceptron(X_train, y_train, learning_rate, epochs)\n",
        "\n",
        "predictions = predict(X_test, weights, bias, sigmoid)\n",
        "\n",
        "accuracy = evaluate_accuracy(predictions, df_truth['Survived'])\n",
        "print(f\"Accuracy: {accuracy * 100:.2f}%\")\n",
        "\n"
      ]
    },
    {
      "cell_type": "markdown",
      "metadata": {
        "id": "_q1XF_d6m9Gn"
      },
      "source": [
        "#learning rate : 0.1"
      ]
    },
    {
      "cell_type": "code",
      "execution_count": null,
      "metadata": {
        "colab": {
          "base_uri": "https://localhost:8080/"
        },
        "outputId": "0a8abab7-7fec-40b9-fd09-29d7f7b52d23",
        "id": "fwYIHZUHm9Gn"
      },
      "outputs": [
        {
          "output_type": "stream",
          "name": "stdout",
          "text": [
            "Accuracy: 84.59%\n"
          ]
        },
        {
          "output_type": "stream",
          "name": "stderr",
          "text": [
            "<ipython-input-198-ba958b7a01d2>:11: RuntimeWarning: overflow encountered in exp\n",
            "  return 1 / (1 + np.exp(-x))\n"
          ]
        }
      ],
      "source": [
        "X_train = df[['Pclass', 'Sex', 'Age', 'Fare']]\n",
        "y_train = y\n",
        "\n",
        "X_test = df_test[['Pclass', 'Sex', 'Age', 'Fare']]\n",
        "\n",
        "learning_rate = 0.1\n",
        "epochs = 10000\n",
        "weights, bias, accuracy_history10 = train_single_layer_perceptron(X_train, y_train, learning_rate, epochs)\n",
        "\n",
        "predictions = predict(X_test, weights, bias, sigmoid)\n",
        "\n",
        "accuracy = evaluate_accuracy(predictions, df_truth['Survived'])\n",
        "print(f\"Accuracy: {accuracy * 100:.2f}%\")\n",
        "\n"
      ]
    },
    {
      "cell_type": "markdown",
      "metadata": {
        "id": "Qi2XkTrCa3rr"
      },
      "source": [
        "#**Pengaruh kolom**\n"
      ]
    },
    {
      "cell_type": "markdown",
      "metadata": {
        "id": "lcda94E5cOrC"
      },
      "source": [
        "#menggunakan 1 kolom : pclass"
      ]
    },
    {
      "cell_type": "code",
      "execution_count": null,
      "metadata": {
        "id": "d7y7ZOPLcLAb",
        "colab": {
          "base_uri": "https://localhost:8080/"
        },
        "outputId": "07543613-57b0-43e5-8e1e-892b2a4d0ed9"
      },
      "outputs": [
        {
          "output_type": "stream",
          "name": "stdout",
          "text": [
            "Accuracy: 38.37%\n"
          ]
        }
      ],
      "source": [
        "X_train = df[['Pclass']]\n",
        "y_train = y\n",
        "\n",
        "X_test = df_test[['Pclass']]\n",
        "\n",
        "learning_rate = 0.5\n",
        "epochs = 10000\n",
        "weights, bias, accuracy_history = train_single_layer_perceptron(X_train, y_train, learning_rate, epochs)\n",
        "\n",
        "predictions = predict(X_test, weights, bias, step)\n",
        "\n",
        "accuracy = evaluate_accuracy(predictions, df_truth['Survived'])\n",
        "print(f\"Accuracy: {accuracy * 100:.2f}%\")\n",
        "\n"
      ]
    },
    {
      "cell_type": "markdown",
      "metadata": {
        "id": "20D0Z_2DcBUX"
      },
      "source": [
        "#menggunakan 1 kolom : Sex"
      ]
    },
    {
      "cell_type": "code",
      "execution_count": null,
      "metadata": {
        "id": "NimE2VFjcGRc",
        "colab": {
          "base_uri": "https://localhost:8080/"
        },
        "outputId": "f04a3688-9b6b-4d8c-e043-cda4e7e4d6cd"
      },
      "outputs": [
        {
          "output_type": "stream",
          "name": "stdout",
          "text": [
            "Accuracy: 61.63%\n"
          ]
        }
      ],
      "source": [
        "X_train = df[[ 'Sex']]\n",
        "y_train = y\n",
        "\n",
        "X_test = df_test[[ 'Sex']]\n",
        "\n",
        "learning_rate = 0.5\n",
        "epochs = 10000\n",
        "weights, bias, accuracy_history = train_single_layer_perceptron(X_train, y_train, learning_rate, epochs)\n",
        "\n",
        "predictions = predict(X_test, weights, bias, step)\n",
        "\n",
        "accuracy = evaluate_accuracy(predictions, df_truth['Survived'])\n",
        "print(f\"Accuracy: {accuracy * 100:.2f}%\")\n",
        "\n"
      ]
    },
    {
      "cell_type": "markdown",
      "metadata": {
        "id": "GD5ebd-Jbuzr"
      },
      "source": [
        "#menggunakan 1 kolom : Age"
      ]
    },
    {
      "cell_type": "code",
      "execution_count": null,
      "metadata": {
        "id": "FNPA_X2Vbzqb",
        "colab": {
          "base_uri": "https://localhost:8080/"
        },
        "outputId": "c5abc27e-5d4b-496e-f044-6d925b1c53aa"
      },
      "outputs": [
        {
          "output_type": "stream",
          "name": "stdout",
          "text": [
            "Accuracy: 38.37%\n"
          ]
        }
      ],
      "source": [
        "X_train = df[['Age']]\n",
        "y_train = y\n",
        "\n",
        "X_test = df_test[[ 'Age']]\n",
        "\n",
        "learning_rate = 0.5\n",
        "epochs = 10000\n",
        "weights, bias, accuracy_history = train_single_layer_perceptron(X_train, y_train, learning_rate, epochs)\n",
        "\n",
        "predictions = predict(X_test, weights, bias, step)\n",
        "\n",
        "accuracy = evaluate_accuracy(predictions, df_truth['Survived'])\n",
        "print(f\"Accuracy: {accuracy * 100:.2f}%\")\n",
        "\n"
      ]
    },
    {
      "cell_type": "markdown",
      "metadata": {
        "id": "OmEWgAkQb4fZ"
      },
      "source": [
        "#menggunakan 1 kolom :Fare"
      ]
    },
    {
      "cell_type": "code",
      "execution_count": null,
      "metadata": {
        "id": "MUHy1ve4b9dC",
        "colab": {
          "base_uri": "https://localhost:8080/"
        },
        "outputId": "ee66bb3a-0b9b-4f19-e3ae-a1d30b4db8cb"
      },
      "outputs": [
        {
          "output_type": "stream",
          "name": "stdout",
          "text": [
            "Accuracy: 61.93%\n"
          ]
        }
      ],
      "source": [
        "X_train = df[['Fare']]\n",
        "y_train = y\n",
        "\n",
        "X_test = df_test[[ 'Fare']]\n",
        "\n",
        "learning_rate = 0.5\n",
        "epochs = 10000\n",
        "weights, bias, accuracy_history = train_single_layer_perceptron(X_train, y_train, learning_rate, epochs)\n",
        "\n",
        "predictions = predict(X_test, weights, bias, step)\n",
        "\n",
        "accuracy = evaluate_accuracy(predictions, df_truth['Survived'])\n",
        "print(f\"Accuracy: {accuracy * 100:.2f}%\")\n",
        "\n"
      ]
    },
    {
      "cell_type": "markdown",
      "metadata": {
        "id": "CtC0g-u6chzH"
      },
      "source": [
        "#menggunakan 2 kolom :pclass dan sex\n"
      ]
    },
    {
      "cell_type": "code",
      "execution_count": null,
      "metadata": {
        "id": "FG9aA7alclMy",
        "colab": {
          "base_uri": "https://localhost:8080/"
        },
        "outputId": "959c4d27-0855-4699-e228-9b2860e97f12"
      },
      "outputs": [
        {
          "output_type": "stream",
          "name": "stdout",
          "text": [
            "Accuracy: 84.89%\n"
          ]
        }
      ],
      "source": [
        "X_train = df[['Pclass', 'Sex']]\n",
        "y_train = y\n",
        "\n",
        "X_test = df_test[['Pclass', 'Sex']]\n",
        "\n",
        "learning_rate = 0.5\n",
        "epochs = 10000\n",
        "weights, bias, accuracy_history = train_single_layer_perceptron(X_train, y_train, learning_rate, epochs)\n",
        "\n",
        "predictions = predict(X_test, weights, bias, step)\n",
        "\n",
        "accuracy = evaluate_accuracy(predictions, df_truth['Survived'])\n",
        "print(f\"Accuracy: {accuracy * 100:.2f}%\")\n",
        "\n"
      ]
    },
    {
      "cell_type": "markdown",
      "metadata": {
        "id": "Zy_QlgQ9dOoK"
      },
      "source": [
        "#menggunakan 2 kolom : Pclass dan Age"
      ]
    },
    {
      "cell_type": "code",
      "execution_count": null,
      "metadata": {
        "id": "vIOxJGVYdTZy",
        "colab": {
          "base_uri": "https://localhost:8080/"
        },
        "outputId": "fa110abb-7a01-4180-99b8-043963e49773"
      },
      "outputs": [
        {
          "output_type": "stream",
          "name": "stdout",
          "text": [
            "Accuracy: 52.57%\n"
          ]
        }
      ],
      "source": [
        "X_train = df[['Pclass', 'Age']]\n",
        "y_train = y\n",
        "\n",
        "X_test = df_test[['Pclass', 'Age']]\n",
        "\n",
        "learning_rate = 0.5\n",
        "epochs = 10000\n",
        "weights, bias, accuracy_history = train_single_layer_perceptron(X_train, y_train, learning_rate, epochs)\n",
        "\n",
        "predictions = predict(X_test, weights, bias, step)\n",
        "\n",
        "accuracy = evaluate_accuracy(predictions, df_truth['Survived'])\n",
        "print(f\"Accuracy: {accuracy * 100:.2f}%\")\n",
        "\n"
      ]
    },
    {
      "cell_type": "markdown",
      "metadata": {
        "id": "Wa_LFj9pc4TJ"
      },
      "source": [
        "#menggunakan 2 kolom: Fare dan pclass"
      ]
    },
    {
      "cell_type": "code",
      "execution_count": null,
      "metadata": {
        "id": "vrwcXEUJc9Ne",
        "colab": {
          "base_uri": "https://localhost:8080/"
        },
        "outputId": "93e4a5a0-8a16-4f05-f50e-888c72361802"
      },
      "outputs": [
        {
          "output_type": "stream",
          "name": "stdout",
          "text": [
            "Accuracy: 58.61%\n"
          ]
        }
      ],
      "source": [
        "X_train = df[['Pclass', 'Fare']]\n",
        "y_train = y\n",
        "\n",
        "X_test = df_test[['Pclass', 'Fare']]\n",
        "\n",
        "learning_rate = 0.5\n",
        "epochs = 10000\n",
        "weights, bias, accuracy_history = train_single_layer_perceptron(X_train, y_train, learning_rate, epochs)\n",
        "\n",
        "predictions = predict(X_test, weights, bias, step)\n",
        "\n",
        "accuracy = evaluate_accuracy(predictions, df_truth['Survived'])\n",
        "print(f\"Accuracy: {accuracy * 100:.2f}%\")\n",
        "\n"
      ]
    },
    {
      "cell_type": "markdown",
      "metadata": {
        "id": "jqui1VJHcvgr"
      },
      "source": [
        "#menggunakan 2 kolom : Age dan fare"
      ]
    },
    {
      "cell_type": "code",
      "execution_count": null,
      "metadata": {
        "id": "R8PE0W2pc0lz",
        "colab": {
          "base_uri": "https://localhost:8080/"
        },
        "outputId": "aa1710f6-db65-474d-f4dd-5f70c733717d"
      },
      "outputs": [
        {
          "output_type": "stream",
          "name": "stdout",
          "text": [
            "Accuracy: 63.14%\n"
          ]
        }
      ],
      "source": [
        "X_train = df[[ 'Age', 'Fare']]\n",
        "y_train = y\n",
        "\n",
        "X_test = df_test[['Age', 'Fare']]\n",
        "\n",
        "learning_rate = 0.5\n",
        "epochs = 10000\n",
        "weights, bias, accuracy_history = train_single_layer_perceptron(X_train, y_train, learning_rate, epochs)\n",
        "\n",
        "predictions = predict(X_test, weights, bias, step)\n",
        "\n",
        "accuracy = evaluate_accuracy(predictions, df_truth['Survived'])\n",
        "print(f\"Accuracy: {accuracy * 100:.2f}%\")\n",
        "\n"
      ]
    },
    {
      "cell_type": "markdown",
      "metadata": {
        "id": "alFv4KTHddYP"
      },
      "source": [
        "#menggunakan 2 kolom : Age dan Sex"
      ]
    },
    {
      "cell_type": "code",
      "execution_count": null,
      "metadata": {
        "id": "ccKJlJnHdiyQ",
        "colab": {
          "base_uri": "https://localhost:8080/"
        },
        "outputId": "3dc98b88-e44e-4cea-8856-0764a8744a83"
      },
      "outputs": [
        {
          "output_type": "stream",
          "name": "stdout",
          "text": [
            "Accuracy: 87.61%\n"
          ]
        }
      ],
      "source": [
        "X_train = df[[ 'Sex', 'Age']]\n",
        "y_train = y\n",
        "\n",
        "X_test = df_test[['Sex', 'Age']]\n",
        "\n",
        "learning_rate = 0.5\n",
        "epochs = 10000\n",
        "weights, bias, accuracy_history = train_single_layer_perceptron(X_train, y_train, learning_rate, epochs)\n",
        "\n",
        "predictions = predict(X_test, weights, bias, step)\n",
        "\n",
        "accuracy = evaluate_accuracy(predictions, df_truth['Survived'])\n",
        "print(f\"Accuracy: {accuracy * 100:.2f}%\")\n",
        "\n"
      ]
    },
    {
      "cell_type": "markdown",
      "metadata": {
        "id": "XVmuIW68dqFW"
      },
      "source": [
        "#menggunakan 2 kolom : Sex dan fare"
      ]
    },
    {
      "cell_type": "code",
      "execution_count": null,
      "metadata": {
        "id": "Y6m4Rv5GduQ3",
        "colab": {
          "base_uri": "https://localhost:8080/"
        },
        "outputId": "f7a6b8e3-c998-4cbe-bdfe-e32475c73b6e"
      },
      "outputs": [
        {
          "output_type": "stream",
          "name": "stdout",
          "text": [
            "Accuracy: 77.64%\n"
          ]
        }
      ],
      "source": [
        "X_train = df[['Sex', 'Fare']]\n",
        "y_train = y\n",
        "\n",
        "X_test = df_test[[ 'Sex', 'Fare']]\n",
        "\n",
        "learning_rate = 0.5\n",
        "epochs = 10000\n",
        "weights, bias, accuracy_history = train_single_layer_perceptron(X_train, y_train, learning_rate, epochs)\n",
        "\n",
        "predictions = predict(X_test, weights, bias, step)\n",
        "\n",
        "accuracy = evaluate_accuracy(predictions, df_truth['Survived'])\n",
        "print(f\"Accuracy: {accuracy * 100:.2f}%\")\n",
        "\n"
      ]
    },
    {
      "cell_type": "markdown",
      "metadata": {
        "id": "RQpprtlxbcLd"
      },
      "source": [
        "# menggunakan 3 kolom : sex,age,fare"
      ]
    },
    {
      "cell_type": "code",
      "execution_count": null,
      "metadata": {
        "id": "i0X2A1SubGj2",
        "colab": {
          "base_uri": "https://localhost:8080/"
        },
        "outputId": "80941358-4f1c-41ac-879d-019a690c8569"
      },
      "outputs": [
        {
          "output_type": "stream",
          "name": "stdout",
          "text": [
            "Accuracy: 71.60%\n"
          ]
        }
      ],
      "source": [
        "X_train = df[[ 'Sex', 'Age', 'Fare']]\n",
        "y_train = y\n",
        "\n",
        "X_test = df_test[[ 'Sex', 'Age', 'Fare']]\n",
        "\n",
        "learning_rate = 0.5\n",
        "epochs = 10000\n",
        "weights, bias, accuracy_history = train_single_layer_perceptron(X_train, y_train, learning_rate, epochs)\n",
        "\n",
        "predictions = predict(X_test, weights, bias, step)\n",
        "\n",
        "accuracy = evaluate_accuracy(predictions, df_truth['Survived'])\n",
        "print(f\"Accuracy: {accuracy * 100:.2f}%\")\n",
        "\n"
      ]
    },
    {
      "cell_type": "markdown",
      "metadata": {
        "id": "thrreRold0Ew"
      },
      "source": [
        "#menggunakan 3 kolom:Age, fare ,pclass"
      ]
    },
    {
      "cell_type": "code",
      "execution_count": null,
      "metadata": {
        "id": "UWE25B4Td6Ob",
        "colab": {
          "base_uri": "https://localhost:8080/"
        },
        "outputId": "c8bda884-e969-4b59-a49a-ea61cb2f1d63"
      },
      "outputs": [
        {
          "output_type": "stream",
          "name": "stdout",
          "text": [
            "Accuracy: 61.93%\n"
          ]
        }
      ],
      "source": [
        "X_train = df[['Pclass', 'Age', 'Fare']]\n",
        "y_train = y\n",
        "\n",
        "X_test = df_test[['Pclass', 'Age', 'Fare']]\n",
        "\n",
        "learning_rate = 0.5\n",
        "epochs = 10000\n",
        "weights, bias, accuracy_history = train_single_layer_perceptron(X_train, y_train, learning_rate, epochs)\n",
        "\n",
        "predictions = predict(X_test, weights, bias, step)\n",
        "\n",
        "accuracy = evaluate_accuracy(predictions, df_truth['Survived'])\n",
        "print(f\"Accuracy: {accuracy * 100:.2f}%\")\n",
        "\n"
      ]
    },
    {
      "cell_type": "markdown",
      "metadata": {
        "id": "k-z_s6hvd9W2"
      },
      "source": [
        "#menggunakan 3 kolom:pclass,fare, sex"
      ]
    },
    {
      "cell_type": "code",
      "execution_count": null,
      "metadata": {
        "id": "kxIwdjz_eEp1",
        "colab": {
          "base_uri": "https://localhost:8080/"
        },
        "outputId": "42e43d17-1ba1-49c7-8097-57ea91d8dd6b"
      },
      "outputs": [
        {
          "output_type": "stream",
          "name": "stdout",
          "text": [
            "Accuracy: 92.45%\n"
          ]
        }
      ],
      "source": [
        "X_train = df[['Pclass', 'Sex', 'Fare']]\n",
        "y_train = y\n",
        "\n",
        "X_test = df_test[['Pclass', 'Sex', 'Fare']]\n",
        "\n",
        "learning_rate = 0.5\n",
        "epochs = 10000\n",
        "weights, bias, accuracy_history = train_single_layer_perceptron(X_train, y_train, learning_rate, epochs)\n",
        "\n",
        "predictions = predict(X_test, weights, bias, step)\n",
        "\n",
        "accuracy = evaluate_accuracy(predictions, df_truth['Survived'])\n",
        "print(f\"Accuracy: {accuracy * 100:.2f}%\")\n",
        "\n"
      ]
    },
    {
      "cell_type": "markdown",
      "metadata": {
        "id": "cd5RTxgheK1g"
      },
      "source": [
        "#menggunakan 3 kolom : pclass,sex,age"
      ]
    },
    {
      "cell_type": "code",
      "execution_count": null,
      "metadata": {
        "id": "Miq8ysQpeOzD",
        "colab": {
          "base_uri": "https://localhost:8080/"
        },
        "outputId": "b500a6fa-dac0-4674-efbf-353e979c2b7e"
      },
      "outputs": [
        {
          "output_type": "stream",
          "name": "stdout",
          "text": [
            "Accuracy: 64.05%\n"
          ]
        }
      ],
      "source": [
        "X_train = df[['Pclass', 'Sex', 'Age']]\n",
        "y_train = y\n",
        "\n",
        "X_test = df_test[['Pclass', 'Sex', 'Age']]\n",
        "\n",
        "learning_rate = 0.5\n",
        "epochs = 10000\n",
        "weights, bias, accuracy_history = train_single_layer_perceptron(X_train, y_train, learning_rate, epochs)\n",
        "\n",
        "predictions = predict(X_test, weights, bias, step)\n",
        "\n",
        "accuracy = evaluate_accuracy(predictions, df_truth['Survived'])\n",
        "print(f\"Accuracy: {accuracy * 100:.2f}%\")\n",
        "\n"
      ]
    },
    {
      "cell_type": "markdown",
      "metadata": {
        "id": "FLTaDnXau_K6"
      },
      "source": [
        "#**Pengaruh kolom dengan sigmoid**\n"
      ]
    },
    {
      "cell_type": "markdown",
      "metadata": {
        "id": "C4lNbFulu_LA"
      },
      "source": [
        "#menggunakan 1 kolom : pclass"
      ]
    },
    {
      "cell_type": "code",
      "execution_count": null,
      "metadata": {
        "colab": {
          "base_uri": "https://localhost:8080/"
        },
        "outputId": "81d8787e-3c8a-41fd-fb20-602bc6bddc1c",
        "id": "sFB8sA9nu_LA"
      },
      "outputs": [
        {
          "output_type": "stream",
          "name": "stdout",
          "text": [
            "Accuracy: 23.26%\n"
          ]
        }
      ],
      "source": [
        "X_train = df[['Pclass']]\n",
        "y_train = y\n",
        "\n",
        "X_test = df_test[['Pclass']]\n",
        "\n",
        "learning_rate = 0.5\n",
        "epochs = 10000\n",
        "weights, bias, accuracy_history = train_single_layer_perceptron(X_train, y_train, learning_rate, epochs)\n",
        "\n",
        "predictions = predict(X_test, weights, bias, sigmoid)\n",
        "\n",
        "accuracy = evaluate_accuracy(predictions, df_truth['Survived'])\n",
        "print(f\"Accuracy: {accuracy * 100:.2f}%\")\n",
        "\n"
      ]
    },
    {
      "cell_type": "markdown",
      "metadata": {
        "id": "Ylx7Vh9Tu_LA"
      },
      "source": [
        "#menggunakan 1 kolom : Sex"
      ]
    },
    {
      "cell_type": "code",
      "execution_count": null,
      "metadata": {
        "colab": {
          "base_uri": "https://localhost:8080/"
        },
        "outputId": "14a24f68-e64f-4d33-b869-d84d08c9deeb",
        "id": "kpb0WKetu_LB"
      },
      "outputs": [
        {
          "output_type": "stream",
          "name": "stdout",
          "text": [
            "Accuracy: 0.00%\n"
          ]
        }
      ],
      "source": [
        "X_train = df[[ 'Sex']]\n",
        "y_train = y\n",
        "\n",
        "X_test = df_test[[ 'Sex']]\n",
        "\n",
        "learning_rate = 0.5\n",
        "epochs = 10000\n",
        "weights, bias, accuracy_history = train_single_layer_perceptron(X_train, y_train, learning_rate, epochs)\n",
        "\n",
        "predictions = predict(X_test, weights, bias, sigmoid)\n",
        "\n",
        "accuracy = evaluate_accuracy(predictions, df_truth['Survived'])\n",
        "print(f\"Accuracy: {accuracy * 100:.2f}%\")\n",
        "\n"
      ]
    },
    {
      "cell_type": "markdown",
      "metadata": {
        "id": "AwcQnpQsu_LB"
      },
      "source": [
        "#menggunakan 1 kolom : Age"
      ]
    },
    {
      "cell_type": "code",
      "execution_count": null,
      "metadata": {
        "colab": {
          "base_uri": "https://localhost:8080/"
        },
        "outputId": "2ce1862d-aa47-4d92-d738-32fdc28de9bc",
        "id": "9m8FVZA-u_LB"
      },
      "outputs": [
        {
          "output_type": "stream",
          "name": "stdout",
          "text": [
            "Accuracy: 62.24%\n"
          ]
        },
        {
          "output_type": "stream",
          "name": "stderr",
          "text": [
            "<ipython-input-198-ba958b7a01d2>:11: RuntimeWarning: overflow encountered in exp\n",
            "  return 1 / (1 + np.exp(-x))\n"
          ]
        }
      ],
      "source": [
        "X_train = df[['Age']]\n",
        "y_train = y\n",
        "\n",
        "X_test = df_test[[ 'Age']]\n",
        "\n",
        "learning_rate = 0.5\n",
        "epochs = 10000\n",
        "weights, bias, accuracy_history = train_single_layer_perceptron(X_train, y_train, learning_rate, epochs)\n",
        "\n",
        "predictions = predict(X_test, weights, bias, sigmoid)\n",
        "\n",
        "accuracy = evaluate_accuracy(predictions, df_truth['Survived'])\n",
        "print(f\"Accuracy: {accuracy * 100:.2f}%\")\n",
        "\n"
      ]
    },
    {
      "cell_type": "markdown",
      "metadata": {
        "id": "V0nqi8Eeu_LB"
      },
      "source": [
        "#menggunakan 1 kolom :Fare"
      ]
    },
    {
      "cell_type": "code",
      "execution_count": null,
      "metadata": {
        "colab": {
          "base_uri": "https://localhost:8080/"
        },
        "outputId": "4955900a-94b7-424c-eaea-26dffbd9a5b6",
        "id": "r3Hl9cs2u_LB"
      },
      "outputs": [
        {
          "output_type": "stream",
          "name": "stdout",
          "text": [
            "Accuracy: 61.93%\n"
          ]
        },
        {
          "output_type": "stream",
          "name": "stderr",
          "text": [
            "<ipython-input-198-ba958b7a01d2>:11: RuntimeWarning: overflow encountered in exp\n",
            "  return 1 / (1 + np.exp(-x))\n"
          ]
        }
      ],
      "source": [
        "X_train = df[['Fare']]\n",
        "y_train = y\n",
        "\n",
        "X_test = df_test[[ 'Fare']]\n",
        "\n",
        "learning_rate = 0.5\n",
        "epochs = 10000\n",
        "weights, bias, accuracy_history = train_single_layer_perceptron(X_train, y_train, learning_rate, epochs)\n",
        "\n",
        "predictions = predict(X_test, weights, bias, sigmoid)\n",
        "\n",
        "accuracy = evaluate_accuracy(predictions, df_truth['Survived'])\n",
        "print(f\"Accuracy: {accuracy * 100:.2f}%\")\n",
        "\n"
      ]
    },
    {
      "cell_type": "markdown",
      "metadata": {
        "id": "18Wwz_Esu_LB"
      },
      "source": [
        "#menggunakan 2 kolom :pclass dan sex\n"
      ]
    },
    {
      "cell_type": "code",
      "execution_count": null,
      "metadata": {
        "colab": {
          "base_uri": "https://localhost:8080/"
        },
        "outputId": "2faee67f-9057-4ae5-8791-739872a73ea9",
        "id": "cDCXvhteu_LB"
      },
      "outputs": [
        {
          "output_type": "stream",
          "name": "stdout",
          "text": [
            "Accuracy: 23.26%\n"
          ]
        }
      ],
      "source": [
        "X_train = df[['Pclass', 'Sex']]\n",
        "y_train = y\n",
        "\n",
        "X_test = df_test[['Pclass', 'Sex']]\n",
        "\n",
        "learning_rate = 0.5\n",
        "epochs = 10000\n",
        "weights, bias, accuracy_history = train_single_layer_perceptron(X_train, y_train, learning_rate, epochs)\n",
        "\n",
        "predictions = predict(X_test, weights, bias, sigmoid)\n",
        "\n",
        "accuracy = evaluate_accuracy(predictions, df_truth['Survived'])\n",
        "print(f\"Accuracy: {accuracy * 100:.2f}%\")\n",
        "\n"
      ]
    },
    {
      "cell_type": "markdown",
      "metadata": {
        "id": "2Rndb5P1u_LB"
      },
      "source": [
        "#menggunakan 2 kolom : Pclass dan Age"
      ]
    },
    {
      "cell_type": "code",
      "execution_count": null,
      "metadata": {
        "colab": {
          "base_uri": "https://localhost:8080/"
        },
        "outputId": "e31c091c-0613-4078-b7cf-f9444fad4573",
        "id": "aFDZMzj-u_LC"
      },
      "outputs": [
        {
          "output_type": "stream",
          "name": "stdout",
          "text": [
            "Accuracy: 51.36%\n"
          ]
        },
        {
          "output_type": "stream",
          "name": "stderr",
          "text": [
            "<ipython-input-198-ba958b7a01d2>:11: RuntimeWarning: overflow encountered in exp\n",
            "  return 1 / (1 + np.exp(-x))\n"
          ]
        }
      ],
      "source": [
        "X_train = df[['Pclass', 'Age']]\n",
        "y_train = y\n",
        "\n",
        "X_test = df_test[['Pclass', 'Age']]\n",
        "\n",
        "learning_rate = 0.5\n",
        "epochs = 10000\n",
        "weights, bias, accuracy_history = train_single_layer_perceptron(X_train, y_train, learning_rate, epochs)\n",
        "\n",
        "predictions = predict(X_test, weights, bias, sigmoid)\n",
        "\n",
        "accuracy = evaluate_accuracy(predictions, df_truth['Survived'])\n",
        "print(f\"Accuracy: {accuracy * 100:.2f}%\")\n",
        "\n"
      ]
    },
    {
      "cell_type": "markdown",
      "metadata": {
        "id": "Exoc9OeOu_LC"
      },
      "source": [
        "#menggunakan 2 kolom: Fare dan pclass"
      ]
    },
    {
      "cell_type": "code",
      "execution_count": null,
      "metadata": {
        "colab": {
          "base_uri": "https://localhost:8080/"
        },
        "outputId": "aac83791-5f53-4954-c8ca-29805de608d6",
        "id": "nm3z-CN9u_LC"
      },
      "outputs": [
        {
          "output_type": "stream",
          "name": "stdout",
          "text": [
            "Accuracy: 58.61%\n"
          ]
        },
        {
          "output_type": "stream",
          "name": "stderr",
          "text": [
            "<ipython-input-198-ba958b7a01d2>:11: RuntimeWarning: overflow encountered in exp\n",
            "  return 1 / (1 + np.exp(-x))\n"
          ]
        }
      ],
      "source": [
        "X_train = df[['Pclass', 'Fare']]\n",
        "y_train = y\n",
        "\n",
        "X_test = df_test[['Pclass', 'Fare']]\n",
        "\n",
        "learning_rate = 0.5\n",
        "epochs = 10000\n",
        "weights, bias, accuracy_history = train_single_layer_perceptron(X_train, y_train, learning_rate, epochs)\n",
        "\n",
        "predictions = predict(X_test, weights, bias, sigmoid)\n",
        "\n",
        "accuracy = evaluate_accuracy(predictions, df_truth['Survived'])\n",
        "print(f\"Accuracy: {accuracy * 100:.2f}%\")\n",
        "\n"
      ]
    },
    {
      "cell_type": "markdown",
      "metadata": {
        "id": "6FnPqieFu_LC"
      },
      "source": [
        "#menggunakan 2 kolom : Age dan fare"
      ]
    },
    {
      "cell_type": "code",
      "execution_count": null,
      "metadata": {
        "colab": {
          "base_uri": "https://localhost:8080/"
        },
        "outputId": "ba49a268-1df1-499a-f63c-3fbd244ffc09",
        "id": "-ctl8II3u_LC"
      },
      "outputs": [
        {
          "output_type": "stream",
          "name": "stdout",
          "text": [
            "Accuracy: 63.14%\n"
          ]
        },
        {
          "output_type": "stream",
          "name": "stderr",
          "text": [
            "<ipython-input-198-ba958b7a01d2>:11: RuntimeWarning: overflow encountered in exp\n",
            "  return 1 / (1 + np.exp(-x))\n"
          ]
        }
      ],
      "source": [
        "X_train = df[[ 'Age', 'Fare']]\n",
        "y_train = y\n",
        "\n",
        "X_test = df_test[['Age', 'Fare']]\n",
        "\n",
        "learning_rate = 0.5\n",
        "epochs = 10000\n",
        "weights, bias, accuracy_history = train_single_layer_perceptron(X_train, y_train, learning_rate, epochs)\n",
        "\n",
        "predictions = predict(X_test, weights, bias, sigmoid)\n",
        "\n",
        "accuracy = evaluate_accuracy(predictions, df_truth['Survived'])\n",
        "print(f\"Accuracy: {accuracy * 100:.2f}%\")\n",
        "\n"
      ]
    },
    {
      "cell_type": "markdown",
      "metadata": {
        "id": "UjaJshKEu_LC"
      },
      "source": [
        "#menggunakan 2 kolom : Age dan Sex"
      ]
    },
    {
      "cell_type": "code",
      "execution_count": null,
      "metadata": {
        "colab": {
          "base_uri": "https://localhost:8080/"
        },
        "outputId": "83beb3b4-cabf-4016-9127-845a023a62ec",
        "id": "FTFD77xyu_LC"
      },
      "outputs": [
        {
          "output_type": "stream",
          "name": "stdout",
          "text": [
            "Accuracy: 87.61%\n"
          ]
        },
        {
          "output_type": "stream",
          "name": "stderr",
          "text": [
            "<ipython-input-198-ba958b7a01d2>:11: RuntimeWarning: overflow encountered in exp\n",
            "  return 1 / (1 + np.exp(-x))\n"
          ]
        }
      ],
      "source": [
        "X_train = df[[ 'Sex', 'Age']]\n",
        "y_train = y\n",
        "\n",
        "X_test = df_test[['Sex', 'Age']]\n",
        "\n",
        "learning_rate = 0.5\n",
        "epochs = 10000\n",
        "weights, bias, accuracy_history = train_single_layer_perceptron(X_train, y_train, learning_rate, epochs)\n",
        "\n",
        "predictions = predict(X_test, weights, bias, sigmoid)\n",
        "\n",
        "accuracy = evaluate_accuracy(predictions, df_truth['Survived'])\n",
        "print(f\"Accuracy: {accuracy * 100:.2f}%\")\n",
        "\n"
      ]
    },
    {
      "cell_type": "markdown",
      "metadata": {
        "id": "k94UxIVRu_LC"
      },
      "source": [
        "#menggunakan 2 kolom : Sex dan fare"
      ]
    },
    {
      "cell_type": "code",
      "execution_count": null,
      "metadata": {
        "colab": {
          "base_uri": "https://localhost:8080/"
        },
        "outputId": "824a9713-ff1f-4ed2-aaf6-927bb99fe7b0",
        "id": "HZHGNp5tu_LC"
      },
      "outputs": [
        {
          "output_type": "stream",
          "name": "stdout",
          "text": [
            "Accuracy: 77.64%\n"
          ]
        },
        {
          "output_type": "stream",
          "name": "stderr",
          "text": [
            "<ipython-input-198-ba958b7a01d2>:11: RuntimeWarning: overflow encountered in exp\n",
            "  return 1 / (1 + np.exp(-x))\n"
          ]
        }
      ],
      "source": [
        "X_train = df[['Sex', 'Fare']]\n",
        "y_train = y\n",
        "\n",
        "X_test = df_test[[ 'Sex', 'Fare']]\n",
        "\n",
        "learning_rate = 0.5\n",
        "epochs = 10000\n",
        "weights, bias, accuracy_history = train_single_layer_perceptron(X_train, y_train, learning_rate, epochs)\n",
        "\n",
        "predictions = predict(X_test, weights, bias, sigmoid)\n",
        "\n",
        "accuracy = evaluate_accuracy(predictions, df_truth['Survived'])\n",
        "print(f\"Accuracy: {accuracy * 100:.2f}%\")\n",
        "\n"
      ]
    },
    {
      "cell_type": "markdown",
      "metadata": {
        "id": "HV3pDUXhu_LC"
      },
      "source": [
        "# menggunakan 3 kolom : sex,age,fare"
      ]
    },
    {
      "cell_type": "code",
      "execution_count": null,
      "metadata": {
        "colab": {
          "base_uri": "https://localhost:8080/"
        },
        "outputId": "e4797c6d-f3e4-4003-d361-c76d9b581fa8",
        "id": "dVkeP3Iou_LD"
      },
      "outputs": [
        {
          "output_type": "stream",
          "name": "stdout",
          "text": [
            "Accuracy: 71.60%\n"
          ]
        },
        {
          "output_type": "stream",
          "name": "stderr",
          "text": [
            "<ipython-input-198-ba958b7a01d2>:11: RuntimeWarning: overflow encountered in exp\n",
            "  return 1 / (1 + np.exp(-x))\n"
          ]
        }
      ],
      "source": [
        "X_train = df[[ 'Sex', 'Age', 'Fare']]\n",
        "y_train = y\n",
        "\n",
        "X_test = df_test[[ 'Sex', 'Age', 'Fare']]\n",
        "\n",
        "learning_rate = 0.5\n",
        "epochs = 10000\n",
        "weights, bias, accuracy_history = train_single_layer_perceptron(X_train, y_train, learning_rate, epochs)\n",
        "\n",
        "predictions = predict(X_test, weights, bias, sigmoid)\n",
        "\n",
        "accuracy = evaluate_accuracy(predictions, df_truth['Survived'])\n",
        "print(f\"Accuracy: {accuracy * 100:.2f}%\")\n",
        "\n"
      ]
    },
    {
      "cell_type": "markdown",
      "metadata": {
        "id": "PqKPF71Eu_LD"
      },
      "source": [
        "#menggunakan 3 kolom:Age, fare ,pclass"
      ]
    },
    {
      "cell_type": "code",
      "execution_count": null,
      "metadata": {
        "colab": {
          "base_uri": "https://localhost:8080/"
        },
        "outputId": "c8bda884-e969-4b59-a49a-ea61cb2f1d63",
        "id": "Y8bBmYk7u_LD"
      },
      "outputs": [
        {
          "output_type": "stream",
          "name": "stdout",
          "text": [
            "Accuracy: 61.93%\n"
          ]
        }
      ],
      "source": [
        "X_train = df[['Pclass', 'Age', 'Fare']]\n",
        "y_train = y\n",
        "\n",
        "X_test = df_test[['Pclass', 'Age', 'Fare']]\n",
        "\n",
        "learning_rate = 0.5\n",
        "epochs = 10000\n",
        "weights, bias, accuracy_history = train_single_layer_perceptron(X_train, y_train, learning_rate, epochs)\n",
        "\n",
        "predictions = predict(X_test, weights, bias, sigmoid)\n",
        "\n",
        "accuracy = evaluate_accuracy(predictions, df_truth['Survived'])\n",
        "print(f\"Accuracy: {accuracy * 100:.2f}%\")\n",
        "\n"
      ]
    },
    {
      "cell_type": "markdown",
      "metadata": {
        "id": "AAzGfZ-Xu_LD"
      },
      "source": [
        "#menggunakan 3 kolom:pclass,fare, sex"
      ]
    },
    {
      "cell_type": "code",
      "execution_count": null,
      "metadata": {
        "colab": {
          "base_uri": "https://localhost:8080/"
        },
        "outputId": "286f1353-3f27-40c8-c05f-4127c97c3508",
        "id": "FsUHlnKdu_LD"
      },
      "outputs": [
        {
          "output_type": "stream",
          "name": "stdout",
          "text": [
            "Accuracy: 91.54%\n"
          ]
        },
        {
          "output_type": "stream",
          "name": "stderr",
          "text": [
            "<ipython-input-198-ba958b7a01d2>:11: RuntimeWarning: overflow encountered in exp\n",
            "  return 1 / (1 + np.exp(-x))\n"
          ]
        }
      ],
      "source": [
        "X_train = df[['Pclass', 'Sex', 'Fare']]\n",
        "y_train = y\n",
        "\n",
        "X_test = df_test[['Pclass', 'Sex', 'Fare']]\n",
        "\n",
        "learning_rate = 0.5\n",
        "epochs = 10000\n",
        "weights, bias, accuracy_history = train_single_layer_perceptron(X_train, y_train, learning_rate, epochs)\n",
        "\n",
        "predictions = predict(X_test, weights, bias, sigmoid)\n",
        "\n",
        "accuracy = evaluate_accuracy(predictions, df_truth['Survived'])\n",
        "print(f\"Accuracy: {accuracy * 100:.2f}%\")\n",
        "\n"
      ]
    },
    {
      "cell_type": "markdown",
      "metadata": {
        "id": "ZnCpxG7yu_LD"
      },
      "source": [
        "#menggunakan 3 kolom : pclass,sex,age"
      ]
    },
    {
      "cell_type": "code",
      "execution_count": null,
      "metadata": {
        "colab": {
          "base_uri": "https://localhost:8080/"
        },
        "outputId": "6e0e0e8d-d9ce-445d-fd2b-b6b76d2f5808",
        "id": "486fGKsbu_LD"
      },
      "outputs": [
        {
          "output_type": "stream",
          "name": "stdout",
          "text": [
            "Accuracy: 64.05%\n"
          ]
        },
        {
          "output_type": "stream",
          "name": "stderr",
          "text": [
            "<ipython-input-198-ba958b7a01d2>:11: RuntimeWarning: overflow encountered in exp\n",
            "  return 1 / (1 + np.exp(-x))\n"
          ]
        }
      ],
      "source": [
        "X_train = df[['Pclass', 'Sex', 'Age']]\n",
        "y_train = y\n",
        "\n",
        "X_test = df_test[['Pclass', 'Sex', 'Age']]\n",
        "\n",
        "learning_rate = 0.5\n",
        "epochs = 10000\n",
        "weights, bias, accuracy_history = train_single_layer_perceptron(X_train, y_train, learning_rate, epochs)\n",
        "\n",
        "predictions = predict(X_test, weights, bias, sigmoid)\n",
        "\n",
        "accuracy = evaluate_accuracy(predictions, df_truth['Survived'])\n",
        "print(f\"Accuracy: {accuracy * 100:.2f}%\")\n",
        "\n"
      ]
    },
    {
      "cell_type": "markdown",
      "source": [
        "#Pengaruh Epoch\n",
        "\n",
        "\n",
        "\n"
      ],
      "metadata": {
        "id": "1JYz9c2fqXA5"
      }
    },
    {
      "cell_type": "markdown",
      "source": [
        "#**Epoch : 100 - 1000**"
      ],
      "metadata": {
        "id": "jhUbRhMKsjFg"
      }
    },
    {
      "cell_type": "code",
      "execution_count": null,
      "metadata": {
        "id": "HQS6W4lFss-E",
        "colab": {
          "base_uri": "https://localhost:8080/"
        },
        "outputId": "33ffbcdb-440f-4b47-972b-6ae7d3e34f71"
      },
      "outputs": [
        {
          "output_type": "stream",
          "name": "stdout",
          "text": [
            "Accuracy: 76.13%\n"
          ]
        }
      ],
      "source": [
        "X_train = df[['Pclass', 'Sex', 'Age']]\n",
        "y_train = y\n",
        "\n",
        "X_test = df_test[['Pclass', 'Sex', 'Age']]\n",
        "\n",
        "learning_rate = 0.4\n",
        "epochs = 100\n",
        "weights, bias, accuracy_history = train_single_layer_perceptron(X_train, y_train, learning_rate, epochs)\n",
        "\n",
        "predictions = predict(X_test, weights, bias, step)\n",
        "\n",
        "accuracy = evaluate_accuracy(predictions, df_truth['Survived'])\n",
        "print(f\"Accuracy: {accuracy * 100:.2f}%\")\n",
        "\n"
      ]
    },
    {
      "cell_type": "code",
      "execution_count": null,
      "metadata": {
        "id": "YbHQZoxxsxOQ",
        "colab": {
          "base_uri": "https://localhost:8080/"
        },
        "outputId": "dde87819-0030-42fb-ac78-945f4e68d352"
      },
      "outputs": [
        {
          "output_type": "stream",
          "name": "stdout",
          "text": [
            "Accuracy: 61.63%\n"
          ]
        }
      ],
      "source": [
        "X_train = df[['Pclass', 'Sex', 'Age']]\n",
        "y_train = y\n",
        "\n",
        "X_test = df_test[['Pclass', 'Sex', 'Age']]\n",
        "\n",
        "learning_rate = 0.4\n",
        "epochs = 200\n",
        "weights, bias, accuracy_history = train_single_layer_perceptron(X_train, y_train, learning_rate, epochs)\n",
        "\n",
        "predictions = predict(X_test, weights, bias, step)\n",
        "\n",
        "accuracy = evaluate_accuracy(predictions, df_truth['Survived'])\n",
        "print(f\"Accuracy: {accuracy * 100:.2f}%\")\n",
        "\n"
      ]
    },
    {
      "cell_type": "code",
      "execution_count": null,
      "metadata": {
        "id": "iicCDE8Js1pr",
        "colab": {
          "base_uri": "https://localhost:8080/"
        },
        "outputId": "05c75561-bc6c-4ea9-e9f4-e7c5b88b5d4d"
      },
      "outputs": [
        {
          "output_type": "stream",
          "name": "stdout",
          "text": [
            "Accuracy: 50.15%\n"
          ]
        }
      ],
      "source": [
        "X_train = df[['Pclass', 'Sex', 'Age']]\n",
        "y_train = y\n",
        "\n",
        "X_test = df_test[['Pclass', 'Sex', 'Age']]\n",
        "\n",
        "learning_rate = 0.4\n",
        "epochs = 300\n",
        "weights, bias, accuracy_history = train_single_layer_perceptron(X_train, y_train, learning_rate, epochs)\n",
        "\n",
        "predictions = predict(X_test, weights, bias, step)\n",
        "\n",
        "accuracy = evaluate_accuracy(predictions, df_truth['Survived'])\n",
        "print(f\"Accuracy: {accuracy * 100:.2f}%\")\n",
        "\n"
      ]
    },
    {
      "cell_type": "code",
      "execution_count": null,
      "metadata": {
        "id": "0yj_6VQys4bV",
        "colab": {
          "base_uri": "https://localhost:8080/"
        },
        "outputId": "30c27f7b-e0b3-4752-f85e-4f8691cfe9f2"
      },
      "outputs": [
        {
          "output_type": "stream",
          "name": "stdout",
          "text": [
            "Accuracy: 77.64%\n"
          ]
        }
      ],
      "source": [
        "X_train = df[['Pclass', 'Sex', 'Age']]\n",
        "y_train = y\n",
        "\n",
        "X_test = df_test[['Pclass', 'Sex', 'Age']]\n",
        "\n",
        "learning_rate = 0.4\n",
        "epochs = 400\n",
        "weights, bias, accuracy_history = train_single_layer_perceptron(X_train, y_train, learning_rate, epochs)\n",
        "\n",
        "predictions = predict(X_test, weights, bias, step)\n",
        "\n",
        "accuracy = evaluate_accuracy(predictions, df_truth['Survived'])\n",
        "print(f\"Accuracy: {accuracy * 100:.2f}%\")\n",
        "\n"
      ]
    },
    {
      "cell_type": "code",
      "execution_count": null,
      "metadata": {
        "id": "cRnMou-Qs6p-",
        "colab": {
          "base_uri": "https://localhost:8080/"
        },
        "outputId": "03ffce76-f70f-4ea5-8415-8739ae6fc443"
      },
      "outputs": [
        {
          "output_type": "stream",
          "name": "stdout",
          "text": [
            "Accuracy: 61.63%\n"
          ]
        }
      ],
      "source": [
        "X_train = df[['Pclass', 'Sex', 'Age']]\n",
        "y_train = y\n",
        "\n",
        "X_test = df_test[['Pclass', 'Sex', 'Age']]\n",
        "\n",
        "learning_rate = 0.4\n",
        "epochs = 500\n",
        "weights, bias, accuracy_history = train_single_layer_perceptron(X_train, y_train, learning_rate, epochs)\n",
        "\n",
        "predictions = predict(X_test, weights, bias, step)\n",
        "\n",
        "accuracy = evaluate_accuracy(predictions, df_truth['Survived'])\n",
        "print(f\"Accuracy: {accuracy * 100:.2f}%\")\n",
        "\n"
      ]
    },
    {
      "cell_type": "code",
      "execution_count": null,
      "metadata": {
        "id": "ivhpEkyvs9PX",
        "colab": {
          "base_uri": "https://localhost:8080/"
        },
        "outputId": "3015ea36-f274-41b0-e665-6d4f5059b779"
      },
      "outputs": [
        {
          "output_type": "stream",
          "name": "stdout",
          "text": [
            "Accuracy: 45.32%\n"
          ]
        }
      ],
      "source": [
        "X_train = df[['Pclass', 'Sex', 'Age']]\n",
        "y_train = y\n",
        "\n",
        "X_test = df_test[['Pclass', 'Sex', 'Age']]\n",
        "\n",
        "learning_rate = 0.4\n",
        "epochs = 600\n",
        "weights, bias, accuracy_history = train_single_layer_perceptron(X_train, y_train, learning_rate, epochs)\n",
        "\n",
        "predictions = predict(X_test, weights, bias, step)\n",
        "\n",
        "accuracy = evaluate_accuracy(predictions, df_truth['Survived'])\n",
        "print(f\"Accuracy: {accuracy * 100:.2f}%\")\n",
        "\n"
      ]
    },
    {
      "cell_type": "code",
      "execution_count": null,
      "metadata": {
        "id": "GZfs5qsntABG",
        "colab": {
          "base_uri": "https://localhost:8080/"
        },
        "outputId": "6fb25f70-3e69-446d-939b-74f62e9260ff"
      },
      "outputs": [
        {
          "output_type": "stream",
          "name": "stdout",
          "text": [
            "Accuracy: 62.24%\n"
          ]
        }
      ],
      "source": [
        "X_train = df[['Pclass', 'Sex', 'Age']]\n",
        "y_train = y\n",
        "\n",
        "X_test = df_test[['Pclass', 'Sex', 'Age']]\n",
        "\n",
        "learning_rate = 0.4\n",
        "epochs = 700\n",
        "weights, bias, accuracy_history = train_single_layer_perceptron(X_train, y_train, learning_rate, epochs)\n",
        "\n",
        "predictions = predict(X_test, weights, bias, step)\n",
        "\n",
        "accuracy = evaluate_accuracy(predictions, df_truth['Survived'])\n",
        "print(f\"Accuracy: {accuracy * 100:.2f}%\")\n",
        "\n"
      ]
    },
    {
      "cell_type": "code",
      "execution_count": null,
      "metadata": {
        "id": "nIyyq-QdtClU",
        "colab": {
          "base_uri": "https://localhost:8080/"
        },
        "outputId": "9fefcd7c-4bad-4277-a091-6fa70ffc7638"
      },
      "outputs": [
        {
          "output_type": "stream",
          "name": "stdout",
          "text": [
            "Accuracy: 62.24%\n"
          ]
        }
      ],
      "source": [
        "X_train = df[['Pclass', 'Sex', 'Age']]\n",
        "y_train = y\n",
        "\n",
        "X_test = df_test[['Pclass', 'Sex', 'Age']]\n",
        "\n",
        "learning_rate = 0.4\n",
        "epochs = 800\n",
        "weights, bias, accuracy_history = train_single_layer_perceptron(X_train, y_train, learning_rate, epochs)\n",
        "\n",
        "predictions = predict(X_test, weights, bias, step)\n",
        "\n",
        "accuracy = evaluate_accuracy(predictions, df_truth['Survived'])\n",
        "print(f\"Accuracy: {accuracy * 100:.2f}%\")\n",
        "\n"
      ]
    },
    {
      "cell_type": "code",
      "execution_count": null,
      "metadata": {
        "id": "zO7zEWdqtFja",
        "colab": {
          "base_uri": "https://localhost:8080/"
        },
        "outputId": "1d45a9c2-a2a1-4be2-84d9-8a264c13fa91"
      },
      "outputs": [
        {
          "output_type": "stream",
          "name": "stdout",
          "text": [
            "Accuracy: 62.24%\n"
          ]
        }
      ],
      "source": [
        "X_train = df[['Pclass', 'Sex', 'Age']]\n",
        "y_train = y\n",
        "\n",
        "X_test = df_test[['Pclass', 'Sex', 'Age']]\n",
        "\n",
        "learning_rate = 0.4\n",
        "epochs = 900\n",
        "weights, bias, accuracy_history = train_single_layer_perceptron(X_train, y_train, learning_rate, epochs)\n",
        "\n",
        "predictions = predict(X_test, weights, bias, step)\n",
        "\n",
        "accuracy = evaluate_accuracy(predictions, df_truth['Survived'])\n",
        "print(f\"Accuracy: {accuracy * 100:.2f}%\")\n",
        "\n"
      ]
    },
    {
      "cell_type": "code",
      "execution_count": null,
      "metadata": {
        "id": "OvIkyGJPqarU",
        "colab": {
          "base_uri": "https://localhost:8080/"
        },
        "outputId": "5990c8eb-2300-4b6a-a901-50787d99eb1c"
      },
      "outputs": [
        {
          "output_type": "stream",
          "name": "stdout",
          "text": [
            "Accuracy: 40.79%\n"
          ]
        }
      ],
      "source": [
        "X_train = df[['Pclass', 'Sex', 'Age']]\n",
        "y_train = y\n",
        "\n",
        "X_test = df_test[['Pclass', 'Sex', 'Age']]\n",
        "\n",
        "learning_rate = 0.4\n",
        "epochs = 1000\n",
        "weights, bias, accuracy_history = train_single_layer_perceptron(X_train, y_train, learning_rate, epochs)\n",
        "\n",
        "predictions = predict(X_test, weights, bias, step)\n",
        "\n",
        "accuracy = evaluate_accuracy(predictions, df_truth['Survived'])\n",
        "print(f\"Accuracy: {accuracy * 100:.2f}%\")\n",
        "\n"
      ]
    },
    {
      "cell_type": "markdown",
      "source": [
        "#**epoch:1100-2000**"
      ],
      "metadata": {
        "id": "sT7fXRePtKE-"
      }
    },
    {
      "cell_type": "code",
      "execution_count": null,
      "metadata": {
        "id": "UaZC5PCutSfS",
        "colab": {
          "base_uri": "https://localhost:8080/"
        },
        "outputId": "26dde6af-0436-4b31-860a-08ca55102299"
      },
      "outputs": [
        {
          "output_type": "stream",
          "name": "stdout",
          "text": [
            "Accuracy: 62.54%\n"
          ]
        }
      ],
      "source": [
        "X_train = df[['Pclass', 'Sex', 'Age']]\n",
        "y_train = y\n",
        "\n",
        "X_test = df_test[['Pclass', 'Sex', 'Age']]\n",
        "\n",
        "learning_rate = 0.4\n",
        "epochs = 1100\n",
        "weights, bias, accuracy_history = train_single_layer_perceptron(X_train, y_train, learning_rate, epochs)\n",
        "\n",
        "predictions = predict(X_test, weights, bias, step)\n",
        "\n",
        "accuracy = evaluate_accuracy(predictions, df_truth['Survived'])\n",
        "print(f\"Accuracy: {accuracy * 100:.2f}%\")\n",
        "\n"
      ]
    },
    {
      "cell_type": "code",
      "execution_count": null,
      "metadata": {
        "id": "-VxouRj5tVRU",
        "colab": {
          "base_uri": "https://localhost:8080/"
        },
        "outputId": "c5c44002-8283-4281-cc26-41fe65f01dc5"
      },
      "outputs": [
        {
          "output_type": "stream",
          "name": "stdout",
          "text": [
            "Accuracy: 62.24%\n"
          ]
        }
      ],
      "source": [
        "X_train = df[['Pclass', 'Sex', 'Age']]\n",
        "y_train = y\n",
        "\n",
        "X_test = df_test[['Pclass', 'Sex', 'Age']]\n",
        "\n",
        "learning_rate = 0.4\n",
        "epochs = 1200\n",
        "weights, bias, accuracy_history = train_single_layer_perceptron(X_train, y_train, learning_rate, epochs)\n",
        "\n",
        "predictions = predict(X_test, weights, bias, step)\n",
        "\n",
        "accuracy = evaluate_accuracy(predictions, df_truth['Survived'])\n",
        "print(f\"Accuracy: {accuracy * 100:.2f}%\")\n",
        "\n"
      ]
    },
    {
      "cell_type": "code",
      "execution_count": null,
      "metadata": {
        "id": "G_lS3AuxtYCO",
        "colab": {
          "base_uri": "https://localhost:8080/"
        },
        "outputId": "a2a2073d-67b7-468c-c2f7-8aa0976210d8"
      },
      "outputs": [
        {
          "output_type": "stream",
          "name": "stdout",
          "text": [
            "Accuracy: 87.92%\n"
          ]
        }
      ],
      "source": [
        "X_train = df[['Pclass', 'Sex', 'Age']]\n",
        "y_train = y\n",
        "\n",
        "X_test = df_test[['Pclass', 'Sex', 'Age']]\n",
        "\n",
        "learning_rate = 0.4\n",
        "epochs = 1300\n",
        "weights, bias, accuracy_history = train_single_layer_perceptron(X_train, y_train, learning_rate, epochs)\n",
        "\n",
        "predictions = predict(X_test, weights, bias, step)\n",
        "\n",
        "accuracy = evaluate_accuracy(predictions, df_truth['Survived'])\n",
        "print(f\"Accuracy: {accuracy * 100:.2f}%\")\n",
        "\n"
      ]
    },
    {
      "cell_type": "code",
      "execution_count": null,
      "metadata": {
        "id": "ITw0cxM2tb7N",
        "colab": {
          "base_uri": "https://localhost:8080/"
        },
        "outputId": "15fb7172-37ec-4364-f261-56e0775be5d9"
      },
      "outputs": [
        {
          "output_type": "stream",
          "name": "stdout",
          "text": [
            "Accuracy: 69.79%\n"
          ]
        }
      ],
      "source": [
        "X_train = df[['Pclass', 'Sex', 'Age']]\n",
        "y_train = y\n",
        "\n",
        "X_test = df_test[['Pclass', 'Sex', 'Age']]\n",
        "\n",
        "learning_rate = 0.4\n",
        "epochs = 1400\n",
        "weights, bias, accuracy_history = train_single_layer_perceptron(X_train, y_train, learning_rate, epochs)\n",
        "\n",
        "predictions = predict(X_test, weights, bias, step)\n",
        "\n",
        "accuracy = evaluate_accuracy(predictions, df_truth['Survived'])\n",
        "print(f\"Accuracy: {accuracy * 100:.2f}%\")\n",
        "\n"
      ]
    },
    {
      "cell_type": "code",
      "execution_count": null,
      "metadata": {
        "id": "RnBwkbmMtfIp",
        "colab": {
          "base_uri": "https://localhost:8080/"
        },
        "outputId": "51f70042-20b4-454b-af2e-f09a9cf1ae64"
      },
      "outputs": [
        {
          "output_type": "stream",
          "name": "stdout",
          "text": [
            "Accuracy: 62.54%\n"
          ]
        }
      ],
      "source": [
        "X_train = df[['Pclass', 'Sex', 'Age']]\n",
        "y_train = y\n",
        "\n",
        "X_test = df_test[['Pclass', 'Sex', 'Age']]\n",
        "\n",
        "learning_rate = 0.4\n",
        "epochs = 1500\n",
        "weights, bias, accuracy_history = train_single_layer_perceptron(X_train, y_train, learning_rate, epochs)\n",
        "\n",
        "predictions = predict(X_test, weights, bias, step)\n",
        "\n",
        "accuracy = evaluate_accuracy(predictions, df_truth['Survived'])\n",
        "print(f\"Accuracy: {accuracy * 100:.2f}%\")\n",
        "\n"
      ]
    },
    {
      "cell_type": "code",
      "execution_count": null,
      "metadata": {
        "id": "-8aahQ5wtjiW",
        "colab": {
          "base_uri": "https://localhost:8080/"
        },
        "outputId": "58711baf-d217-4d6c-90ac-91b07c683849"
      },
      "outputs": [
        {
          "output_type": "stream",
          "name": "stdout",
          "text": [
            "Accuracy: 81.57%\n"
          ]
        }
      ],
      "source": [
        "X_train = df[['Pclass', 'Sex', 'Age']]\n",
        "y_train = y\n",
        "\n",
        "X_test = df_test[['Pclass', 'Sex', 'Age']]\n",
        "\n",
        "learning_rate = 0.4\n",
        "epochs = 1600\n",
        "weights, bias, accuracy_history = train_single_layer_perceptron(X_train, y_train, learning_rate, epochs)\n",
        "\n",
        "predictions = predict(X_test, weights, bias, step)\n",
        "\n",
        "accuracy = evaluate_accuracy(predictions, df_truth['Survived'])\n",
        "print(f\"Accuracy: {accuracy * 100:.2f}%\")\n",
        "\n"
      ]
    },
    {
      "cell_type": "code",
      "execution_count": null,
      "metadata": {
        "id": "Pg1yyMoltnYa",
        "colab": {
          "base_uri": "https://localhost:8080/"
        },
        "outputId": "e698615e-543e-4311-9cd8-24997f14880f"
      },
      "outputs": [
        {
          "output_type": "stream",
          "name": "stdout",
          "text": [
            "Accuracy: 62.54%\n"
          ]
        }
      ],
      "source": [
        "X_train = df[['Pclass', 'Sex', 'Age']]\n",
        "y_train = y\n",
        "\n",
        "X_test = df_test[['Pclass', 'Sex', 'Age']]\n",
        "\n",
        "learning_rate = 0.4\n",
        "epochs = 1700\n",
        "weights, bias, accuracy_history = train_single_layer_perceptron(X_train, y_train, learning_rate, epochs)\n",
        "\n",
        "predictions = predict(X_test, weights, bias, step)\n",
        "\n",
        "accuracy = evaluate_accuracy(predictions, df_truth['Survived'])\n",
        "print(f\"Accuracy: {accuracy * 100:.2f}%\")\n",
        "\n"
      ]
    },
    {
      "cell_type": "code",
      "execution_count": null,
      "metadata": {
        "id": "Eo8_8w_qttNW",
        "colab": {
          "base_uri": "https://localhost:8080/"
        },
        "outputId": "6a1ef02d-6ba0-40b9-e7ce-7b5fc441375d"
      },
      "outputs": [
        {
          "output_type": "stream",
          "name": "stdout",
          "text": [
            "Accuracy: 82.18%\n"
          ]
        }
      ],
      "source": [
        "X_train = df[['Pclass', 'Sex', 'Age']]\n",
        "y_train = y\n",
        "\n",
        "X_test = df_test[['Pclass', 'Sex', 'Age']]\n",
        "\n",
        "learning_rate = 0.4\n",
        "epochs = 1800\n",
        "weights, bias, accuracy_history = train_single_layer_perceptron(X_train, y_train, learning_rate, epochs)\n",
        "\n",
        "predictions = predict(X_test, weights, bias, step)\n",
        "\n",
        "accuracy = evaluate_accuracy(predictions, df_truth['Survived'])\n",
        "print(f\"Accuracy: {accuracy * 100:.2f}%\")\n",
        "\n"
      ]
    },
    {
      "cell_type": "code",
      "execution_count": null,
      "metadata": {
        "id": "BJIK430gtzLV",
        "colab": {
          "base_uri": "https://localhost:8080/"
        },
        "outputId": "91cc2479-01f2-46db-8193-dff47a760441"
      },
      "outputs": [
        {
          "output_type": "stream",
          "name": "stdout",
          "text": [
            "Accuracy: 42.90%\n"
          ]
        }
      ],
      "source": [
        "X_train = df[['Pclass', 'Sex', 'Age']]\n",
        "y_train = y\n",
        "\n",
        "X_test = df_test[['Pclass', 'Sex', 'Age']]\n",
        "\n",
        "learning_rate = 0.4\n",
        "epochs = 1900\n",
        "weights, bias, accuracy_history = train_single_layer_perceptron(X_train, y_train, learning_rate, epochs)\n",
        "\n",
        "predictions = predict(X_test, weights, bias, step)\n",
        "\n",
        "accuracy = evaluate_accuracy(predictions, df_truth['Survived'])\n",
        "print(f\"Accuracy: {accuracy * 100:.2f}%\")\n",
        "\n"
      ]
    },
    {
      "cell_type": "code",
      "execution_count": null,
      "metadata": {
        "id": "KoK0ces8uCW5",
        "colab": {
          "base_uri": "https://localhost:8080/"
        },
        "outputId": "e7773782-9fca-4cf1-9e6d-a160b2073608"
      },
      "outputs": [
        {
          "output_type": "stream",
          "name": "stdout",
          "text": [
            "Accuracy: 62.54%\n"
          ]
        }
      ],
      "source": [
        "X_train = df[['Pclass', 'Sex', 'Age']]\n",
        "y_train = y\n",
        "\n",
        "X_test = df_test[['Pclass', 'Sex', 'Age']]\n",
        "\n",
        "learning_rate = 0.4\n",
        "epochs = 2000\n",
        "weights, bias, accuracy_history = train_single_layer_perceptron(X_train, y_train, learning_rate, epochs)\n",
        "\n",
        "predictions = predict(X_test, weights, bias, step)\n",
        "\n",
        "accuracy = evaluate_accuracy(predictions, df_truth['Survived'])\n",
        "print(f\"Accuracy: {accuracy * 100:.2f}%\")\n",
        "\n"
      ]
    },
    {
      "cell_type": "code",
      "source": [
        "X_train = df[['Pclass', 'Sex', 'Age']]\n",
        "y_train = y\n",
        "\n",
        "X_test = df_test[['Pclass', 'Sex', 'Age']]\n",
        "\n",
        "learning_rate = 0.4\n",
        "epochs = 2100\n",
        "weights, bias, accuracy_history = train_single_layer_perceptron(X_train, y_train, learning_rate, epochs)\n",
        "\n",
        "predictions = predict(X_test, weights, bias, step)\n",
        "\n",
        "accuracy = evaluate_accuracy(predictions, df_truth['Survived'])\n",
        "print(f\"Accuracy: {accuracy * 100:.2f}%\")\n"
      ],
      "metadata": {
        "id": "taplFfNKMFH3"
      },
      "execution_count": null,
      "outputs": []
    },
    {
      "cell_type": "code",
      "source": [
        "X_train = df[['Pclass', 'Sex', 'Age']]\n",
        "y_train = y\n",
        "\n",
        "X_test = df_test[['Pclass', 'Sex', 'Age']]\n",
        "\n",
        "learning_rate = 0.4\n",
        "epochs = 2200\n",
        "weights, bias, accuracy_history = train_single_layer_perceptron(X_train, y_train, learning_rate, epochs)\n",
        "\n",
        "predictions = predict(X_test, weights, bias, step)\n",
        "\n",
        "accuracy = evaluate_accuracy(predictions, df_truth['Survived'])\n",
        "print(f\"Accuracy: {accuracy * 100:.2f}%\")\n"
      ],
      "metadata": {
        "id": "b0r4PyAXMsTz"
      },
      "execution_count": null,
      "outputs": []
    },
    {
      "cell_type": "code",
      "source": [
        "X_train = df[['Pclass', 'Sex', 'Age']]\n",
        "y_train = y\n",
        "\n",
        "X_test = df_test[['Pclass', 'Sex', 'Age']]\n",
        "\n",
        "learning_rate = 0.4\n",
        "epochs = 2300\n",
        "weights, bias, accuracy_history = train_single_layer_perceptron(X_train, y_train, learning_rate, epochs)\n",
        "\n",
        "predictions = predict(X_test, weights, bias, step)\n",
        "\n",
        "accuracy = evaluate_accuracy(predictions, df_truth['Survived'])\n",
        "print(f\"Accuracy: {accuracy * 100:.2f}%\")\n"
      ],
      "metadata": {
        "id": "8pp31uWTMuJp"
      },
      "execution_count": null,
      "outputs": []
    },
    {
      "cell_type": "code",
      "source": [
        "X_train = df[['Pclass', 'Sex', 'Age']]\n",
        "y_train = y\n",
        "\n",
        "X_test = df_test[['Pclass', 'Sex', 'Age']]\n",
        "\n",
        "learning_rate = 0.4\n",
        "epochs = 2400\n",
        "weights, bias, accuracy_history = train_single_layer_perceptron(X_train, y_train, learning_rate, epochs)\n",
        "\n",
        "predictions = predict(X_test, weights, bias, step)\n",
        "\n",
        "accuracy = evaluate_accuracy(predictions, df_truth['Survived'])\n",
        "print(f\"Accuracy: {accuracy * 100:.2f}%\")\n"
      ],
      "metadata": {
        "id": "wMGI9WFHMv5P"
      },
      "execution_count": null,
      "outputs": []
    },
    {
      "cell_type": "code",
      "source": [
        "X_train = df[['Pclass', 'Sex', 'Age']]\n",
        "y_train = y\n",
        "\n",
        "X_test = df_test[['Pclass', 'Sex', 'Age']]\n",
        "\n",
        "learning_rate = 0.4\n",
        "epochs = 2500\n",
        "weights, bias, accuracy_history = train_single_layer_perceptron(X_train, y_train, learning_rate, epochs)\n",
        "\n",
        "predictions = predict(X_test, weights, bias, step)\n",
        "\n",
        "accuracy = evaluate_accuracy(predictions, df_truth['Survived'])\n",
        "print(f\"Accuracy: {accuracy * 100:.2f}%\")\n"
      ],
      "metadata": {
        "id": "IKjYaqE1MxkY"
      },
      "execution_count": null,
      "outputs": []
    },
    {
      "cell_type": "code",
      "source": [
        "X_train = df[['Pclass', 'Sex', 'Age']]\n",
        "y_train = y\n",
        "\n",
        "X_test = df_test[['Pclass', 'Sex', 'Age']]\n",
        "\n",
        "learning_rate = 0.4\n",
        "epochs = 2600\n",
        "weights, bias, accuracy_history = train_single_layer_perceptron(X_train, y_train, learning_rate, epochs)\n",
        "\n",
        "predictions = predict(X_test, weights, bias, step)\n",
        "\n",
        "accuracy = evaluate_accuracy(predictions, df_truth['Survived'])\n",
        "print(f\"Accuracy: {accuracy * 100:.2f}%\")\n"
      ],
      "metadata": {
        "id": "ADr8UomwM-0H"
      },
      "execution_count": null,
      "outputs": []
    },
    {
      "cell_type": "code",
      "source": [
        "X_train = df[['Pclass', 'Sex', 'Age']]\n",
        "y_train = y\n",
        "\n",
        "X_test = df_test[['Pclass', 'Sex', 'Age']]\n",
        "\n",
        "learning_rate = 0.4\n",
        "epochs = 2700\n",
        "weights, bias, accuracy_history = train_single_layer_perceptron(X_train, y_train, learning_rate, epochs)\n",
        "\n",
        "predictions = predict(X_test, weights, bias, step)\n",
        "\n",
        "accuracy = evaluate_accuracy(predictions, df_truth['Survived'])\n",
        "print(f\"Accuracy: {accuracy * 100:.2f}%\")\n"
      ],
      "metadata": {
        "id": "_GIMmxWINA37"
      },
      "execution_count": null,
      "outputs": []
    },
    {
      "cell_type": "code",
      "source": [
        "X_train = df[['Pclass', 'Sex', 'Age']]\n",
        "y_train = y\n",
        "\n",
        "X_test = df_test[['Pclass', 'Sex', 'Age']]\n",
        "\n",
        "learning_rate = 0.4\n",
        "epochs = 2800\n",
        "weights, bias, accuracy_history = train_single_layer_perceptron(X_train, y_train, learning_rate, epochs)\n",
        "\n",
        "predictions = predict(X_test, weights, bias, step)\n",
        "\n",
        "accuracy = evaluate_accuracy(predictions, df_truth['Survived'])\n",
        "print(f\"Accuracy: {accuracy * 100:.2f}%\")\n"
      ],
      "metadata": {
        "id": "mPXIEuuuNC10"
      },
      "execution_count": null,
      "outputs": []
    },
    {
      "cell_type": "code",
      "source": [
        "X_train = df[['Pclass', 'Sex', 'Age']]\n",
        "y_train = y\n",
        "\n",
        "X_test = df_test[['Pclass', 'Sex', 'Age']]\n",
        "\n",
        "learning_rate = 0.4\n",
        "epochs = 2900\n",
        "weights, bias, accuracy_history = train_single_layer_perceptron(X_train, y_train, learning_rate, epochs)\n",
        "\n",
        "predictions = predict(X_test, weights, bias, step)\n",
        "\n",
        "accuracy = evaluate_accuracy(predictions, df_truth['Survived'])\n",
        "print(f\"Accuracy: {accuracy * 100:.2f}%\")\n"
      ],
      "metadata": {
        "id": "Vpu0un2iNHGz"
      },
      "execution_count": null,
      "outputs": []
    },
    {
      "cell_type": "markdown",
      "source": [
        "#**epoch:3000**"
      ],
      "metadata": {
        "id": "kzIs03DVuFkl"
      }
    },
    {
      "cell_type": "code",
      "execution_count": null,
      "metadata": {
        "id": "90D7zlLeuJwf",
        "colab": {
          "base_uri": "https://localhost:8080/"
        },
        "outputId": "7cfef7b2-ed7e-46a1-fa5e-99eceb867133"
      },
      "outputs": [
        {
          "output_type": "stream",
          "name": "stdout",
          "text": [
            "Accuracy: 64.35%\n"
          ]
        }
      ],
      "source": [
        "X_train = df[['Pclass', 'Sex', 'Age']]\n",
        "y_train = y\n",
        "\n",
        "X_test = df_test[['Pclass', 'Sex', 'Age']]\n",
        "\n",
        "learning_rate = 0.4\n",
        "epochs = 3000\n",
        "weights, bias, accuracy_history = train_single_layer_perceptron(X_train, y_train, learning_rate, epochs)\n",
        "\n",
        "predictions = predict(X_test, weights, bias, step)\n",
        "\n",
        "accuracy = evaluate_accuracy(predictions, df_truth['Survived'])\n",
        "print(f\"Accuracy: {accuracy * 100:.2f}%\")\n",
        "\n"
      ]
    },
    {
      "cell_type": "code",
      "source": [
        "X_train = df[['Pclass', 'Sex', 'Age']]\n",
        "y_train = y\n",
        "\n",
        "X_test = df_test[['Pclass', 'Sex', 'Age']]\n",
        "\n",
        "learning_rate = 0.4\n",
        "epochs = 3100\n",
        "weights, bias, accuracy_history = train_single_layer_perceptron(X_train, y_train, learning_rate, epochs)\n",
        "\n",
        "predictions = predict(X_test, weights, bias, step)\n",
        "\n",
        "accuracy = evaluate_accuracy(predictions, df_truth['Survived'])\n",
        "print(f\"Accuracy: {accuracy * 100:.2f}%\")\n"
      ],
      "metadata": {
        "id": "Cb-LNW0hO56V"
      },
      "execution_count": null,
      "outputs": []
    },
    {
      "cell_type": "code",
      "source": [],
      "metadata": {
        "id": "We44X6FKO-Ug"
      },
      "execution_count": null,
      "outputs": []
    },
    {
      "cell_type": "markdown",
      "source": [
        "#**epoch:4000**"
      ],
      "metadata": {
        "id": "_zhzBaGpuLWG"
      }
    },
    {
      "cell_type": "code",
      "execution_count": null,
      "metadata": {
        "id": "9PCPvtPtuOAA",
        "colab": {
          "base_uri": "https://localhost:8080/"
        },
        "outputId": "14a7b4b8-b9f4-47ac-b959-bff68c05c3a3"
      },
      "outputs": [
        {
          "output_type": "stream",
          "name": "stdout",
          "text": [
            "Accuracy: 83.69%\n"
          ]
        }
      ],
      "source": [
        "X_train = df[['Pclass', 'Sex', 'Age']]\n",
        "y_train = y\n",
        "\n",
        "X_test = df_test[['Pclass', 'Sex', 'Age']]\n",
        "\n",
        "learning_rate = 0.4\n",
        "epochs = 4000\n",
        "weights, bias, accuracy_history = train_single_layer_perceptron(X_train, y_train, learning_rate, epochs)\n",
        "\n",
        "predictions = predict(X_test, weights, bias, step)\n",
        "\n",
        "accuracy = evaluate_accuracy(predictions, df_truth['Survived'])\n",
        "print(f\"Accuracy: {accuracy * 100:.2f}%\")\n",
        "\n"
      ]
    },
    {
      "cell_type": "markdown",
      "source": [
        "#**epoch:5000**"
      ],
      "metadata": {
        "id": "Mm5gJH9KuUnS"
      }
    },
    {
      "cell_type": "code",
      "execution_count": null,
      "metadata": {
        "id": "PTKMWPkcuYMo",
        "colab": {
          "base_uri": "https://localhost:8080/"
        },
        "outputId": "cafefc19-225f-4931-fc2e-07ca54fcbb7e"
      },
      "outputs": [
        {
          "output_type": "stream",
          "name": "stdout",
          "text": [
            "Accuracy: 83.38%\n"
          ]
        }
      ],
      "source": [
        "X_train = df[['Pclass', 'Sex', 'Age']]\n",
        "y_train = y\n",
        "\n",
        "X_test = df_test[['Pclass', 'Sex', 'Age']]\n",
        "\n",
        "learning_rate = 0.4\n",
        "epochs = 5000\n",
        "weights, bias, accuracy_history = train_single_layer_perceptron(X_train, y_train, learning_rate, epochs)\n",
        "\n",
        "predictions = predict(X_test, weights, bias, step)\n",
        "\n",
        "accuracy = evaluate_accuracy(predictions, df_truth['Survived'])\n",
        "print(f\"Accuracy: {accuracy * 100:.2f}%\")\n",
        "\n"
      ]
    },
    {
      "cell_type": "markdown",
      "source": [
        "#**epoch:6000**"
      ],
      "metadata": {
        "id": "cMPp1MvMuZw5"
      }
    },
    {
      "cell_type": "code",
      "execution_count": null,
      "metadata": {
        "id": "DZB_ndvSucr4",
        "colab": {
          "base_uri": "https://localhost:8080/"
        },
        "outputId": "c891d206-6b62-42fb-8e6b-10609b05c02e"
      },
      "outputs": [
        {
          "output_type": "stream",
          "name": "stdout",
          "text": [
            "Accuracy: 100.00%\n"
          ]
        }
      ],
      "source": [
        "X_train = df[['Pclass', 'Sex', 'Age']]\n",
        "y_train = y\n",
        "\n",
        "X_test = df_test[['Pclass', 'Sex', 'Age']]\n",
        "\n",
        "learning_rate = 0.4\n",
        "epochs = 6000\n",
        "weights, bias, accuracy_history = train_single_layer_perceptron(X_train, y_train, learning_rate, epochs)\n",
        "\n",
        "predictions = predict(X_test, weights, bias, step)\n",
        "\n",
        "accuracy = evaluate_accuracy(predictions, df_truth['Survived'])\n",
        "print(f\"Accuracy: {accuracy * 100:.2f}%\")\n",
        "\n"
      ]
    },
    {
      "cell_type": "markdown",
      "source": [
        "#**epoch:7000**"
      ],
      "metadata": {
        "id": "rul8kSp_uesy"
      }
    },
    {
      "cell_type": "code",
      "execution_count": null,
      "metadata": {
        "id": "qVwg4xA5uh4h",
        "colab": {
          "base_uri": "https://localhost:8080/"
        },
        "outputId": "01e4e2ee-dac4-483c-9935-b02a45a999e6"
      },
      "outputs": [
        {
          "output_type": "stream",
          "name": "stdout",
          "text": [
            "Accuracy: 50.76%\n"
          ]
        }
      ],
      "source": [
        "X_train = df[['Pclass', 'Sex', 'Age']]\n",
        "y_train = y\n",
        "\n",
        "X_test = df_test[['Pclass', 'Sex', 'Age']]\n",
        "\n",
        "learning_rate = 0.4\n",
        "epochs = 7000\n",
        "weights, bias, accuracy_history = train_single_layer_perceptron(X_train, y_train, learning_rate, epochs)\n",
        "\n",
        "predictions = predict(X_test, weights, bias, step)\n",
        "\n",
        "accuracy = evaluate_accuracy(predictions, df_truth['Survived'])\n",
        "print(f\"Accuracy: {accuracy * 100:.2f}%\")\n",
        "\n"
      ]
    },
    {
      "cell_type": "markdown",
      "source": [
        "#**epoch:8000**"
      ],
      "metadata": {
        "id": "Kg9mg-ynul70"
      }
    },
    {
      "cell_type": "code",
      "execution_count": null,
      "metadata": {
        "id": "sL5VPwMoupfv",
        "colab": {
          "base_uri": "https://localhost:8080/"
        },
        "outputId": "56a09cf7-5c12-4792-b490-571499868ea8"
      },
      "outputs": [
        {
          "output_type": "stream",
          "name": "stdout",
          "text": [
            "Accuracy: 76.44%\n"
          ]
        }
      ],
      "source": [
        "X_train = df[['Pclass', 'Sex', 'Age']]\n",
        "y_train = y\n",
        "\n",
        "X_test = df_test[['Pclass', 'Sex', 'Age']]\n",
        "\n",
        "learning_rate = 0.4\n",
        "epochs = 8000\n",
        "weights, bias, accuracy_history = train_single_layer_perceptron(X_train, y_train, learning_rate, epochs)\n",
        "\n",
        "predictions = predict(X_test, weights, bias, step)\n",
        "\n",
        "accuracy = evaluate_accuracy(predictions, df_truth['Survived'])\n",
        "print(f\"Accuracy: {accuracy * 100:.2f}%\")\n",
        "\n"
      ]
    },
    {
      "cell_type": "markdown",
      "source": [
        "#**epoch :9000**"
      ],
      "metadata": {
        "id": "klIIRr9HuvJ6"
      }
    },
    {
      "cell_type": "code",
      "execution_count": null,
      "metadata": {
        "id": "6UQqDaZVuy7s",
        "colab": {
          "base_uri": "https://localhost:8080/"
        },
        "outputId": "37f430ce-74df-40c0-f08e-efac9403aee1"
      },
      "outputs": [
        {
          "output_type": "stream",
          "name": "stdout",
          "text": [
            "Accuracy: 80.97%\n"
          ]
        }
      ],
      "source": [
        "X_train = df[['Pclass', 'Sex', 'Age']]\n",
        "y_train = y\n",
        "\n",
        "X_test = df_test[['Pclass', 'Sex', 'Age']]\n",
        "\n",
        "learning_rate = 0.4\n",
        "epochs = 9000\n",
        "weights, bias, accuracy_history = train_single_layer_perceptron(X_train, y_train, learning_rate, epochs)\n",
        "\n",
        "predictions = predict(X_test, weights, bias, step)\n",
        "\n",
        "accuracy = evaluate_accuracy(predictions, df_truth['Survived'])\n",
        "print(f\"Accuracy: {accuracy * 100:.2f}%\")\n",
        "\n"
      ]
    },
    {
      "cell_type": "markdown",
      "source": [
        "#**epoch : 10000**\n"
      ],
      "metadata": {
        "id": "U6ODvC9du1mc"
      }
    },
    {
      "cell_type": "code",
      "execution_count": null,
      "metadata": {
        "id": "Q0Ntrl-ju5IW",
        "colab": {
          "base_uri": "https://localhost:8080/"
        },
        "outputId": "63f70da7-d7f9-4caa-f56d-0b11f5c366c0"
      },
      "outputs": [
        {
          "output_type": "stream",
          "name": "stdout",
          "text": [
            "Accuracy: 84.59%\n"
          ]
        }
      ],
      "source": [
        "X_train = df[['Pclass', 'Sex', 'Age']]\n",
        "y_train = y\n",
        "\n",
        "X_test = df_test[['Pclass', 'Sex', 'Age']]\n",
        "\n",
        "learning_rate = 0.4\n",
        "epochs = 10000\n",
        "weights, bias, accuracy_history = train_single_layer_perceptron(X_train, y_train, learning_rate, epochs)\n",
        "\n",
        "predictions = predict(X_test, weights, bias, step)\n",
        "\n",
        "accuracy = evaluate_accuracy(predictions, df_truth['Survived'])\n",
        "print(f\"Accuracy: {accuracy * 100:.2f}%\")\n",
        "\n"
      ]
    },
    {
      "cell_type": "code",
      "execution_count": null,
      "metadata": {
        "id": "u_wd_G_GaaS-"
      },
      "outputs": [],
      "source": [
        "# import matplotlib.pyplot as plt\n",
        "# import seaborn as sns\n",
        "# accuracy_history = [accuracy_history1, accuracy_history2, accuracy_history3, accuracy_history4, accuracy_history5, accuracy_history6, accuracy_history7]\n",
        "\n",
        "# # Assuming all runs have the same number of epochs\n",
        "# epochs = len(accuracy_history1)\n",
        "\n",
        "# # Transpose the accuracy history for plotting\n",
        "# accuracy_history = list(map(list, zip(*accuracy_history)))\n",
        "\n",
        "# plt.figure(figsize=(10, 6))\n",
        "\n",
        "# for i, acc_history in enumerate(accuracy_history):\n",
        "#     plt.plot(range(1, epochs + 1), acc_history, marker='.', label=f'Run {i+1}')\n",
        "\n",
        "# plt.title('Accuracy over Epochs')\n",
        "# plt.xlabel('Epochs')\n",
        "# plt.ylabel('Accuracy')\n",
        "# plt.legend()\n",
        "# plt.grid(True)\n",
        "# plt.show()\n"
      ]
    }
  ],
  "metadata": {
    "colab": {
      "collapsed_sections": [
        "6yZI_V2w_3gY",
        "CauJ6HaWJsZ6",
        "xoCDO71BJ9r4",
        "P-Hjsa7GK6_h",
        "vvkhRR525Swc",
        "v_WsxKpUtywo",
        "ybiZpOhvt-LF",
        "AZqgNAVMwMnb",
        "L5Wlcx37wRS4",
        "f4b_WlBpwWhO",
        "7oZvRF78waf-",
        "sa0BjiB1wg0c",
        "dlVddmcauOYU",
        "eMItYz0Mueye",
        "6kLFQj8Yumy0",
        "BPW2bWz-u4kQ",
        "NCZV-DnIvDFh",
        "db19DSAxwsKJ",
        "iJbKR5O2wsKJ",
        "64sOYQo4wsKJ",
        "GHdmSyRawsKJ"
      ],
      "provenance": [],
      "include_colab_link": true
    },
    "kernelspec": {
      "display_name": "Python 3",
      "name": "python3"
    },
    "language_info": {
      "name": "python"
    }
  },
  "nbformat": 4,
  "nbformat_minor": 0
}